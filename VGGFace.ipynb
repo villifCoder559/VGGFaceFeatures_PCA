{
  "nbformat": 4,
  "nbformat_minor": 0,
  "metadata": {
    "colab": {
      "provenance": [],
      "authorship_tag": "ABX9TyNLXLswbLaldcp1u7o4yCgU",
      "include_colab_link": true
    },
    "kernelspec": {
      "name": "python3",
      "display_name": "Python 3"
    },
    "language_info": {
      "name": "python"
    }
  },
  "cells": [
    {
      "cell_type": "markdown",
      "metadata": {
        "id": "view-in-github",
        "colab_type": "text"
      },
      "source": [
        "<a href=\"https://colab.research.google.com/github/villifCoder559/VGGFaceFeatures_PCA/blob/main/VGGFace.ipynb\" target=\"_parent\"><img src=\"https://colab.research.google.com/assets/colab-badge.svg\" alt=\"Open In Colab\"/></a>"
      ]
    },
    {
      "cell_type": "code",
      "source": [
        "!pip install faiss-cpu --no-cache"
      ],
      "metadata": {
        "id": "yjaRyJjosHEd"
      },
      "execution_count": null,
      "outputs": []
    },
    {
      "cell_type": "code",
      "source": [
        "!pip install git+https://github.com/rcmalli/keras-vggface.git\n",
        "!pip install tensorflow keras_applications\n",
        "!pip install layer_utils"
      ],
      "metadata": {
        "id": "WvE2z802PlYv"
      },
      "execution_count": null,
      "outputs": []
    },
    {
      "cell_type": "code",
      "source": [
        "!pip install keras==2.12"
      ],
      "metadata": {
        "id": "B4_W4a6SCKMr"
      },
      "execution_count": null,
      "outputs": []
    },
    {
      "cell_type": "code",
      "source": [
        "import numpy as np\n",
        "import pandas as pd\n",
        "import cv2\n",
        "import keras\n",
        "from keras_vggface.vggface import VGGFace\n",
        "from sklearn.datasets import fetch_lfw_people\n",
        "from skimage.transform import resize\n",
        "import faiss\n",
        "from sklearn.decomposition import PCA\n",
        "import matplotlib.pyplot as plt\n",
        "from sklearn import metrics\n",
        "import pandas as pd"
      ],
      "metadata": {
        "id": "yPyZ0drGU3D5"
      },
      "execution_count": 4,
      "outputs": []
    },
    {
      "cell_type": "code",
      "source": [
        "from sklearn.model_selection import train_test_split\n",
        "faces = fetch_lfw_people(min_faces_per_person=70,resize=2.3,color=True)\n",
        "X_train, X_test, y_train, y_test = train_test_split(faces.images, faces.target, test_size=0.1, random_state=2)"
      ],
      "metadata": {
        "id": "Zcxhg9ceNqr_"
      },
      "execution_count": 5,
      "outputs": []
    },
    {
      "cell_type": "code",
      "source": [
        "image_samples_train=np.copy(X_train)\n",
        "image_samples_train=np.array([cv2.resize(img,(224,224)) for img in image_samples_train])\n",
        "image_samples_train[:,:,:,0]=(image_samples_train[:,:,:,0]-np.mean(X_train[:,:,:,0]))/(np.std(X_train[:,:,:,0]))\n",
        "image_samples_train[:,:,:,1]=(image_samples_train[:,:,:,1]-np.mean(X_train[:,:,:,1]))/(np.std(X_train[:,:,:,1]))\n",
        "image_samples_train[:,:,:,2]=(image_samples_train[:,:,:,2]-np.mean(X_train[:,:,:,2]))/(np.std(X_train[:,:,:,2]))"
      ],
      "metadata": {
        "id": "LmuLa6h2k5zX"
      },
      "execution_count": 6,
      "outputs": []
    },
    {
      "cell_type": "code",
      "source": [
        "image_samples_test=np.copy(X_test)\n",
        "image_samples_test=np.array([cv2.resize(img,(224,224)) for img in image_samples_test])\n",
        "image_samples_test[:,:,:,0]=(image_samples_test[:,:,:,0]-np.mean(X_train[:,:,:,0]))/(np.std(X_train[:,:,:,0]))\n",
        "image_samples_test[:,:,:,1]=(image_samples_test[:,:,:,1]-np.mean(X_train[:,:,:,1]))/(np.std(X_train[:,:,:,1]))\n",
        "image_samples_test[:,:,:,2]=(image_samples_test[:,:,:,2]-np.mean(X_train[:,:,:,2]))/(np.std(X_train[:,:,:,2]))"
      ],
      "metadata": {
        "id": "cNCdu7MLaYa7"
      },
      "execution_count": 7,
      "outputs": []
    },
    {
      "cell_type": "markdown",
      "source": [
        "Possible comparisons pre-processing image after scaling 224x224:\n",
        "*   Centering and Standardization\n",
        "*   PCA (no,500,100,20)\n",
        "*   FlatL2 or FlatIP (faiss)\n",
        "*   Precision top 5,20,50,all"
      ],
      "metadata": {
        "id": "glcX5CjKiDI2"
      }
    },
    {
      "cell_type": "code",
      "execution_count": 8,
      "metadata": {
        "id": "B3fbqgKdBMbk"
      },
      "outputs": [],
      "source": [
        "# vggface = VGGFace(model='vgg16',include_top=False,input_shape=(image_samples_train.shape[1],image_samples_train.shape[2],image_samples_train.shape[3]))\n",
        "# # resized_images=[resize(img,output_shape=(224,224)) for img in faces.images]\n",
        "# result_train=vggface.predict(image_samples_train)\n",
        "# result_test=vggface.predict(image_samples_test)\n",
        "# original_result_train=np.copy(result_train)\n",
        "# original_result_test=np.copy(result_test)"
      ]
    },
    {
      "cell_type": "code",
      "source": [
        "from google.colab import drive\n",
        "drive.mount('/content/drive')\n",
        "drive_path = '/content/drive/MyDrive/'\n",
        "# np.save(os.path.join(drive_path, 'faces.npy'), faces)\n",
        "# np.save(os.path.join(drive_path, 'VGGFace_features_faces_norm_std_train.npy'), original_result_train)\n",
        "# np.save(os.path.join(drive_path, 'VGGFace_features_faces_norm_std_test.npy'), original_result_test)"
      ],
      "metadata": {
        "id": "pFvqiw-31-z5",
        "colab": {
          "base_uri": "https://localhost:8080/"
        },
        "outputId": "f72abfb5-7138-4ac8-ae74-7d10b8741785"
      },
      "execution_count": 9,
      "outputs": [
        {
          "output_type": "stream",
          "name": "stdout",
          "text": [
            "Mounted at /content/drive\n"
          ]
        }
      ]
    },
    {
      "cell_type": "code",
      "source": [
        "import os\n",
        "drive_path = '/content/drive/MyDrive/'\n",
        "result_train=np.load(os.path.join(drive_path, 'VGGFace_features_faces_norm_std_train.npy'),allow_pickle=True)\n",
        "result_test=np.load(os.path.join(drive_path, 'VGGFace_features_faces_norm_std_test.npy'),allow_pickle=True)"
      ],
      "metadata": {
        "id": "ylhbR17i2uDM"
      },
      "execution_count": 10,
      "outputs": []
    },
    {
      "cell_type": "code",
      "source": [
        "fixed_components=25\n",
        "def create_test_reduction(n_components,result_train,type_index='FlatIP'):\n",
        "  if type not in ['FlatL2', 'FlatIP']:\n",
        "        raise ValueError(\"Type must be 'FlatL2' or 'FlatIP'\")\n",
        "  features_reducted=result_train.reshape(result_train.shape[0],-1)\n",
        "  if n_components > 0:\n",
        "    tmp_PCA=PCA(n_components=n_components)\n",
        "    features_reducted=np.ascontiguousarray(tmp_PCA.fit_transform(features_reducted))\n",
        "  else:\n",
        "    tmp_PCA=PCA(n_components=fixed_components).fit(features_reducted)\n",
        "    features_reducted=custom_reduction(tmp_PCA,result_train,n_components)\n",
        "  faiss.normalize_L2(features_reducted)\n",
        "  if type_index=='FlatIP':\n",
        "    return tmp_PCA,features_reducted,faiss.IndexFlatIP(features_reducted.shape[1])\n",
        "  else:\n",
        "    return tmp_PCA,features_reducted,faiss.IndexFlatL2(features_reducted.shape[1])"
      ],
      "metadata": {
        "id": "v1RKwLuhXeDy"
      },
      "execution_count": 46,
      "outputs": []
    },
    {
      "cell_type": "code",
      "source": [
        "def custom_reduction(pca,result_train,start_index):\n",
        "  transformed_results = []\n",
        "  for element in result_train:\n",
        "    test = element.reshape(1, -1)\n",
        "    # Apply PCA transformation\n",
        "    transformed_result = np.dot(test - pca.mean_, pca.components_[(-start_index):].T)\n",
        "    transformed_results.append(transformed_result)\n",
        "  return np.array(transformed_results).reshape(result_train.shape[0],pca.components_.shape[0]+start_index)"
      ],
      "metadata": {
        "id": "7c8Y3ky9fZSf"
      },
      "execution_count": 12,
      "outputs": []
    },
    {
      "cell_type": "code",
      "source": [
        "pca_objs=[]\n",
        "list_n_components=[0,500,200,25,-1,-2,-3] #0 -> No PCA, -K -> Without first K eigenvectors, +K -> Use K components\n",
        "features_objs=[]\n",
        "index_faiss_objs=[]\n",
        "for n_components in list_n_components:\n",
        "  if n_components>0:\n",
        "    pca,features,index=create_test_reduction(n_components,result_train)\n",
        "    pca_objs.append(pca)\n",
        "    features_objs.append(features)\n",
        "    index_faiss_objs.append(index)\n",
        "  else:\n",
        "    if(n_components<0):\n",
        "      pca,features,index=create_test_reduction(n_components,result_train)\n",
        "      pca_objs.append(pca)\n",
        "      features_objs.append(features)\n",
        "      index_faiss_objs.append(index)\n",
        "    else: # dummy PCA\n",
        "      pca_objs.append(PCA())\n",
        "      features_objs.append(result_train.reshape(result_train.shape[0],-1))\n",
        "      index_faiss_objs.append(faiss.IndexFlatIP(result_train.reshape(result_train.shape[0],-1).shape[1]))\n",
        "#add vectors to index\n",
        "count=0\n",
        "for index in index_faiss_objs:\n",
        "  print(features_objs[count].shape)\n",
        "  index.add(features_objs[count])\n",
        "  count=count+1"
      ],
      "metadata": {
        "colab": {
          "base_uri": "https://localhost:8080/"
        },
        "id": "Wcs4ZeZcJX4G",
        "outputId": "7db6bf0f-df07-445f-e06f-c22f735098d1"
      },
      "execution_count": 31,
      "outputs": [
        {
          "output_type": "stream",
          "name": "stdout",
          "text": [
            "(1159, 25088)\n",
            "(1159, 500)\n",
            "(1159, 200)\n",
            "(1159, 25)\n",
            "(1159, 24)\n",
            "(1159, 23)\n",
            "(1159, 22)\n"
          ]
        }
      ]
    },
    {
      "cell_type": "code",
      "source": [
        "def compute_precision_recall(ground_truth,retrived_indices_faiss,target,retrive_all=False):\n",
        "  retrived_targets_id=ground_truth[retrived_indices_faiss]\n",
        "  TP=np.count_nonzero(retrived_targets_id==target)\n",
        "  total_samples=np.sum(ground_truth==target)\n",
        "  FP=retrived_indices_faiss.shape[1]-TP\n",
        "  precision=0\n",
        "  if TP+FP!=0:\n",
        "    precision=TP/(TP+FP)\n",
        "  recall=TP/(TP+(total_samples-TP))\n",
        "  return precision,recall"
      ],
      "metadata": {
        "id": "L-ot1LAZsQgg"
      },
      "execution_count": 14,
      "outputs": []
    },
    {
      "cell_type": "code",
      "source": [
        "def compute_precision_recall(ground_truth,target,index_faiss,top_k,reduced_vector,retrive_all=False):\n",
        "  TP=-1\n",
        "  # top_k-=1\n",
        "  reduced_vector=reduced_vector.reshape(1, -1)\n",
        "  # while TP==-1 or retrive_all:\n",
        "  _,retrived_elements=index.search(reduced_vector, X_train.shape[0])\n",
        "  # retrived_targets_id=ground_truth[retrived_elements]\n",
        "  retrived_targets_id=ground_truth[retrived_elements]==target\n",
        "  indices = np.where(retrived_targets_id.reshape(-1))[0]\n",
        "  if(top_k>len(indices)):\n",
        "    print('Face nr.',target,'max elements:',len(indices)-1,'(NOT',str(top_k)+')')\n",
        "    top_k=len(indices)\n",
        "  stop=indices[top_k-1]+1\n",
        "  TP=top_k\n",
        "  # TP=np.count_nonzero(retrived_targets_id[:stop]==target)\n",
        "  total_samples=np.sum(ground_truth==target)\n",
        "  # FP=retrived_elements.shape[1]-TP\n",
        "  FP=stop-TP\n",
        "  FN=total_samples-TP\n",
        "  precision=0\n",
        "  if TP+FP!=0:\n",
        "    precision=TP/(TP+FP)\n",
        "  recall=TP/((TP+FN))\n",
        "  if retrive_all:\n",
        "    top_k=top_k+1000\n",
        "  if recall==1:\n",
        "    retrive_all=False\n",
        "  return precision,recall"
      ],
      "metadata": {
        "id": "jzd9K7Oml09B"
      },
      "execution_count": 16,
      "outputs": []
    },
    {
      "cell_type": "code",
      "source": [
        "import time\n",
        "list_top_elements=[1000]\n",
        "i=0\n",
        "j=0\n",
        "k=0\n",
        "precision_results=[]\n",
        "recall_results=[]\n",
        "name_results=[]\n",
        "list_precision_results=[]\n",
        "list_recall_results=[]\n",
        "test_vectors=result_test.reshape(result_test.shape[0],-1)\n",
        "# vector=result_test[count]\n",
        "for top_k in list_top_elements:\n",
        "  for index in index_faiss_objs:\n",
        "    for vector in test_vectors:\n",
        "      start=time.time()\n",
        "      if list_n_components[i] > 0:\n",
        "        reduced_vector=(vector.reshape(1,-1)-pca_objs[i].mean_)@pca_objs[i].components_.T\n",
        "      else:\n",
        "        if list_n_components[i] < 0:\n",
        "          reduced_vector=(vector.reshape(1,-1)-pca_objs[i].mean_)@pca_objs[i].components_[-list_n_components[i]:].T\n",
        "        else:\n",
        "          reduced_vector=vector\n",
        "      # _,retrived_elements=index.search((reduced_vector.reshape(1, -1)), top_k)\n",
        "      # precision,recall=compute_precision_recall(y_train,retrived_elements,y_test[j])\n",
        "      precision,recall=compute_precision_recall(y_train,y_test[j],index,top_k,reduced_vector,True)\n",
        "      name_results.append(y_test[j])\n",
        "      precision_results.append(precision)\n",
        "      recall_results.append(recall)\n",
        "      j=j+1\n",
        "      tmp=time.time()-start\n",
        "      # print('Time ',i,tmp)\n",
        "    i=i+1\n",
        "    j=0\n",
        "recall_results=np.array(recall_results).reshape(len(list_top_elements),len(index_faiss_objs),test_vectors.shape[0])\n",
        "precision_results=np.array(precision_results).reshape(len(list_top_elements),len(index_faiss_objs),test_vectors.shape[0])\n",
        "name_results=np.array(name_results).reshape(len(list_top_elements),len(index_faiss_objs),test_vectors.shape[0])"
      ],
      "metadata": {
        "id": "WpBTT2YzqBTP"
      },
      "execution_count": null,
      "outputs": []
    },
    {
      "cell_type": "code",
      "source": [
        "def create_DataFrame(id_labels,selected_name_result,selected_precision_result,normalization_factors,index_faiss_n_components,list_n_components,index_selected_top_k_retrival):\n",
        "  str_top_k=str(list_top_elements[index_selected_top_k_retrival])\n",
        "  text=''\n",
        "  index_type=''\n",
        "  if index_faiss_objs[index_faiss_n_components].__class__.__name__ == 'IndexFlatIP':\n",
        "    index_type='(IP)'\n",
        "  else:\n",
        "    index_type='(L2)'\n",
        "  if list_n_components[index_faiss_n_components]<0:\n",
        "    text='/'+str(fixed_components)\n",
        "  df = pd.DataFrame({\n",
        "    \"Faces\":id_labels,\n",
        "    (\"P\"+index_type+\"@\"+str_top_k+'_'+str(list_n_components[index_faiss_n_components])+text):np.bincount(selected_name_result,weights=selected_precision_result)/normalization_factors,\n",
        "    # (\"R@\"+str_top_k+'_'+str(list_n_components[index_faiss_n_components])):np.bincount(selected_name_result,weights=selected_recall_result)/normalization_factors,\n",
        "  })\n",
        "  return df\n",
        "  # if(list_n_components[index_faiss_n_components]>0):\n",
        "  #   return df.style.set_caption(\"nr comp.\"+str(list_n_components[index_faiss_n_components]))\n",
        "  # elif list_n_components[index_faiss_n_components]==0:\n",
        "  #   return df.style.set_caption(\"nr comp. Full dimension\")\n",
        "  # else:\n",
        "  #   return df.style.set_caption(\"W/o first \"+str(-list_n_components[index_faiss_n_components])+' components')"
      ],
      "metadata": {
        "id": "Jh9hY2qno4n4"
      },
      "execution_count": 73,
      "outputs": []
    },
    {
      "cell_type": "code",
      "source": [
        "# index_selected_top_k_retrival = 0 # precision_results.shape[0]\n",
        "# index_faiss_n_components = 4 # precision_results.shape[1]\n",
        "df_list=[]\n",
        "for i in range(precision_results.shape[0]):\n",
        "  for j in range(precision_results.shape[1]):\n",
        "    selected_name_result = name_results[i][j]\n",
        "    selected_recall_result = recall_results[i][j]\n",
        "    selected_precision_result = precision_results[i][j]\n",
        "    id_labels,normalization_factors = np.unique(y_test,return_counts=True)\n",
        "    df=create_DataFrame(id_labels,selected_name_result,selected_precision_result,normalization_factors,j,list_n_components,i)\n",
        "    df_list.append(df)"
      ],
      "metadata": {
        "id": "wccn9Ttfn_LI"
      },
      "execution_count": 74,
      "outputs": []
    },
    {
      "cell_type": "code",
      "source": [
        "merged_df=df_list[0]\n",
        "for i in range(1,len(df_list)):\n",
        "  merged_df=pd.merge(merged_df,df_list[i])\n",
        "merged_df.drop(columns=['Faces']).style.highlight_max(color = 'green', axis = 1).highlight_min(color = 'red', axis = 1)"
      ],
      "metadata": {
        "colab": {
          "base_uri": "https://localhost:8080/",
          "height": 269
        },
        "id": "WN-GO2P6wR5r",
        "outputId": "3adafa13-8843-4c2a-9fc9-eae6d01c1f35"
      },
      "execution_count": 75,
      "outputs": [
        {
          "output_type": "execute_result",
          "data": {
            "text/plain": [
              "<pandas.io.formats.style.Styler at 0x7d69db5463e0>"
            ],
            "text/html": [
              "<style type=\"text/css\">\n",
              "#T_da0c6_row0_col0, #T_da0c6_row1_col6, #T_da0c6_row2_col0, #T_da0c6_row3_col4, #T_da0c6_row4_col0, #T_da0c6_row5_col0, #T_da0c6_row6_col0 {\n",
              "  background-color: red;\n",
              "}\n",
              "#T_da0c6_row0_col5, #T_da0c6_row1_col3, #T_da0c6_row2_col5, #T_da0c6_row3_col1, #T_da0c6_row4_col5, #T_da0c6_row5_col5, #T_da0c6_row6_col5 {\n",
              "  background-color: green;\n",
              "}\n",
              "</style>\n",
              "<table id=\"T_da0c6\" class=\"dataframe\">\n",
              "  <thead>\n",
              "    <tr>\n",
              "      <th class=\"blank level0\" >&nbsp;</th>\n",
              "      <th id=\"T_da0c6_level0_col0\" class=\"col_heading level0 col0\" >P(IP)@1000_0</th>\n",
              "      <th id=\"T_da0c6_level0_col1\" class=\"col_heading level0 col1\" >P(IP)@1000_500</th>\n",
              "      <th id=\"T_da0c6_level0_col2\" class=\"col_heading level0 col2\" >P(IP)@1000_200</th>\n",
              "      <th id=\"T_da0c6_level0_col3\" class=\"col_heading level0 col3\" >P(IP)@1000_25</th>\n",
              "      <th id=\"T_da0c6_level0_col4\" class=\"col_heading level0 col4\" >P(IP)@1000_-1/25</th>\n",
              "      <th id=\"T_da0c6_level0_col5\" class=\"col_heading level0 col5\" >P(IP)@1000_-2/25</th>\n",
              "      <th id=\"T_da0c6_level0_col6\" class=\"col_heading level0 col6\" >P(IP)@1000_-3/25</th>\n",
              "    </tr>\n",
              "  </thead>\n",
              "  <tbody>\n",
              "    <tr>\n",
              "      <th id=\"T_da0c6_level0_row0\" class=\"row_heading level0 row0\" >0</th>\n",
              "      <td id=\"T_da0c6_row0_col0\" class=\"data row0 col0\" >0.069677</td>\n",
              "      <td id=\"T_da0c6_row0_col1\" class=\"data row0 col1\" >0.461780</td>\n",
              "      <td id=\"T_da0c6_row0_col2\" class=\"data row0 col2\" >0.475558</td>\n",
              "      <td id=\"T_da0c6_row0_col3\" class=\"data row0 col3\" >0.816740</td>\n",
              "      <td id=\"T_da0c6_row0_col4\" class=\"data row0 col4\" >0.712272</td>\n",
              "      <td id=\"T_da0c6_row0_col5\" class=\"data row0 col5\" >0.860027</td>\n",
              "      <td id=\"T_da0c6_row0_col6\" class=\"data row0 col6\" >0.774644</td>\n",
              "    </tr>\n",
              "    <tr>\n",
              "      <th id=\"T_da0c6_level0_row1\" class=\"row_heading level0 row1\" >1</th>\n",
              "      <td id=\"T_da0c6_row1_col0\" class=\"data row1 col0\" >0.173033</td>\n",
              "      <td id=\"T_da0c6_row1_col1\" class=\"data row1 col1\" >0.459756</td>\n",
              "      <td id=\"T_da0c6_row1_col2\" class=\"data row1 col2\" >0.462451</td>\n",
              "      <td id=\"T_da0c6_row1_col3\" class=\"data row1 col3\" >0.462892</td>\n",
              "      <td id=\"T_da0c6_row1_col4\" class=\"data row1 col4\" >0.176211</td>\n",
              "      <td id=\"T_da0c6_row1_col5\" class=\"data row1 col5\" >0.179613</td>\n",
              "      <td id=\"T_da0c6_row1_col6\" class=\"data row1 col6\" >0.171869</td>\n",
              "    </tr>\n",
              "    <tr>\n",
              "      <th id=\"T_da0c6_level0_row2\" class=\"row_heading level0 row2\" >2</th>\n",
              "      <td id=\"T_da0c6_row2_col0\" class=\"data row2 col0\" >0.096989</td>\n",
              "      <td id=\"T_da0c6_row2_col1\" class=\"data row2 col1\" >0.148735</td>\n",
              "      <td id=\"T_da0c6_row2_col2\" class=\"data row2 col2\" >0.144617</td>\n",
              "      <td id=\"T_da0c6_row2_col3\" class=\"data row2 col3\" >0.191082</td>\n",
              "      <td id=\"T_da0c6_row2_col4\" class=\"data row2 col4\" >0.163566</td>\n",
              "      <td id=\"T_da0c6_row2_col5\" class=\"data row2 col5\" >0.203246</td>\n",
              "      <td id=\"T_da0c6_row2_col6\" class=\"data row2 col6\" >0.141629</td>\n",
              "    </tr>\n",
              "    <tr>\n",
              "      <th id=\"T_da0c6_level0_row3\" class=\"row_heading level0 row3\" >3</th>\n",
              "      <td id=\"T_da0c6_row3_col0\" class=\"data row3 col0\" >0.422228</td>\n",
              "      <td id=\"T_da0c6_row3_col1\" class=\"data row3 col1\" >0.468954</td>\n",
              "      <td id=\"T_da0c6_row3_col2\" class=\"data row3 col2\" >0.459820</td>\n",
              "      <td id=\"T_da0c6_row3_col3\" class=\"data row3 col3\" >0.458434</td>\n",
              "      <td id=\"T_da0c6_row3_col4\" class=\"data row3 col4\" >0.421122</td>\n",
              "      <td id=\"T_da0c6_row3_col5\" class=\"data row3 col5\" >0.421409</td>\n",
              "      <td id=\"T_da0c6_row3_col6\" class=\"data row3 col6\" >0.421148</td>\n",
              "    </tr>\n",
              "    <tr>\n",
              "      <th id=\"T_da0c6_level0_row4\" class=\"row_heading level0 row4\" >4</th>\n",
              "      <td id=\"T_da0c6_row4_col0\" class=\"data row4 col0\" >0.087165</td>\n",
              "      <td id=\"T_da0c6_row4_col1\" class=\"data row4 col1\" >0.117415</td>\n",
              "      <td id=\"T_da0c6_row4_col2\" class=\"data row4 col2\" >0.116267</td>\n",
              "      <td id=\"T_da0c6_row4_col3\" class=\"data row4 col3\" >0.137843</td>\n",
              "      <td id=\"T_da0c6_row4_col4\" class=\"data row4 col4\" >0.146240</td>\n",
              "      <td id=\"T_da0c6_row4_col5\" class=\"data row4 col5\" >0.251124</td>\n",
              "      <td id=\"T_da0c6_row4_col6\" class=\"data row4 col6\" >0.129379</td>\n",
              "    </tr>\n",
              "    <tr>\n",
              "      <th id=\"T_da0c6_level0_row5\" class=\"row_heading level0 row5\" >5</th>\n",
              "      <td id=\"T_da0c6_row5_col0\" class=\"data row5 col0\" >0.054972</td>\n",
              "      <td id=\"T_da0c6_row5_col1\" class=\"data row5 col1\" >0.269676</td>\n",
              "      <td id=\"T_da0c6_row5_col2\" class=\"data row5 col2\" >0.286266</td>\n",
              "      <td id=\"T_da0c6_row5_col3\" class=\"data row5 col3\" >0.415078</td>\n",
              "      <td id=\"T_da0c6_row5_col4\" class=\"data row5 col4\" >0.453753</td>\n",
              "      <td id=\"T_da0c6_row5_col5\" class=\"data row5 col5\" >0.533720</td>\n",
              "      <td id=\"T_da0c6_row5_col6\" class=\"data row5 col6\" >0.152401</td>\n",
              "    </tr>\n",
              "    <tr>\n",
              "      <th id=\"T_da0c6_level0_row6\" class=\"row_heading level0 row6\" >6</th>\n",
              "      <td id=\"T_da0c6_row6_col0\" class=\"data row6 col0\" >0.113519</td>\n",
              "      <td id=\"T_da0c6_row6_col1\" class=\"data row6 col1\" >0.220410</td>\n",
              "      <td id=\"T_da0c6_row6_col2\" class=\"data row6 col2\" >0.215120</td>\n",
              "      <td id=\"T_da0c6_row6_col3\" class=\"data row6 col3\" >0.221922</td>\n",
              "      <td id=\"T_da0c6_row6_col4\" class=\"data row6 col4\" >0.166710</td>\n",
              "      <td id=\"T_da0c6_row6_col5\" class=\"data row6 col5\" >0.226474</td>\n",
              "      <td id=\"T_da0c6_row6_col6\" class=\"data row6 col6\" >0.141007</td>\n",
              "    </tr>\n",
              "  </tbody>\n",
              "</table>\n"
            ]
          },
          "metadata": {},
          "execution_count": 75
        }
      ]
    }
  ]
}