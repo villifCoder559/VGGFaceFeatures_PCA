{
  "nbformat": 4,
  "nbformat_minor": 0,
  "metadata": {
    "colab": {
      "provenance": [],
      "authorship_tag": "ABX9TyOM+mZSYsdqQB1rVtFoxDVr",
      "include_colab_link": true
    },
    "kernelspec": {
      "name": "python3",
      "display_name": "Python 3"
    },
    "language_info": {
      "name": "python"
    }
  },
  "cells": [
    {
      "cell_type": "markdown",
      "metadata": {
        "id": "view-in-github",
        "colab_type": "text"
      },
      "source": [
        "<a href=\"https://colab.research.google.com/github/villifCoder559/VGGFaceFeatures_PCA/blob/main/VGGFace.ipynb\" target=\"_parent\"><img src=\"https://colab.research.google.com/assets/colab-badge.svg\" alt=\"Open In Colab\"/></a>"
      ]
    },
    {
      "cell_type": "code",
      "source": [
        "!pip install faiss-cpu --no-cache"
      ],
      "metadata": {
        "id": "yjaRyJjosHEd",
        "colab": {
          "base_uri": "https://localhost:8080/"
        },
        "outputId": "e4b394bc-1b0e-4980-ca85-a2c239f03bc7"
      },
      "execution_count": 1,
      "outputs": [
        {
          "output_type": "stream",
          "name": "stdout",
          "text": [
            "Collecting faiss-cpu\n",
            "  Downloading faiss_cpu-1.8.0-cp310-cp310-manylinux_2_17_x86_64.manylinux2014_x86_64.whl (27.0 MB)\n",
            "\u001b[2K     \u001b[90m━━━━━━━━━━━━━━━━━━━━━━━━━━━━━━━━━━━━━━━━\u001b[0m \u001b[32m27.0/27.0 MB\u001b[0m \u001b[31m95.7 MB/s\u001b[0m eta \u001b[36m0:00:00\u001b[0m\n",
            "\u001b[?25hRequirement already satisfied: numpy in /usr/local/lib/python3.10/dist-packages (from faiss-cpu) (1.25.2)\n",
            "Installing collected packages: faiss-cpu\n",
            "Successfully installed faiss-cpu-1.8.0\n"
          ]
        }
      ]
    },
    {
      "cell_type": "code",
      "source": [
        "!pip install git+https://github.com/rcmalli/keras-vggface.git\n",
        "!pip install tensorflow keras_applications\n",
        "!pip install layer_utils"
      ],
      "metadata": {
        "id": "WvE2z802PlYv",
        "colab": {
          "base_uri": "https://localhost:8080/"
        },
        "outputId": "1bf46c90-0e3c-46df-bffb-7aa390467c6f"
      },
      "execution_count": 2,
      "outputs": [
        {
          "output_type": "stream",
          "name": "stdout",
          "text": [
            "Collecting git+https://github.com/rcmalli/keras-vggface.git\n",
            "  Cloning https://github.com/rcmalli/keras-vggface.git to /tmp/pip-req-build-yagznej9\n",
            "  Running command git clone --filter=blob:none --quiet https://github.com/rcmalli/keras-vggface.git /tmp/pip-req-build-yagznej9\n",
            "  Resolved https://github.com/rcmalli/keras-vggface.git to commit bee35376e76e35d00aeec503f2f242611a97b38a\n",
            "  Preparing metadata (setup.py) ... \u001b[?25l\u001b[?25hdone\n",
            "Requirement already satisfied: numpy>=1.9.1 in /usr/local/lib/python3.10/dist-packages (from keras-vggface==0.6) (1.25.2)\n",
            "Requirement already satisfied: scipy>=0.14 in /usr/local/lib/python3.10/dist-packages (from keras-vggface==0.6) (1.11.4)\n",
            "Requirement already satisfied: h5py in /usr/local/lib/python3.10/dist-packages (from keras-vggface==0.6) (3.9.0)\n",
            "Requirement already satisfied: pillow in /usr/local/lib/python3.10/dist-packages (from keras-vggface==0.6) (9.4.0)\n",
            "Requirement already satisfied: keras in /usr/local/lib/python3.10/dist-packages (from keras-vggface==0.6) (2.15.0)\n",
            "Requirement already satisfied: six>=1.9.0 in /usr/local/lib/python3.10/dist-packages (from keras-vggface==0.6) (1.16.0)\n",
            "Requirement already satisfied: pyyaml in /usr/local/lib/python3.10/dist-packages (from keras-vggface==0.6) (6.0.1)\n",
            "Building wheels for collected packages: keras-vggface\n",
            "  Building wheel for keras-vggface (setup.py) ... \u001b[?25l\u001b[?25hdone\n",
            "  Created wheel for keras-vggface: filename=keras_vggface-0.6-py3-none-any.whl size=8295 sha256=1c0381d607f7d2fc6f38bdfedc10786904cbd206707e8b6a7e096be3072e61a2\n",
            "  Stored in directory: /tmp/pip-ephem-wheel-cache-zxz6tjoq/wheels/62/cd/e0/3a2d2fe84d014324aed54d420cab52df65a774d9b296c63996\n",
            "Successfully built keras-vggface\n",
            "Installing collected packages: keras-vggface\n",
            "Successfully installed keras-vggface-0.6\n",
            "Requirement already satisfied: tensorflow in /usr/local/lib/python3.10/dist-packages (2.15.0)\n",
            "Collecting keras_applications\n",
            "  Downloading Keras_Applications-1.0.8-py3-none-any.whl (50 kB)\n",
            "\u001b[2K     \u001b[90m━━━━━━━━━━━━━━━━━━━━━━━━━━━━━━━━━━━━━━━━\u001b[0m \u001b[32m50.7/50.7 kB\u001b[0m \u001b[31m973.2 kB/s\u001b[0m eta \u001b[36m0:00:00\u001b[0m\n",
            "\u001b[?25hRequirement already satisfied: absl-py>=1.0.0 in /usr/local/lib/python3.10/dist-packages (from tensorflow) (1.4.0)\n",
            "Requirement already satisfied: astunparse>=1.6.0 in /usr/local/lib/python3.10/dist-packages (from tensorflow) (1.6.3)\n",
            "Requirement already satisfied: flatbuffers>=23.5.26 in /usr/local/lib/python3.10/dist-packages (from tensorflow) (23.5.26)\n",
            "Requirement already satisfied: gast!=0.5.0,!=0.5.1,!=0.5.2,>=0.2.1 in /usr/local/lib/python3.10/dist-packages (from tensorflow) (0.5.4)\n",
            "Requirement already satisfied: google-pasta>=0.1.1 in /usr/local/lib/python3.10/dist-packages (from tensorflow) (0.2.0)\n",
            "Requirement already satisfied: h5py>=2.9.0 in /usr/local/lib/python3.10/dist-packages (from tensorflow) (3.9.0)\n",
            "Requirement already satisfied: libclang>=13.0.0 in /usr/local/lib/python3.10/dist-packages (from tensorflow) (16.0.6)\n",
            "Requirement already satisfied: ml-dtypes~=0.2.0 in /usr/local/lib/python3.10/dist-packages (from tensorflow) (0.2.0)\n",
            "Requirement already satisfied: numpy<2.0.0,>=1.23.5 in /usr/local/lib/python3.10/dist-packages (from tensorflow) (1.25.2)\n",
            "Requirement already satisfied: opt-einsum>=2.3.2 in /usr/local/lib/python3.10/dist-packages (from tensorflow) (3.3.0)\n",
            "Requirement already satisfied: packaging in /usr/local/lib/python3.10/dist-packages (from tensorflow) (23.2)\n",
            "Requirement already satisfied: protobuf!=4.21.0,!=4.21.1,!=4.21.2,!=4.21.3,!=4.21.4,!=4.21.5,<5.0.0dev,>=3.20.3 in /usr/local/lib/python3.10/dist-packages (from tensorflow) (3.20.3)\n",
            "Requirement already satisfied: setuptools in /usr/local/lib/python3.10/dist-packages (from tensorflow) (67.7.2)\n",
            "Requirement already satisfied: six>=1.12.0 in /usr/local/lib/python3.10/dist-packages (from tensorflow) (1.16.0)\n",
            "Requirement already satisfied: termcolor>=1.1.0 in /usr/local/lib/python3.10/dist-packages (from tensorflow) (2.4.0)\n",
            "Requirement already satisfied: typing-extensions>=3.6.6 in /usr/local/lib/python3.10/dist-packages (from tensorflow) (4.10.0)\n",
            "Requirement already satisfied: wrapt<1.15,>=1.11.0 in /usr/local/lib/python3.10/dist-packages (from tensorflow) (1.14.1)\n",
            "Requirement already satisfied: tensorflow-io-gcs-filesystem>=0.23.1 in /usr/local/lib/python3.10/dist-packages (from tensorflow) (0.36.0)\n",
            "Requirement already satisfied: grpcio<2.0,>=1.24.3 in /usr/local/lib/python3.10/dist-packages (from tensorflow) (1.62.0)\n",
            "Requirement already satisfied: tensorboard<2.16,>=2.15 in /usr/local/lib/python3.10/dist-packages (from tensorflow) (2.15.2)\n",
            "Requirement already satisfied: tensorflow-estimator<2.16,>=2.15.0 in /usr/local/lib/python3.10/dist-packages (from tensorflow) (2.15.0)\n",
            "Requirement already satisfied: keras<2.16,>=2.15.0 in /usr/local/lib/python3.10/dist-packages (from tensorflow) (2.15.0)\n",
            "Requirement already satisfied: wheel<1.0,>=0.23.0 in /usr/local/lib/python3.10/dist-packages (from astunparse>=1.6.0->tensorflow) (0.42.0)\n",
            "Requirement already satisfied: google-auth<3,>=1.6.3 in /usr/local/lib/python3.10/dist-packages (from tensorboard<2.16,>=2.15->tensorflow) (2.27.0)\n",
            "Requirement already satisfied: google-auth-oauthlib<2,>=0.5 in /usr/local/lib/python3.10/dist-packages (from tensorboard<2.16,>=2.15->tensorflow) (1.2.0)\n",
            "Requirement already satisfied: markdown>=2.6.8 in /usr/local/lib/python3.10/dist-packages (from tensorboard<2.16,>=2.15->tensorflow) (3.5.2)\n",
            "Requirement already satisfied: requests<3,>=2.21.0 in /usr/local/lib/python3.10/dist-packages (from tensorboard<2.16,>=2.15->tensorflow) (2.31.0)\n",
            "Requirement already satisfied: tensorboard-data-server<0.8.0,>=0.7.0 in /usr/local/lib/python3.10/dist-packages (from tensorboard<2.16,>=2.15->tensorflow) (0.7.2)\n",
            "Requirement already satisfied: werkzeug>=1.0.1 in /usr/local/lib/python3.10/dist-packages (from tensorboard<2.16,>=2.15->tensorflow) (3.0.1)\n",
            "Requirement already satisfied: cachetools<6.0,>=2.0.0 in /usr/local/lib/python3.10/dist-packages (from google-auth<3,>=1.6.3->tensorboard<2.16,>=2.15->tensorflow) (5.3.3)\n",
            "Requirement already satisfied: pyasn1-modules>=0.2.1 in /usr/local/lib/python3.10/dist-packages (from google-auth<3,>=1.6.3->tensorboard<2.16,>=2.15->tensorflow) (0.3.0)\n",
            "Requirement already satisfied: rsa<5,>=3.1.4 in /usr/local/lib/python3.10/dist-packages (from google-auth<3,>=1.6.3->tensorboard<2.16,>=2.15->tensorflow) (4.9)\n",
            "Requirement already satisfied: requests-oauthlib>=0.7.0 in /usr/local/lib/python3.10/dist-packages (from google-auth-oauthlib<2,>=0.5->tensorboard<2.16,>=2.15->tensorflow) (1.3.1)\n",
            "Requirement already satisfied: charset-normalizer<4,>=2 in /usr/local/lib/python3.10/dist-packages (from requests<3,>=2.21.0->tensorboard<2.16,>=2.15->tensorflow) (3.3.2)\n",
            "Requirement already satisfied: idna<4,>=2.5 in /usr/local/lib/python3.10/dist-packages (from requests<3,>=2.21.0->tensorboard<2.16,>=2.15->tensorflow) (3.6)\n",
            "Requirement already satisfied: urllib3<3,>=1.21.1 in /usr/local/lib/python3.10/dist-packages (from requests<3,>=2.21.0->tensorboard<2.16,>=2.15->tensorflow) (2.0.7)\n",
            "Requirement already satisfied: certifi>=2017.4.17 in /usr/local/lib/python3.10/dist-packages (from requests<3,>=2.21.0->tensorboard<2.16,>=2.15->tensorflow) (2024.2.2)\n",
            "Requirement already satisfied: MarkupSafe>=2.1.1 in /usr/local/lib/python3.10/dist-packages (from werkzeug>=1.0.1->tensorboard<2.16,>=2.15->tensorflow) (2.1.5)\n",
            "Requirement already satisfied: pyasn1<0.6.0,>=0.4.6 in /usr/local/lib/python3.10/dist-packages (from pyasn1-modules>=0.2.1->google-auth<3,>=1.6.3->tensorboard<2.16,>=2.15->tensorflow) (0.5.1)\n",
            "Requirement already satisfied: oauthlib>=3.0.0 in /usr/local/lib/python3.10/dist-packages (from requests-oauthlib>=0.7.0->google-auth-oauthlib<2,>=0.5->tensorboard<2.16,>=2.15->tensorflow) (3.2.2)\n",
            "Installing collected packages: keras_applications\n",
            "Successfully installed keras_applications-1.0.8\n",
            "\u001b[31mERROR: Could not find a version that satisfies the requirement layer_utils (from versions: none)\u001b[0m\u001b[31m\n",
            "\u001b[0m\u001b[31mERROR: No matching distribution found for layer_utils\u001b[0m\u001b[31m\n",
            "\u001b[0m"
          ]
        }
      ]
    },
    {
      "cell_type": "code",
      "source": [
        "!pip install keras==2.12"
      ],
      "metadata": {
        "id": "B4_W4a6SCKMr",
        "colab": {
          "base_uri": "https://localhost:8080/"
        },
        "outputId": "8c23e855-9869-4ccc-99a4-119df9d0e981"
      },
      "execution_count": 3,
      "outputs": [
        {
          "output_type": "stream",
          "name": "stdout",
          "text": [
            "Collecting keras==2.12\n",
            "  Downloading keras-2.12.0-py2.py3-none-any.whl (1.7 MB)\n",
            "\u001b[2K     \u001b[90m━━━━━━━━━━━━━━━━━━━━━━━━━━━━━━━━━━━━━━━━\u001b[0m \u001b[32m1.7/1.7 MB\u001b[0m \u001b[31m7.9 MB/s\u001b[0m eta \u001b[36m0:00:00\u001b[0m\n",
            "\u001b[?25hInstalling collected packages: keras\n",
            "  Attempting uninstall: keras\n",
            "    Found existing installation: keras 2.15.0\n",
            "    Uninstalling keras-2.15.0:\n",
            "      Successfully uninstalled keras-2.15.0\n",
            "\u001b[31mERROR: pip's dependency resolver does not currently take into account all the packages that are installed. This behaviour is the source of the following dependency conflicts.\n",
            "tensorflow 2.15.0 requires keras<2.16,>=2.15.0, but you have keras 2.12.0 which is incompatible.\u001b[0m\u001b[31m\n",
            "\u001b[0mSuccessfully installed keras-2.12.0\n"
          ]
        }
      ]
    },
    {
      "cell_type": "code",
      "source": [
        "import numpy as np\n",
        "import pandas as pd\n",
        "import cv2\n",
        "import keras\n",
        "from keras_vggface.vggface import VGGFace\n",
        "from sklearn.datasets import fetch_lfw_people\n",
        "from skimage.transform import resize\n",
        "import faiss\n",
        "from sklearn.decomposition import PCA\n",
        "import matplotlib.pyplot as plt\n",
        "from sklearn import metrics\n",
        "import pandas as pd"
      ],
      "metadata": {
        "id": "yPyZ0drGU3D5"
      },
      "execution_count": 4,
      "outputs": []
    },
    {
      "cell_type": "code",
      "source": [
        "from sklearn.model_selection import train_test_split\n",
        "faces = fetch_lfw_people(min_faces_per_person=70,resize=2.3,color=True)\n",
        "X_train, X_test, y_train, y_test = train_test_split(faces.images, faces.target, test_size=0.1, random_state=2)"
      ],
      "metadata": {
        "id": "Zcxhg9ceNqr_"
      },
      "execution_count": 5,
      "outputs": []
    },
    {
      "cell_type": "code",
      "source": [
        "image_samples_train=np.copy(X_train)\n",
        "image_samples_train=np.array([cv2.resize(img,(224,224)) for img in image_samples_train])\n",
        "image_samples_train[:,:,:,0]=(image_samples_train[:,:,:,0]-np.mean(X_train[:,:,:,0]))/(np.std(X_train[:,:,:,0]))\n",
        "image_samples_train[:,:,:,1]=(image_samples_train[:,:,:,1]-np.mean(X_train[:,:,:,1]))/(np.std(X_train[:,:,:,1]))\n",
        "image_samples_train[:,:,:,2]=(image_samples_train[:,:,:,2]-np.mean(X_train[:,:,:,2]))/(np.std(X_train[:,:,:,2]))"
      ],
      "metadata": {
        "id": "LmuLa6h2k5zX"
      },
      "execution_count": 6,
      "outputs": []
    },
    {
      "cell_type": "code",
      "source": [
        "image_samples_test=np.copy(X_test)\n",
        "image_samples_test=np.array([cv2.resize(img,(224,224)) for img in image_samples_test])\n",
        "image_samples_test[:,:,:,0]=(image_samples_test[:,:,:,0]-np.mean(X_train[:,:,:,0]))/(np.std(X_train[:,:,:,0]))\n",
        "image_samples_test[:,:,:,1]=(image_samples_test[:,:,:,1]-np.mean(X_train[:,:,:,1]))/(np.std(X_train[:,:,:,1]))\n",
        "image_samples_test[:,:,:,2]=(image_samples_test[:,:,:,2]-np.mean(X_train[:,:,:,2]))/(np.std(X_train[:,:,:,2]))"
      ],
      "metadata": {
        "id": "cNCdu7MLaYa7"
      },
      "execution_count": 7,
      "outputs": []
    },
    {
      "cell_type": "markdown",
      "source": [
        "Possible comparisons pre-processing image after scaling 224x224:\n",
        "*   Centering and Standardization\n",
        "*   PCA (no,500,100,20)\n",
        "*   FlatL2 or FlatIP (faiss)\n",
        "*   Precision top 5,20,50,all"
      ],
      "metadata": {
        "id": "glcX5CjKiDI2"
      }
    },
    {
      "cell_type": "code",
      "execution_count": 8,
      "metadata": {
        "id": "B3fbqgKdBMbk"
      },
      "outputs": [],
      "source": [
        "# vggface = VGGFace(model='vgg16',include_top=False,input_shape=(image_samples_train.shape[1],image_samples_train.shape[2],image_samples_train.shape[3]))\n",
        "# # resized_images=[resize(img,output_shape=(224,224)) for img in faces.images]\n",
        "# result_train=vggface.predict(image_samples_train)\n",
        "# result_test=vggface.predict(image_samples_test)\n",
        "# original_result_train=np.copy(result_train)\n",
        "# original_result_test=np.copy(result_test)"
      ]
    },
    {
      "cell_type": "code",
      "source": [
        "from google.colab import drive\n",
        "drive.mount('/content/drive')\n",
        "drive_path = '/content/drive/MyDrive/'\n",
        "# np.save(os.path.join(drive_path, 'faces.npy'), faces)\n",
        "# np.save(os.path.join(drive_path, 'VGGFace_features_faces_norm_std_train.npy'), original_result_train)\n",
        "# np.save(os.path.join(drive_path, 'VGGFace_features_faces_norm_std_test.npy'), original_result_test)"
      ],
      "metadata": {
        "id": "pFvqiw-31-z5",
        "colab": {
          "base_uri": "https://localhost:8080/"
        },
        "outputId": "7442552e-00ce-4323-aa83-7632d475094b"
      },
      "execution_count": 9,
      "outputs": [
        {
          "output_type": "stream",
          "name": "stdout",
          "text": [
            "Mounted at /content/drive\n"
          ]
        }
      ]
    },
    {
      "cell_type": "code",
      "source": [
        "import os\n",
        "drive_path = '/content/drive/MyDrive/'\n",
        "result_train=np.load(os.path.join(drive_path, 'VGGFace_features_faces_norm_std_train.npy'),allow_pickle=True)\n",
        "result_test=np.load(os.path.join(drive_path, 'VGGFace_features_faces_norm_std_test.npy'),allow_pickle=True)"
      ],
      "metadata": {
        "id": "ylhbR17i2uDM"
      },
      "execution_count": 10,
      "outputs": []
    },
    {
      "cell_type": "code",
      "source": [
        "fixed_components=25\n",
        "def create_test_reduction(n_components,result_train,type_index='FlatIP'):\n",
        "  if type_index not in ['FlatL2', 'FlatIP']:\n",
        "        raise ValueError(\"Type must be 'FlatL2' or 'FlatIP'\")\n",
        "  features_reducted=result_train.reshape(result_train.shape[0],-1)\n",
        "  if n_components > 0:\n",
        "    tmp_PCA=PCA(n_components=n_components)\n",
        "    features_reducted=np.ascontiguousarray(tmp_PCA.fit_transform(features_reducted))\n",
        "  else:\n",
        "    tmp_PCA=PCA(n_components=fixed_components).fit(features_reducted)\n",
        "    features_reducted=custom_reduction(tmp_PCA,result_train,n_components)\n",
        "  faiss.normalize_L2(features_reducted)\n",
        "  if type_index=='FlatIP':\n",
        "    return tmp_PCA,features_reducted,faiss.IndexFlatIP(features_reducted.shape[1])\n",
        "  else:\n",
        "    return tmp_PCA,features_reducted,faiss.IndexFlatL2(features_reducted.shape[1])"
      ],
      "metadata": {
        "id": "v1RKwLuhXeDy"
      },
      "execution_count": 11,
      "outputs": []
    },
    {
      "cell_type": "code",
      "source": [
        "def custom_reduction(pca,result_train,start_index):\n",
        "  transformed_results = []\n",
        "  for element in result_train:\n",
        "    test = element.reshape(1, -1)\n",
        "    # Apply PCA transformation\n",
        "    transformed_result = np.dot(test - pca.mean_, pca.components_[(-start_index):].T)\n",
        "    transformed_results.append(transformed_result)\n",
        "  return np.array(transformed_results).reshape(result_train.shape[0],pca.components_.shape[0]+start_index)"
      ],
      "metadata": {
        "id": "7c8Y3ky9fZSf"
      },
      "execution_count": 12,
      "outputs": []
    },
    {
      "cell_type": "code",
      "source": [
        "list_n_components=[0,20,200,500,-2,-3] #0 -> No PCA, -K -> Without first K eigenvectors, +K -> Use K components\n",
        "index_type='FlatIP' # FlatIP or FlatL2\n",
        "pca_objs=[]\n",
        "features_objs=[]\n",
        "index_faiss_objs=[]\n",
        "for n_components in list_n_components:\n",
        "  if n_components>0:\n",
        "    pca,features,index=create_test_reduction(n_components,result_train,index_type)\n",
        "    pca_objs.append(pca)\n",
        "    features_objs.append(features)\n",
        "    index_faiss_objs.append(index)\n",
        "  else:\n",
        "    if(n_components<0):\n",
        "      pca,features,index=create_test_reduction(n_components,result_train,index_type)\n",
        "      pca_objs.append(pca)\n",
        "      features_objs.append(features)\n",
        "      index_faiss_objs.append(index)\n",
        "    else: # dummy PCA\n",
        "      pca_objs.append(PCA())\n",
        "      features_objs.append(result_train.reshape(result_train.shape[0],-1))\n",
        "      if index_type=='FlatIP':\n",
        "        index_faiss_objs.append(faiss.IndexFlatIP(result_train.reshape(result_train.shape[0],-1).shape[1]))\n",
        "      else:\n",
        "        index_faiss_objs.append(faiss.IndexFlatL2(result_train.reshape(result_train.shape[0],-1).shape[1]))\n",
        "#add vectors to index\n",
        "count=0\n",
        "for index in index_faiss_objs:\n",
        "  print(features_objs[count].shape)\n",
        "  index.add(features_objs[count])\n",
        "  count=count+1"
      ],
      "metadata": {
        "colab": {
          "base_uri": "https://localhost:8080/"
        },
        "id": "Wcs4ZeZcJX4G",
        "outputId": "3d7bf983-5776-45e3-de34-2652bc9ddff0"
      },
      "execution_count": 21,
      "outputs": [
        {
          "output_type": "stream",
          "name": "stdout",
          "text": [
            "(1159, 25088)\n",
            "(1159, 20)\n",
            "(1159, 200)\n",
            "(1159, 500)\n",
            "(1159, 23)\n",
            "(1159, 22)\n"
          ]
        }
      ]
    },
    {
      "cell_type": "code",
      "source": [
        "def compute_precision_recall(ground_truth,retrived_indices_faiss,target,retrive_all=False):\n",
        "  retrived_targets_id=ground_truth[retrived_indices_faiss]\n",
        "  TP=np.count_nonzero(retrived_targets_id==target)\n",
        "  total_samples=np.sum(ground_truth==target)\n",
        "  FP=retrived_indices_faiss.shape[1]-TP\n",
        "  precision=0\n",
        "  if TP+FP!=0:\n",
        "    precision=TP/(TP+FP)\n",
        "  recall=TP/(TP+(total_samples-TP))\n",
        "  return precision,recall"
      ],
      "metadata": {
        "id": "L-ot1LAZsQgg"
      },
      "execution_count": 14,
      "outputs": []
    },
    {
      "cell_type": "code",
      "source": [
        "def compute_precision_recall(ground_truth,target,index_faiss,top_k,reduced_vector,retrive_all=False):\n",
        "  TP=-1\n",
        "  # top_k-=1\n",
        "  reduced_vector=reduced_vector.reshape(1, -1)\n",
        "  # while TP==-1 or retrive_all:\n",
        "  _,retrived_elements=index.search(reduced_vector, X_train.shape[0])\n",
        "  # retrived_targets_id=ground_truth[retrived_elements]\n",
        "  retrived_targets_id=ground_truth[retrived_elements]==target\n",
        "  indices = np.where(retrived_targets_id.reshape(-1))[0]\n",
        "  if(top_k>len(indices)):\n",
        "    print('Face nr.',target,'max elements:',len(indices)-1,'(NOT',str(top_k)+')')\n",
        "    top_k=len(indices)\n",
        "  stop=indices[top_k-1]+1\n",
        "  TP=top_k\n",
        "  # TP=np.count_nonzero(retrived_targets_id[:stop]==target)\n",
        "  total_samples=np.sum(ground_truth==target)\n",
        "  # FP=retrived_elements.shape[1]-TP\n",
        "  FP=stop-TP\n",
        "  FN=total_samples-TP\n",
        "  precision=0\n",
        "  if TP+FP!=0:\n",
        "    precision=TP/(TP+FP)\n",
        "  recall=TP/((TP+FN))\n",
        "  if retrive_all:\n",
        "    top_k=top_k+1000\n",
        "  if recall==1:\n",
        "    retrive_all=False\n",
        "  return precision,recall"
      ],
      "metadata": {
        "id": "jzd9K7Oml09B"
      },
      "execution_count": 15,
      "outputs": []
    },
    {
      "cell_type": "code",
      "source": [
        "import time\n",
        "list_top_elements=[1000]\n",
        "i=0\n",
        "j=0\n",
        "k=0\n",
        "precision_results=[]\n",
        "recall_results=[]\n",
        "name_results=[]\n",
        "list_precision_results=[]\n",
        "list_recall_results=[]\n",
        "test_vectors=result_test.reshape(result_test.shape[0],-1)\n",
        "# vector=result_test[count]\n",
        "for top_k in list_top_elements:\n",
        "  for index in index_faiss_objs:\n",
        "    for vector in test_vectors:\n",
        "      start=time.time()\n",
        "      if list_n_components[i] > 0:\n",
        "        reduced_vector=(vector.reshape(1,-1)-pca_objs[i].mean_)@pca_objs[i].components_.T\n",
        "      else:\n",
        "        if list_n_components[i] < 0:\n",
        "          reduced_vector=(vector.reshape(1,-1)-pca_objs[i].mean_)@pca_objs[i].components_[-list_n_components[i]:].T\n",
        "        else:\n",
        "          reduced_vector=vector\n",
        "      # _,retrived_elements=index.search((reduced_vector.reshape(1, -1)), top_k)\n",
        "      # precision,recall=compute_precision_recall(y_train,retrived_elements,y_test[j])\n",
        "      precision,recall=compute_precision_recall(y_train,y_test[j],index,top_k,reduced_vector,True)\n",
        "      name_results.append(y_test[j])\n",
        "      precision_results.append(precision)\n",
        "      recall_results.append(recall)\n",
        "      j=j+1\n",
        "      tmp=time.time()-start\n",
        "      # print('Time ',i,tmp)\n",
        "    i=i+1\n",
        "    j=0\n",
        "recall_results=np.array(recall_results).reshape(len(list_top_elements),len(index_faiss_objs),test_vectors.shape[0])\n",
        "precision_results=np.array(precision_results).reshape(len(list_top_elements),len(index_faiss_objs),test_vectors.shape[0])\n",
        "name_results=np.array(name_results).reshape(len(list_top_elements),len(index_faiss_objs),test_vectors.shape[0])"
      ],
      "metadata": {
        "id": "WpBTT2YzqBTP"
      },
      "execution_count": null,
      "outputs": []
    },
    {
      "cell_type": "code",
      "source": [
        "def create_DataFrame(id_labels,selected_name_result,selected_precision_result,normalization_factors,index_faiss_n_components,list_n_components,index_selected_top_k_retrival):\n",
        "  str_top_k=str(list_top_elements[index_selected_top_k_retrival])\n",
        "  text=''\n",
        "  index_type=''\n",
        "  precision_vector=np.bincount(selected_name_result,weights=selected_precision_result)/normalization_factors\n",
        "  recall_vector=np.bincount(selected_name_result,weights=selected_recall_result)/normalization_factors\n",
        "  F1_vector=2*(precision_vector*recall_vector)/(precision_vector+recall_vector)\n",
        "  if index_faiss_objs[index_faiss_n_components].__class__.__name__ == 'IndexFlatIP':\n",
        "    index_type='(IP)'\n",
        "  else:\n",
        "    index_type='(L2)'\n",
        "  if list_n_components[index_faiss_n_components]<0:\n",
        "    text='/'+str(fixed_components)\n",
        "  df = pd.DataFrame({\n",
        "    \"Faces\":id_labels,\n",
        "    (\"F\"+index_type+\"@\"+str_top_k+'_'+str(list_n_components[index_faiss_n_components])+text):F1_vector\n",
        "    # (\"P\"+index_type+\"@\"+str_top_k+'_'+str(list_n_components[index_faiss_n_components])+text):precision_vector,\n",
        "    # (\"R@\"+str_top_k+'_'+str(list_n_components[index_faiss_n_components])):recall_vector,\n",
        "  })\n",
        "  return df\n",
        "  # if(list_n_components[index_faiss_n_components]>0):\n",
        "  #   return df.style.set_caption(\"nr comp.\"+str(list_n_components[index_faiss_n_components]))\n",
        "  # elif list_n_components[index_faiss_n_components]==0:\n",
        "  #   return df.style.set_caption(\"nr comp. Full dimension\")\n",
        "  # else:\n",
        "  #   return df.style.set_caption(\"W/o first \"+str(-list_n_components[index_faiss_n_components])+' components')"
      ],
      "metadata": {
        "id": "Jh9hY2qno4n4"
      },
      "execution_count": 30,
      "outputs": []
    },
    {
      "cell_type": "code",
      "source": [
        "# index_selected_top_k_retrival = 0 # precision_results.shape[0]\n",
        "# index_faiss_n_components = 4 # precision_results.shape[1]\n",
        "df_list=[]\n",
        "for i in range(precision_results.shape[0]):\n",
        "  for j in range(precision_results.shape[1]):\n",
        "    selected_name_result = name_results[i][j]\n",
        "    selected_recall_result = recall_results[i][j]\n",
        "    selected_precision_result = precision_results[i][j]\n",
        "    id_labels,normalization_factors = np.unique(y_test,return_counts=True)\n",
        "    df=create_DataFrame(id_labels,selected_name_result,selected_precision_result,normalization_factors,j,list_n_components,i)\n",
        "    df_list.append(df)"
      ],
      "metadata": {
        "id": "wccn9Ttfn_LI"
      },
      "execution_count": 34,
      "outputs": []
    },
    {
      "cell_type": "markdown",
      "source": [
        "F1 Score all retrived<br>\n",
        "F(IP)@1000_0    -> F-Score(distance_InnerProduct)@all_elements_noPCAReduction<br>\n",
        "F(IP)@1000_200  ->F-Score(distance_InnerProduct)@all_elements_PCA_200_Components<br>\n",
        "F(IP)@1000_-2/25-> F-Score(Distance_InnerProduct)@W/h first 2 componets out of 25"
      ],
      "metadata": {
        "id": "Prq_Z7xFASMq"
      }
    },
    {
      "cell_type": "code",
      "source": [
        "merged_df=df_list[0]\n",
        "for i in range(1,len(df_list)):\n",
        "  merged_df=pd.merge(merged_df,df_list[i])\n",
        "merged_df.drop(columns=['Faces']).style.highlight_max(color = 'green', axis = 1).highlight_min(color = 'red', axis = 1)"
      ],
      "metadata": {
        "colab": {
          "base_uri": "https://localhost:8080/",
          "height": 269
        },
        "id": "1fzQoI7N92ft",
        "outputId": "1610ce56-278d-4195-908d-3f14dd69af5e"
      },
      "execution_count": 35,
      "outputs": [
        {
          "output_type": "execute_result",
          "data": {
            "text/plain": [
              "<pandas.io.formats.style.Styler at 0x7e4719bf65c0>"
            ],
            "text/html": [
              "<style type=\"text/css\">\n",
              "#T_8f7c8_row0_col0, #T_8f7c8_row1_col5, #T_8f7c8_row2_col0, #T_8f7c8_row3_col5, #T_8f7c8_row4_col0, #T_8f7c8_row5_col0, #T_8f7c8_row6_col0 {\n",
              "  background-color: red;\n",
              "}\n",
              "#T_8f7c8_row0_col4, #T_8f7c8_row1_col1, #T_8f7c8_row2_col4, #T_8f7c8_row3_col3, #T_8f7c8_row4_col4, #T_8f7c8_row5_col4, #T_8f7c8_row6_col1 {\n",
              "  background-color: green;\n",
              "}\n",
              "</style>\n",
              "<table id=\"T_8f7c8\" class=\"dataframe\">\n",
              "  <thead>\n",
              "    <tr>\n",
              "      <th class=\"blank level0\" >&nbsp;</th>\n",
              "      <th id=\"T_8f7c8_level0_col0\" class=\"col_heading level0 col0\" >F(IP)@1000_0</th>\n",
              "      <th id=\"T_8f7c8_level0_col1\" class=\"col_heading level0 col1\" >F(IP)@1000_20</th>\n",
              "      <th id=\"T_8f7c8_level0_col2\" class=\"col_heading level0 col2\" >F(IP)@1000_200</th>\n",
              "      <th id=\"T_8f7c8_level0_col3\" class=\"col_heading level0 col3\" >F(IP)@1000_500</th>\n",
              "      <th id=\"T_8f7c8_level0_col4\" class=\"col_heading level0 col4\" >F(IP)@1000_-2/25</th>\n",
              "      <th id=\"T_8f7c8_level0_col5\" class=\"col_heading level0 col5\" >F(IP)@1000_-3/25</th>\n",
              "    </tr>\n",
              "  </thead>\n",
              "  <tbody>\n",
              "    <tr>\n",
              "      <th id=\"T_8f7c8_level0_row0\" class=\"row_heading level0 row0\" >0</th>\n",
              "      <td id=\"T_8f7c8_row0_col0\" class=\"data row0 col0\" >0.130277</td>\n",
              "      <td id=\"T_8f7c8_row0_col1\" class=\"data row0 col1\" >0.882530</td>\n",
              "      <td id=\"T_8f7c8_row0_col2\" class=\"data row0 col2\" >0.648813</td>\n",
              "      <td id=\"T_8f7c8_row0_col3\" class=\"data row0 col3\" >0.626565</td>\n",
              "      <td id=\"T_8f7c8_row0_col4\" class=\"data row0 col4\" >0.922645</td>\n",
              "      <td id=\"T_8f7c8_row0_col5\" class=\"data row0 col5\" >0.871473</td>\n",
              "    </tr>\n",
              "    <tr>\n",
              "      <th id=\"T_8f7c8_level0_row1\" class=\"row_heading level0 row1\" >1</th>\n",
              "      <td id=\"T_8f7c8_row1_col0\" class=\"data row1 col0\" >0.295018</td>\n",
              "      <td id=\"T_8f7c8_row1_col1\" class=\"data row1 col1\" >0.634331</td>\n",
              "      <td id=\"T_8f7c8_row1_col2\" class=\"data row1 col2\" >0.629437</td>\n",
              "      <td id=\"T_8f7c8_row1_col3\" class=\"data row1 col3\" >0.630065</td>\n",
              "      <td id=\"T_8f7c8_row1_col4\" class=\"data row1 col4\" >0.304533</td>\n",
              "      <td id=\"T_8f7c8_row1_col5\" class=\"data row1 col5\" >0.293336</td>\n",
              "    </tr>\n",
              "    <tr>\n",
              "      <th id=\"T_8f7c8_level0_row2\" class=\"row_heading level0 row2\" >2</th>\n",
              "      <td id=\"T_8f7c8_row2_col0\" class=\"data row2 col0\" >0.176827</td>\n",
              "      <td id=\"T_8f7c8_row2_col1\" class=\"data row2 col1\" >0.311461</td>\n",
              "      <td id=\"T_8f7c8_row2_col2\" class=\"data row2 col2\" >0.249220</td>\n",
              "      <td id=\"T_8f7c8_row2_col3\" class=\"data row2 col3\" >0.259150</td>\n",
              "      <td id=\"T_8f7c8_row2_col4\" class=\"data row2 col4\" >0.337233</td>\n",
              "      <td id=\"T_8f7c8_row2_col5\" class=\"data row2 col5\" >0.249956</td>\n",
              "    </tr>\n",
              "    <tr>\n",
              "      <th id=\"T_8f7c8_level0_row3\" class=\"row_heading level0 row3\" >3</th>\n",
              "      <td id=\"T_8f7c8_row3_col0\" class=\"data row3 col0\" >0.593755</td>\n",
              "      <td id=\"T_8f7c8_row3_col1\" class=\"data row3 col1\" >0.627520</td>\n",
              "      <td id=\"T_8f7c8_row3_col2\" class=\"data row3 col2\" >0.630724</td>\n",
              "      <td id=\"T_8f7c8_row3_col3\" class=\"data row3 col3\" >0.638353</td>\n",
              "      <td id=\"T_8f7c8_row3_col4\" class=\"data row3 col4\" >0.592945</td>\n",
              "      <td id=\"T_8f7c8_row3_col5\" class=\"data row3 col5\" >0.592704</td>\n",
              "    </tr>\n",
              "    <tr>\n",
              "      <th id=\"T_8f7c8_level0_row4\" class=\"row_heading level0 row4\" >4</th>\n",
              "      <td id=\"T_8f7c8_row4_col0\" class=\"data row4 col0\" >0.160353</td>\n",
              "      <td id=\"T_8f7c8_row4_col1\" class=\"data row4 col1\" >0.244939</td>\n",
              "      <td id=\"T_8f7c8_row4_col2\" class=\"data row4 col2\" >0.209563</td>\n",
              "      <td id=\"T_8f7c8_row4_col3\" class=\"data row4 col3\" >0.210453</td>\n",
              "      <td id=\"T_8f7c8_row4_col4\" class=\"data row4 col4\" >0.397753</td>\n",
              "      <td id=\"T_8f7c8_row4_col5\" class=\"data row4 col5\" >0.225534</td>\n",
              "    </tr>\n",
              "    <tr>\n",
              "      <th id=\"T_8f7c8_level0_row5\" class=\"row_heading level0 row5\" >5</th>\n",
              "      <td id=\"T_8f7c8_row5_col0\" class=\"data row5 col0\" >0.104215</td>\n",
              "      <td id=\"T_8f7c8_row5_col1\" class=\"data row5 col1\" >0.601476</td>\n",
              "      <td id=\"T_8f7c8_row5_col2\" class=\"data row5 col2\" >0.451921</td>\n",
              "      <td id=\"T_8f7c8_row5_col3\" class=\"data row5 col3\" >0.425079</td>\n",
              "      <td id=\"T_8f7c8_row5_col4\" class=\"data row5 col4\" >0.700326</td>\n",
              "      <td id=\"T_8f7c8_row5_col5\" class=\"data row5 col5\" >0.265469</td>\n",
              "    </tr>\n",
              "    <tr>\n",
              "      <th id=\"T_8f7c8_level0_row6\" class=\"row_heading level0 row6\" >6</th>\n",
              "      <td id=\"T_8f7c8_row6_col0\" class=\"data row6 col0\" >0.203892</td>\n",
              "      <td id=\"T_8f7c8_row6_col1\" class=\"data row6 col1\" >0.372711</td>\n",
              "      <td id=\"T_8f7c8_row6_col2\" class=\"data row6 col2\" >0.353088</td>\n",
              "      <td id=\"T_8f7c8_row6_col3\" class=\"data row6 col3\" >0.362092</td>\n",
              "      <td id=\"T_8f7c8_row6_col4\" class=\"data row6 col4\" >0.368094</td>\n",
              "      <td id=\"T_8f7c8_row6_col5\" class=\"data row6 col5\" >0.247470</td>\n",
              "    </tr>\n",
              "  </tbody>\n",
              "</table>\n"
            ]
          },
          "metadata": {},
          "execution_count": 35
        }
      ]
    },
    {
      "cell_type": "markdown",
      "source": [
        "Precision"
      ],
      "metadata": {
        "id": "HEuXARaMAUnV"
      }
    },
    {
      "cell_type": "code",
      "source": [
        "merged_df=df_list[0]\n",
        "for i in range(1,len(df_list)):\n",
        "  merged_df=pd.merge(merged_df,df_list[i])\n",
        "merged_df.drop(columns=['Faces']).style.highlight_max(color = 'green', axis = 1).highlight_min(color = 'red', axis = 1)"
      ],
      "metadata": {
        "colab": {
          "base_uri": "https://localhost:8080/",
          "height": 269
        },
        "id": "QjLlZUXHREIQ",
        "outputId": "92a3d8b1-fe60-44c6-9cb6-baa073480381"
      },
      "execution_count": 19,
      "outputs": [
        {
          "output_type": "execute_result",
          "data": {
            "text/plain": [
              "<pandas.io.formats.style.Styler at 0x7e471a88d450>"
            ],
            "text/html": [
              "<style type=\"text/css\">\n",
              "#T_b1f29_row0_col0, #T_b1f29_row1_col6, #T_b1f29_row2_col6, #T_b1f29_row3_col4, #T_b1f29_row4_col0, #T_b1f29_row5_col6, #T_b1f29_row6_col6 {\n",
              "  background-color: red;\n",
              "}\n",
              "#T_b1f29_row0_col5, #T_b1f29_row1_col1, #T_b1f29_row2_col5, #T_b1f29_row3_col0, #T_b1f29_row4_col5, #T_b1f29_row5_col5, #T_b1f29_row6_col1 {\n",
              "  background-color: green;\n",
              "}\n",
              "</style>\n",
              "<table id=\"T_b1f29\" class=\"dataframe\">\n",
              "  <thead>\n",
              "    <tr>\n",
              "      <th class=\"blank level0\" >&nbsp;</th>\n",
              "      <th id=\"T_b1f29_level0_col0\" class=\"col_heading level0 col0\" >P(IP)@1000_10</th>\n",
              "      <th id=\"T_b1f29_level0_col1\" class=\"col_heading level0 col1\" >P(IP)@1000_15</th>\n",
              "      <th id=\"T_b1f29_level0_col2\" class=\"col_heading level0 col2\" >P(IP)@1000_20</th>\n",
              "      <th id=\"T_b1f29_level0_col3\" class=\"col_heading level0 col3\" >P(IP)@1000_25</th>\n",
              "      <th id=\"T_b1f29_level0_col4\" class=\"col_heading level0 col4\" >P(IP)@1000_-1/25</th>\n",
              "      <th id=\"T_b1f29_level0_col5\" class=\"col_heading level0 col5\" >P(IP)@1000_-2/25</th>\n",
              "      <th id=\"T_b1f29_level0_col6\" class=\"col_heading level0 col6\" >P(IP)@1000_-3/25</th>\n",
              "    </tr>\n",
              "  </thead>\n",
              "  <tbody>\n",
              "    <tr>\n",
              "      <th id=\"T_b1f29_level0_row0\" class=\"row_heading level0 row0\" >0</th>\n",
              "      <td id=\"T_b1f29_row0_col0\" class=\"data row0 col0\" >0.574956</td>\n",
              "      <td id=\"T_b1f29_row0_col1\" class=\"data row0 col1\" >0.820010</td>\n",
              "      <td id=\"T_b1f29_row0_col2\" class=\"data row0 col2\" >0.788238</td>\n",
              "      <td id=\"T_b1f29_row0_col3\" class=\"data row0 col3\" >0.816205</td>\n",
              "      <td id=\"T_b1f29_row0_col4\" class=\"data row0 col4\" >0.710512</td>\n",
              "      <td id=\"T_b1f29_row0_col5\" class=\"data row0 col5\" >0.860755</td>\n",
              "      <td id=\"T_b1f29_row0_col6\" class=\"data row0 col6\" >0.777463</td>\n",
              "    </tr>\n",
              "    <tr>\n",
              "      <th id=\"T_b1f29_level0_row1\" class=\"row_heading level0 row1\" >1</th>\n",
              "      <td id=\"T_b1f29_row1_col0\" class=\"data row1 col0\" >0.461592</td>\n",
              "      <td id=\"T_b1f29_row1_col1\" class=\"data row1 col1\" >0.466311</td>\n",
              "      <td id=\"T_b1f29_row1_col2\" class=\"data row1 col2\" >0.465541</td>\n",
              "      <td id=\"T_b1f29_row1_col3\" class=\"data row1 col3\" >0.463356</td>\n",
              "      <td id=\"T_b1f29_row1_col4\" class=\"data row1 col4\" >0.176287</td>\n",
              "      <td id=\"T_b1f29_row1_col5\" class=\"data row1 col5\" >0.179713</td>\n",
              "      <td id=\"T_b1f29_row1_col6\" class=\"data row1 col6\" >0.171857</td>\n",
              "    </tr>\n",
              "    <tr>\n",
              "      <th id=\"T_b1f29_level0_row2\" class=\"row_heading level0 row2\" >2</th>\n",
              "      <td id=\"T_b1f29_row2_col0\" class=\"data row2 col0\" >0.176623</td>\n",
              "      <td id=\"T_b1f29_row2_col1\" class=\"data row2 col1\" >0.182614</td>\n",
              "      <td id=\"T_b1f29_row2_col2\" class=\"data row2 col2\" >0.185216</td>\n",
              "      <td id=\"T_b1f29_row2_col3\" class=\"data row2 col3\" >0.191850</td>\n",
              "      <td id=\"T_b1f29_row2_col4\" class=\"data row2 col4\" >0.166357</td>\n",
              "      <td id=\"T_b1f29_row2_col5\" class=\"data row2 col5\" >0.201276</td>\n",
              "      <td id=\"T_b1f29_row2_col6\" class=\"data row2 col6\" >0.141550</td>\n",
              "    </tr>\n",
              "    <tr>\n",
              "      <th id=\"T_b1f29_level0_row3\" class=\"row_heading level0 row3\" >3</th>\n",
              "      <td id=\"T_b1f29_row3_col0\" class=\"data row3 col0\" >0.467016</td>\n",
              "      <td id=\"T_b1f29_row3_col1\" class=\"data row3 col1\" >0.453949</td>\n",
              "      <td id=\"T_b1f29_row3_col2\" class=\"data row3 col2\" >0.457988</td>\n",
              "      <td id=\"T_b1f29_row3_col3\" class=\"data row3 col3\" >0.458370</td>\n",
              "      <td id=\"T_b1f29_row3_col4\" class=\"data row3 col4\" >0.421122</td>\n",
              "      <td id=\"T_b1f29_row3_col5\" class=\"data row3 col5\" >0.421435</td>\n",
              "      <td id=\"T_b1f29_row3_col6\" class=\"data row3 col6\" >0.421174</td>\n",
              "    </tr>\n",
              "    <tr>\n",
              "      <th id=\"T_b1f29_level0_row4\" class=\"row_heading level0 row4\" >4</th>\n",
              "      <td id=\"T_b1f29_row4_col0\" class=\"data row4 col0\" >0.114900</td>\n",
              "      <td id=\"T_b1f29_row4_col1\" class=\"data row4 col1\" >0.143912</td>\n",
              "      <td id=\"T_b1f29_row4_col2\" class=\"data row4 col2\" >0.140426</td>\n",
              "      <td id=\"T_b1f29_row4_col3\" class=\"data row4 col3\" >0.137624</td>\n",
              "      <td id=\"T_b1f29_row4_col4\" class=\"data row4 col4\" >0.147054</td>\n",
              "      <td id=\"T_b1f29_row4_col5\" class=\"data row4 col5\" >0.252074</td>\n",
              "      <td id=\"T_b1f29_row4_col6\" class=\"data row4 col6\" >0.127863</td>\n",
              "    </tr>\n",
              "    <tr>\n",
              "      <th id=\"T_b1f29_level0_row5\" class=\"row_heading level0 row5\" >5</th>\n",
              "      <td id=\"T_b1f29_row5_col0\" class=\"data row5 col0\" >0.232808</td>\n",
              "      <td id=\"T_b1f29_row5_col1\" class=\"data row5 col1\" >0.393158</td>\n",
              "      <td id=\"T_b1f29_row5_col2\" class=\"data row5 col2\" >0.421149</td>\n",
              "      <td id=\"T_b1f29_row5_col3\" class=\"data row5 col3\" >0.414968</td>\n",
              "      <td id=\"T_b1f29_row5_col4\" class=\"data row5 col4\" >0.449411</td>\n",
              "      <td id=\"T_b1f29_row5_col5\" class=\"data row5 col5\" >0.535300</td>\n",
              "      <td id=\"T_b1f29_row5_col6\" class=\"data row5 col6\" >0.151894</td>\n",
              "    </tr>\n",
              "    <tr>\n",
              "      <th id=\"T_b1f29_level0_row6\" class=\"row_heading level0 row6\" >6</th>\n",
              "      <td id=\"T_b1f29_row6_col0\" class=\"data row6 col0\" >0.234287</td>\n",
              "      <td id=\"T_b1f29_row6_col1\" class=\"data row6 col1\" >0.237636</td>\n",
              "      <td id=\"T_b1f29_row6_col2\" class=\"data row6 col2\" >0.228080</td>\n",
              "      <td id=\"T_b1f29_row6_col3\" class=\"data row6 col3\" >0.222563</td>\n",
              "      <td id=\"T_b1f29_row6_col4\" class=\"data row6 col4\" >0.167132</td>\n",
              "      <td id=\"T_b1f29_row6_col5\" class=\"data row6 col5\" >0.224931</td>\n",
              "      <td id=\"T_b1f29_row6_col6\" class=\"data row6 col6\" >0.141107</td>\n",
              "    </tr>\n",
              "  </tbody>\n",
              "</table>\n"
            ]
          },
          "metadata": {},
          "execution_count": 19
        }
      ]
    },
    {
      "cell_type": "markdown",
      "source": [
        "Precision"
      ],
      "metadata": {
        "id": "PbnH2FfqAYue"
      }
    },
    {
      "cell_type": "code",
      "source": [
        "merged_df=df_list[0]\n",
        "for i in range(1,len(df_list)):\n",
        "  merged_df=pd.merge(merged_df,df_list[i])\n",
        "merged_df.drop(columns=['Faces']).style.highlight_max(color = 'green', axis = 1).highlight_min(color = 'red', axis = 1)"
      ],
      "metadata": {
        "colab": {
          "base_uri": "https://localhost:8080/",
          "height": 269
        },
        "id": "WN-GO2P6wR5r",
        "outputId": "6254892a-6707-4445-f37f-3681880117d8"
      },
      "execution_count": 25,
      "outputs": [
        {
          "output_type": "execute_result",
          "data": {
            "text/plain": [
              "<pandas.io.formats.style.Styler at 0x7e4719bf4520>"
            ],
            "text/html": [
              "<style type=\"text/css\">\n",
              "#T_5907b_row0_col0, #T_5907b_row1_col5, #T_5907b_row2_col0, #T_5907b_row3_col5, #T_5907b_row4_col0, #T_5907b_row5_col0, #T_5907b_row6_col0 {\n",
              "  background-color: red;\n",
              "}\n",
              "#T_5907b_row0_col4, #T_5907b_row1_col1, #T_5907b_row2_col4, #T_5907b_row3_col3, #T_5907b_row4_col4, #T_5907b_row5_col4, #T_5907b_row6_col1 {\n",
              "  background-color: green;\n",
              "}\n",
              "</style>\n",
              "<table id=\"T_5907b\" class=\"dataframe\">\n",
              "  <thead>\n",
              "    <tr>\n",
              "      <th class=\"blank level0\" >&nbsp;</th>\n",
              "      <th id=\"T_5907b_level0_col0\" class=\"col_heading level0 col0\" >P(IP)@1000_0</th>\n",
              "      <th id=\"T_5907b_level0_col1\" class=\"col_heading level0 col1\" >P(IP)@1000_20</th>\n",
              "      <th id=\"T_5907b_level0_col2\" class=\"col_heading level0 col2\" >P(IP)@1000_200</th>\n",
              "      <th id=\"T_5907b_level0_col3\" class=\"col_heading level0 col3\" >P(IP)@1000_500</th>\n",
              "      <th id=\"T_5907b_level0_col4\" class=\"col_heading level0 col4\" >P(IP)@1000_-2/25</th>\n",
              "      <th id=\"T_5907b_level0_col5\" class=\"col_heading level0 col5\" >P(IP)@1000_-3/25</th>\n",
              "    </tr>\n",
              "  </thead>\n",
              "  <tbody>\n",
              "    <tr>\n",
              "      <th id=\"T_5907b_level0_row0\" class=\"row_heading level0 row0\" >0</th>\n",
              "      <td id=\"T_5907b_row0_col0\" class=\"data row0 col0\" >0.069677</td>\n",
              "      <td id=\"T_5907b_row0_col1\" class=\"data row0 col1\" >0.789757</td>\n",
              "      <td id=\"T_5907b_row0_col2\" class=\"data row0 col2\" >0.480180</td>\n",
              "      <td id=\"T_5907b_row0_col3\" class=\"data row0 col3\" >0.456203</td>\n",
              "      <td id=\"T_5907b_row0_col4\" class=\"data row0 col4\" >0.856398</td>\n",
              "      <td id=\"T_5907b_row0_col5\" class=\"data row0 col5\" >0.772221</td>\n",
              "    </tr>\n",
              "    <tr>\n",
              "      <th id=\"T_5907b_level0_row1\" class=\"row_heading level0 row1\" >1</th>\n",
              "      <td id=\"T_5907b_row1_col0\" class=\"data row1 col0\" >0.173033</td>\n",
              "      <td id=\"T_5907b_row1_col1\" class=\"data row1 col1\" >0.464484</td>\n",
              "      <td id=\"T_5907b_row1_col2\" class=\"data row1 col2\" >0.459254</td>\n",
              "      <td id=\"T_5907b_row1_col3\" class=\"data row1 col3\" >0.459923</td>\n",
              "      <td id=\"T_5907b_row1_col4\" class=\"data row1 col4\" >0.179616</td>\n",
              "      <td id=\"T_5907b_row1_col5\" class=\"data row1 col5\" >0.171877</td>\n",
              "    </tr>\n",
              "    <tr>\n",
              "      <th id=\"T_5907b_level0_row2\" class=\"row_heading level0 row2\" >2</th>\n",
              "      <td id=\"T_5907b_row2_col0\" class=\"data row2 col0\" >0.096989</td>\n",
              "      <td id=\"T_5907b_row2_col1\" class=\"data row2 col1\" >0.184456</td>\n",
              "      <td id=\"T_5907b_row2_col2\" class=\"data row2 col2\" >0.142348</td>\n",
              "      <td id=\"T_5907b_row2_col3\" class=\"data row2 col3\" >0.148864</td>\n",
              "      <td id=\"T_5907b_row2_col4\" class=\"data row2 col4\" >0.202815</td>\n",
              "      <td id=\"T_5907b_row2_col5\" class=\"data row2 col5\" >0.142829</td>\n",
              "    </tr>\n",
              "    <tr>\n",
              "      <th id=\"T_5907b_level0_row3\" class=\"row_heading level0 row3\" >3</th>\n",
              "      <td id=\"T_5907b_row3_col0\" class=\"data row3 col0\" >0.422228</td>\n",
              "      <td id=\"T_5907b_row3_col1\" class=\"data row3 col1\" >0.457216</td>\n",
              "      <td id=\"T_5907b_row3_col2\" class=\"data row3 col2\" >0.460626</td>\n",
              "      <td id=\"T_5907b_row3_col3\" class=\"data row3 col3\" >0.468809</td>\n",
              "      <td id=\"T_5907b_row3_col4\" class=\"data row3 col4\" >0.421409</td>\n",
              "      <td id=\"T_5907b_row3_col5\" class=\"data row3 col5\" >0.421166</td>\n",
              "    </tr>\n",
              "    <tr>\n",
              "      <th id=\"T_5907b_level0_row4\" class=\"row_heading level0 row4\" >4</th>\n",
              "      <td id=\"T_5907b_row4_col0\" class=\"data row4 col0\" >0.087165</td>\n",
              "      <td id=\"T_5907b_row4_col1\" class=\"data row4 col1\" >0.139562</td>\n",
              "      <td id=\"T_5907b_row4_col2\" class=\"data row4 col2\" >0.117046</td>\n",
              "      <td id=\"T_5907b_row4_col3\" class=\"data row4 col3\" >0.117601</td>\n",
              "      <td id=\"T_5907b_row4_col4\" class=\"data row4 col4\" >0.248247</td>\n",
              "      <td id=\"T_5907b_row4_col5\" class=\"data row4 col5\" >0.127100</td>\n",
              "    </tr>\n",
              "    <tr>\n",
              "      <th id=\"T_5907b_level0_row5\" class=\"row_heading level0 row5\" >5</th>\n",
              "      <td id=\"T_5907b_row5_col0\" class=\"data row5 col0\" >0.054972</td>\n",
              "      <td id=\"T_5907b_row5_col1\" class=\"data row5 col1\" >0.430079</td>\n",
              "      <td id=\"T_5907b_row5_col2\" class=\"data row5 col2\" >0.291924</td>\n",
              "      <td id=\"T_5907b_row5_col3\" class=\"data row5 col3\" >0.269905</td>\n",
              "      <td id=\"T_5907b_row5_col4\" class=\"data row5 col4\" >0.538847</td>\n",
              "      <td id=\"T_5907b_row5_col5\" class=\"data row5 col5\" >0.153050</td>\n",
              "    </tr>\n",
              "    <tr>\n",
              "      <th id=\"T_5907b_level0_row6\" class=\"row_heading level0 row6\" >6</th>\n",
              "      <td id=\"T_5907b_row6_col0\" class=\"data row6 col0\" >0.113519</td>\n",
              "      <td id=\"T_5907b_row6_col1\" class=\"data row6 col1\" >0.229038</td>\n",
              "      <td id=\"T_5907b_row6_col2\" class=\"data row6 col2\" >0.214394</td>\n",
              "      <td id=\"T_5907b_row6_col3\" class=\"data row6 col3\" >0.221069</td>\n",
              "      <td id=\"T_5907b_row6_col4\" class=\"data row6 col4\" >0.225561</td>\n",
              "      <td id=\"T_5907b_row6_col5\" class=\"data row6 col5\" >0.141207</td>\n",
              "    </tr>\n",
              "  </tbody>\n",
              "</table>\n"
            ]
          },
          "metadata": {},
          "execution_count": 25
        }
      ]
    }
  ]
}