{
  "nbformat": 4,
  "nbformat_minor": 0,
  "metadata": {
    "colab": {
      "provenance": [],
      "gpuType": "T4",
      "authorship_tag": "ABX9TyP+GvpdKJYEMiC0uSMSfE5r",
      "include_colab_link": true
    },
    "kernelspec": {
      "name": "python3",
      "display_name": "Python 3"
    },
    "language_info": {
      "name": "python"
    },
    "accelerator": "GPU"
  },
  "cells": [
    {
      "cell_type": "markdown",
      "metadata": {
        "id": "view-in-github",
        "colab_type": "text"
      },
      "source": [
        "<a href=\"https://colab.research.google.com/github/villifCoder559/VGGFaceFeatures_PCA/blob/main/VGGFace.ipynb\" target=\"_parent\"><img src=\"https://colab.research.google.com/assets/colab-badge.svg\" alt=\"Open In Colab\"/></a>"
      ]
    },
    {
      "cell_type": "code",
      "source": [
        "%%capture\n",
        "!pip install faiss-cpu --no-cache"
      ],
      "metadata": {
        "id": "yjaRyJjosHEd"
      },
      "execution_count": 1,
      "outputs": []
    },
    {
      "cell_type": "code",
      "source": [
        "%%capture\n",
        "!pip install git+https://github.com/rcmalli/keras-vggface.git\n",
        "!pip install tensorflow keras_applications\n",
        "!pip install layer_utils"
      ],
      "metadata": {
        "id": "WvE2z802PlYv"
      },
      "execution_count": 2,
      "outputs": []
    },
    {
      "cell_type": "code",
      "source": [
        "%%capture\n",
        "!pip install keras==2.12"
      ],
      "metadata": {
        "id": "B4_W4a6SCKMr"
      },
      "execution_count": 3,
      "outputs": []
    },
    {
      "cell_type": "code",
      "source": [
        "import numpy as np\n",
        "import pandas as pd\n",
        "import cv2\n",
        "import keras\n",
        "from keras_vggface.vggface import VGGFace\n",
        "from sklearn.datasets import fetch_lfw_people\n",
        "from skimage.transform import resize\n",
        "import faiss\n",
        "from sklearn.decomposition import PCA\n",
        "import matplotlib.pyplot as plt\n",
        "from sklearn import metrics\n",
        "import pandas as pd"
      ],
      "metadata": {
        "id": "yPyZ0drGU3D5"
      },
      "execution_count": 4,
      "outputs": []
    },
    {
      "cell_type": "markdown",
      "source": [
        "<h1>Balancing Dataset"
      ],
      "metadata": {
        "id": "Sy0QwabIes5O"
      }
    },
    {
      "cell_type": "code",
      "source": [
        "# lfw_people = fetch_lfw_people(min_faces_per_person=55, resize=2.4,color=True)\n",
        "np.random.seed(42)\n",
        "data=lfw_people.images\n",
        "target=lfw_people.target\n",
        "index_list,nr_elements_per_class=np.unique(target,return_counts=True)\n",
        "min_elements=min(nr_elements_per_class)\n",
        "balanced_data=[]\n",
        "balanced_target=[]\n",
        "for s_class in index_list:\n",
        "  print(s_class)\n",
        "  list_indices = np.argwhere(target == s_class).reshape(-1)\n",
        "  choices = np.random.choice(list_indices, min_elements, replace = False)\n",
        "  balanced_target.append(np.full(min_elements,s_class))\n",
        "  balanced_data.append(data[choices])\n",
        "balanced_data=np.array(balanced_data)\n",
        "balanced_target=np.array(balanced_target)\n",
        "balanced_data=balanced_data.reshape(balanced_data.shape[0]*balanced_data.shape[1],balanced_data.shape[2],balanced_data.shape[3],balanced_data.shape[4])\n",
        "balanced_target=balanced_target.reshape(-1)"
      ],
      "metadata": {
        "id": "IddmW05E2Zyp"
      },
      "execution_count": null,
      "outputs": []
    },
    {
      "cell_type": "code",
      "source": [
        "from sklearn.model_selection import train_test_split\n",
        "# X_train, X_test, y_train, y_test = train_test_split(faces.images, faces.target, test_size=0.1, random_state=2)\n",
        "X_train, X_test, y_train, y_test = train_test_split(balanced_data, balanced_target, test_size=0.2, random_state=2)"
      ],
      "metadata": {
        "id": "Zcxhg9ceNqr_"
      },
      "execution_count": 73,
      "outputs": []
    },
    {
      "cell_type": "markdown",
      "source": [
        "<h1>Image normalization and standardization"
      ],
      "metadata": {
        "id": "MbXbzHRgeys3"
      }
    },
    {
      "cell_type": "code",
      "source": [
        "image_samples_train=np.copy(X_train)\n",
        "image_samples_train=np.array([cv2.resize(img,(224,224)) for img in image_samples_train])\n",
        "image_samples_train[:,:,:,0]=(image_samples_train[:,:,:,0]-np.mean(X_train[:,:,:,0]))/(np.std(X_train[:,:,:,0]))\n",
        "image_samples_train[:,:,:,1]=(image_samples_train[:,:,:,1]-np.mean(X_train[:,:,:,1]))/(np.std(X_train[:,:,:,1]))\n",
        "image_samples_train[:,:,:,2]=(image_samples_train[:,:,:,2]-np.mean(X_train[:,:,:,2]))/(np.std(X_train[:,:,:,2]))"
      ],
      "metadata": {
        "id": "LmuLa6h2k5zX"
      },
      "execution_count": 74,
      "outputs": []
    },
    {
      "cell_type": "code",
      "source": [
        "image_samples_test=np.copy(X_test)\n",
        "image_samples_test=np.array([cv2.resize(img,(224,224)) for img in image_samples_test])\n",
        "image_samples_test[:,:,:,0]=(image_samples_test[:,:,:,0]-np.mean(X_train[:,:,:,0]))/(np.std(X_train[:,:,:,0]))\n",
        "image_samples_test[:,:,:,1]=(image_samples_test[:,:,:,1]-np.mean(X_train[:,:,:,1]))/(np.std(X_train[:,:,:,1]))\n",
        "image_samples_test[:,:,:,2]=(image_samples_test[:,:,:,2]-np.mean(X_train[:,:,:,2]))/(np.std(X_train[:,:,:,2]))"
      ],
      "metadata": {
        "id": "cNCdu7MLaYa7"
      },
      "execution_count": 75,
      "outputs": []
    },
    {
      "cell_type": "markdown",
      "source": [
        "<h1>Extract features"
      ],
      "metadata": {
        "id": "glcX5CjKiDI2"
      }
    },
    {
      "cell_type": "code",
      "execution_count": 76,
      "metadata": {
        "id": "B3fbqgKdBMbk",
        "colab": {
          "base_uri": "https://localhost:8080/"
        },
        "outputId": "8327c303-fd4b-42c3-e695-3db0d5c34cc9"
      },
      "outputs": [
        {
          "output_type": "stream",
          "name": "stdout",
          "text": [
            "13/13 [==============================] - 5s 396ms/step\n",
            "4/4 [==============================] - 2s 602ms/step\n"
          ]
        }
      ],
      "source": [
        "vggface = VGGFace(model='vgg16',include_top=False,input_shape=(image_samples_train.shape[1],image_samples_train.shape[2],image_samples_train.shape[3]))\n",
        "result_train=vggface.predict(image_samples_train)\n",
        "result_test=vggface.predict(image_samples_test)\n",
        "original_result_train=np.copy(result_train)\n",
        "original_result_test=np.copy(result_test)"
      ]
    },
    {
      "cell_type": "markdown",
      "source": [
        "<h1>Save/load features from drive"
      ],
      "metadata": {
        "id": "LscqwWAMkmVU"
      }
    },
    {
      "cell_type": "code",
      "source": [
        "# from google.colab import drive\n",
        "# import os\n",
        "# drive.mount('/content/drive')\n",
        "# drive_path = '/content/drive/MyDrive/'\n",
        "# # np.save(os.path.join(drive_path, 'faces.npy'), faces)\n",
        "# np.save(os.path.join(drive_path, 'VGGFace_features_faces_norm_std_train.npy'), original_result_train)\n",
        "# np.save(os.path.join(drive_path, 'VGGFace_features_faces_norm_std_test.npy'), original_result_test)"
      ],
      "metadata": {
        "id": "pFvqiw-31-z5",
        "colab": {
          "base_uri": "https://localhost:8080/"
        },
        "outputId": "646c586f-b803-4c6a-af87-07965fd4a0be"
      },
      "execution_count": 77,
      "outputs": [
        {
          "output_type": "stream",
          "name": "stdout",
          "text": [
            "Drive already mounted at /content/drive; to attempt to forcibly remount, call drive.mount(\"/content/drive\", force_remount=True).\n"
          ]
        }
      ]
    },
    {
      "cell_type": "code",
      "source": [
        "from google.colab import drive\n",
        "import os\n",
        "drive_path = '/content/drive/MyDrive/'\n",
        "result_train=np.load(os.path.join(drive_path, 'VGGFace_features_faces_norm_std_train.npy'),allow_pickle=True)\n",
        "result_test=np.load(os.path.join(drive_path, 'VGGFace_features_faces_norm_std_test.npy'),allow_pickle=True)"
      ],
      "metadata": {
        "id": "ylhbR17i2uDM"
      },
      "execution_count": null,
      "outputs": []
    },
    {
      "cell_type": "markdown",
      "source": [
        "1) Controlla se test e train vectors are normalized<br>\n",
        "2) Bilanciare dataset"
      ],
      "metadata": {
        "id": "deSpDb1Cp1hg"
      }
    },
    {
      "cell_type": "code",
      "source": [
        "fixed_components=396\n",
        "#create reduction (if n_components is negative it means to remove the first n_components instead of lasts)\n",
        "def create_test_reduction(n_components,result_train,type_index='FlatL2'):\n",
        "  if type_index not in ['FlatL2', 'FlatIP']:\n",
        "        raise ValueError(\"Type must be 'FlatL2' or 'FlatIP'\")\n",
        "  features_reducted=result_train.reshape(result_train.shape[0],-1)\n",
        "  if n_components > 0:\n",
        "    tmp_PCA=PCA(n_components=n_components)\n",
        "    features_reducted=np.ascontiguousarray(tmp_PCA.fit_transform(features_reducted))\n",
        "  else:\n",
        "    tmp_PCA=PCA(n_components=fixed_components).fit(features_reducted)\n",
        "    features_reducted=custom_reduction(tmp_PCA,result_train,n_components)\n",
        "  faiss.normalize_L2(features_reducted)\n",
        "  if type_index=='FlatIP':\n",
        "    return tmp_PCA,features_reducted,faiss.IndexFlatIP(features_reducted.shape[1])\n",
        "  else:\n",
        "    return tmp_PCA,features_reducted,faiss.IndexFlatL2(features_reducted.shape[1])"
      ],
      "metadata": {
        "id": "v1RKwLuhXeDy"
      },
      "execution_count": 117,
      "outputs": []
    },
    {
      "cell_type": "code",
      "source": [
        "def custom_reduction(pca,result_train,start_index):\n",
        "  transformed_results = []\n",
        "  for element in result_train:\n",
        "    test = element.reshape(1, -1)\n",
        "    # Apply PCA transformation\n",
        "    transformed_result = np.dot(test - pca.mean_, pca.components_[(-start_index):].T)\n",
        "    transformed_results.append(transformed_result)\n",
        "  return np.array(transformed_results).reshape(result_train.shape[0],pca.components_.shape[0]+start_index)"
      ],
      "metadata": {
        "id": "7c8Y3ky9fZSf"
      },
      "execution_count": 79,
      "outputs": []
    },
    {
      "cell_type": "markdown",
      "source": [
        "<h1>Create Tests"
      ],
      "metadata": {
        "id": "Hdv6dHVIfMTn"
      }
    },
    {
      "cell_type": "code",
      "source": [
        "# list_n_components=[0,20,200,390,-1,-2,-3] #0 -> No PCA, -K -> Without first K eigenvectors, +K -> Use K components\n",
        "list_n_components=range(0,-6,-1)\n",
        "index_type='FlatL2' # FlatIP or FlatL2\n",
        "pca_objs=[]\n",
        "features_objs=[]\n",
        "index_faiss_objs=[]\n",
        "for n_components in list_n_components:\n",
        "  if n_components>0:\n",
        "    pca,features,index=create_test_reduction(n_components,result_train,index_type)\n",
        "    pca_objs.append(pca)\n",
        "    features_objs.append(features)\n",
        "    index_faiss_objs.append(index)\n",
        "  else:\n",
        "    if(n_components<0):\n",
        "      pca,features,index=create_test_reduction(n_components,result_train,index_type)\n",
        "      pca_objs.append(pca)\n",
        "      features_objs.append(features)\n",
        "      index_faiss_objs.append(index)\n",
        "    else: # dummy PCA\n",
        "      pca_objs.append(PCA())\n",
        "      features_objs.append(result_train.reshape(result_train.shape[0],-1))\n",
        "      if index_type=='FlatIP':\n",
        "        index_faiss_objs.append(faiss.IndexFlatIP(result_train.reshape(result_train.shape[0],-1).shape[1]))\n",
        "      else:\n",
        "        index_faiss_objs.append(faiss.IndexFlatL2(result_train.reshape(result_train.shape[0],-1).shape[1]))\n",
        "#add vectors to index\n",
        "count=0\n",
        "for index in index_faiss_objs:\n",
        "  print(features_objs[count].shape)\n",
        "  index.add(features_objs[count])\n",
        "  count=count+1"
      ],
      "metadata": {
        "colab": {
          "base_uri": "https://localhost:8080/"
        },
        "id": "Wcs4ZeZcJX4G",
        "outputId": "590026e9-1e40-4059-d38f-35824ea5a2f5"
      },
      "execution_count": 122,
      "outputs": [
        {
          "output_type": "stream",
          "name": "stdout",
          "text": [
            "(396, 25088)\n",
            "(396, 395)\n",
            "(396, 394)\n",
            "(396, 393)\n",
            "(396, 392)\n",
            "(396, 391)\n"
          ]
        }
      ]
    },
    {
      "cell_type": "code",
      "source": [
        "def compute_precision_recall(ground_truth,target,index_faiss,top_k,reduced_vector):\n",
        "  TP=-1\n",
        "  reduced_vector=reduced_vector.reshape(1, -1)\n",
        "  _,retrived_elements=index.search(reduced_vector, X_train.shape[0])\n",
        "  retrived_targets_id=ground_truth[retrived_elements]==target\n",
        "  indices = np.where(retrived_targets_id.reshape(-1))[0]\n",
        "  if(top_k>len(indices)):\n",
        "    print('Face nr.',target,'max elements:',len(indices)-1,'(NOT',str(top_k)+')')\n",
        "    top_k=len(indices)\n",
        "  stop=indices[top_k-1]+1\n",
        "  TP=top_k\n",
        "  total_samples=np.sum(ground_truth==target)\n",
        "  FP=stop-TP\n",
        "  FN=total_samples-TP\n",
        "  precision=0\n",
        "  if TP+FP!=0:\n",
        "    precision=TP/(TP+FP)\n",
        "  recall=TP/((TP+FN))\n",
        "  return precision,recall"
      ],
      "metadata": {
        "id": "jzd9K7Oml09B"
      },
      "execution_count": 85,
      "outputs": []
    },
    {
      "cell_type": "markdown",
      "source": [
        "<h1>Compute Precision-recall"
      ],
      "metadata": {
        "id": "e1QvvIAafYHQ"
      }
    },
    {
      "cell_type": "code",
      "source": [
        "import time\n",
        "list_top_elements=[10]\n",
        "i=0\n",
        "j=0\n",
        "k=0\n",
        "precision_results=[]\n",
        "recall_results=[]\n",
        "name_results=[]\n",
        "list_precision_results=[]\n",
        "list_recall_results=[]\n",
        "test_vectors=result_test.reshape(result_test.shape[0],-1)\n",
        "for top_k in list_top_elements:\n",
        "  for index in index_faiss_objs:\n",
        "    for vector in test_vectors:\n",
        "      start=time.time()\n",
        "      if list_n_components[i] > 0:\n",
        "        reduced_vector=(vector.reshape(1,-1)-pca_objs[i].mean_)@pca_objs[i].components_.T\n",
        "      else:\n",
        "        if list_n_components[i] < 0:\n",
        "          reduced_vector=(vector.reshape(1,-1)-pca_objs[i].mean_)@pca_objs[i].components_[-list_n_components[i]:].T\n",
        "        else:\n",
        "          reduced_vector=vector\n",
        "      precision,recall=compute_precision_recall(y_train,y_test[j],index,top_k,reduced_vector)\n",
        "      name_results.append(y_test[j])\n",
        "      precision_results.append(precision)\n",
        "      recall_results.append(recall)\n",
        "      j=j+1\n",
        "      tmp=time.time()-start\n",
        "    i=i+1\n",
        "    j=0\n",
        "recall_results=np.array(recall_results).reshape(len(list_top_elements),len(index_faiss_objs),test_vectors.shape[0])\n",
        "precision_results=np.array(precision_results).reshape(len(list_top_elements),len(index_faiss_objs),test_vectors.shape[0])\n",
        "name_results=np.array(name_results).reshape(len(list_top_elements),len(index_faiss_objs),test_vectors.shape[0])"
      ],
      "metadata": {
        "id": "WpBTT2YzqBTP"
      },
      "execution_count": 123,
      "outputs": []
    },
    {
      "cell_type": "code",
      "source": [
        "def create_DataFrame(id_labels,selected_name_result,selected_precision_result,normalization_factors,index_faiss_n_components,list_n_components,index_selected_top_k_retrival):\n",
        "  str_top_k=str(list_top_elements[index_selected_top_k_retrival])\n",
        "  text=''\n",
        "  index_type=''\n",
        "  precision_vector=np.bincount(selected_name_result,weights=selected_precision_result)/normalization_factors\n",
        "  recall_vector=np.bincount(selected_name_result,weights=selected_recall_result)/normalization_factors\n",
        "  F1_vector=2*(precision_vector*recall_vector)/(precision_vector+recall_vector)\n",
        "  if index_faiss_objs[index_faiss_n_components].__class__.__name__ == 'IndexFlatIP':\n",
        "    index_type='(IP)'\n",
        "  else:\n",
        "    index_type='(L2)'\n",
        "  if list_n_components[index_faiss_n_components]<0:\n",
        "    text='/'+str(fixed_components)\n",
        "  df = pd.DataFrame({\n",
        "    \"Faces\":id_labels,\n",
        "    # (\"F\"+index_type+\"@\"+str_top_k+'_'+str(list_n_components[index_faiss_n_components])+text):F1_vector        # F1\n",
        "    (\"P\"+index_type+\"@\"+str_top_k+'_'+str(list_n_components[index_faiss_n_components])+text):precision_vector,  # Precision\n",
        "    # (\"R@\"+str_top_k+'_'+str(list_n_components[index_faiss_n_components])):recall_vector,                      # Recall\n",
        "  })\n",
        "  return df"
      ],
      "metadata": {
        "id": "Jh9hY2qno4n4"
      },
      "execution_count": 87,
      "outputs": []
    },
    {
      "cell_type": "code",
      "source": [
        "df_list=[]\n",
        "for i in range(precision_results.shape[0]):\n",
        "  for j in range(precision_results.shape[1]):\n",
        "    selected_name_result = name_results[i][j]\n",
        "    selected_recall_result = recall_results[i][j]\n",
        "    selected_precision_result = precision_results[i][j]\n",
        "    id_labels,normalization_factors = np.unique(y_test,return_counts=True)\n",
        "    df=create_DataFrame(id_labels,selected_name_result,selected_precision_result,normalization_factors,j,list_n_components,i)\n",
        "    df_list.append(df)"
      ],
      "metadata": {
        "id": "wccn9Ttfn_LI"
      },
      "execution_count": 124,
      "outputs": []
    },
    {
      "cell_type": "markdown",
      "source": [
        "F1 Score all retrived<br>\n",
        "P(IP)@1000_0    -> F-Score(distance_InnerProduct)@all_elements_noPCAReduction<br>\n",
        "P(IP)@1000_200  ->F-Score(distance_InnerProduct)@all_elements_PCA_200_Components<br>\n",
        "P(IP)@1000_-2/25-> F-Score(Distance_InnerProduct)@W/h first 2 componets out of 25"
      ],
      "metadata": {
        "id": "Prq_Z7xFASMq"
      }
    },
    {
      "cell_type": "code",
      "source": [
        "merged_df=df_list[0]\n",
        "for i in range(1,len(df_list)):\n",
        "  merged_df=pd.merge(merged_df,df_list[i])\n",
        "merged_df.drop(columns=['Faces']).style.highlight_max(color = 'green', axis = 1).highlight_min(color = 'red', axis = 1)"
      ],
      "metadata": {
        "colab": {
          "base_uri": "https://localhost:8080/",
          "height": 332
        },
        "id": "fTYR-O2eVwTO",
        "outputId": "c4f2a64d-119a-431a-dbed-68723d70d66e"
      },
      "execution_count": 125,
      "outputs": [
        {
          "output_type": "execute_result",
          "data": {
            "text/plain": [
              "<pandas.io.formats.style.Styler at 0x7d4e48559720>"
            ],
            "text/html": [
              "<style type=\"text/css\">\n",
              "#T_2b276_row0_col1, #T_2b276_row1_col5, #T_2b276_row2_col3, #T_2b276_row3_col3, #T_2b276_row4_col4, #T_2b276_row4_col5, #T_2b276_row5_col1, #T_2b276_row6_col1, #T_2b276_row7_col2, #T_2b276_row8_col4 {\n",
              "  background-color: green;\n",
              "}\n",
              "#T_2b276_row0_col4, #T_2b276_row1_col0, #T_2b276_row2_col5, #T_2b276_row3_col0, #T_2b276_row4_col0, #T_2b276_row5_col5, #T_2b276_row6_col0, #T_2b276_row7_col4, #T_2b276_row8_col0 {\n",
              "  background-color: red;\n",
              "}\n",
              "</style>\n",
              "<table id=\"T_2b276\" class=\"dataframe\">\n",
              "  <thead>\n",
              "    <tr>\n",
              "      <th class=\"blank level0\" >&nbsp;</th>\n",
              "      <th id=\"T_2b276_level0_col0\" class=\"col_heading level0 col0\" >P(L2)@10_0</th>\n",
              "      <th id=\"T_2b276_level0_col1\" class=\"col_heading level0 col1\" >P(L2)@10_-1/396</th>\n",
              "      <th id=\"T_2b276_level0_col2\" class=\"col_heading level0 col2\" >P(L2)@10_-2/396</th>\n",
              "      <th id=\"T_2b276_level0_col3\" class=\"col_heading level0 col3\" >P(L2)@10_-3/396</th>\n",
              "      <th id=\"T_2b276_level0_col4\" class=\"col_heading level0 col4\" >P(L2)@10_-4/396</th>\n",
              "      <th id=\"T_2b276_level0_col5\" class=\"col_heading level0 col5\" >P(L2)@10_-5/396</th>\n",
              "    </tr>\n",
              "  </thead>\n",
              "  <tbody>\n",
              "    <tr>\n",
              "      <th id=\"T_2b276_level0_row0\" class=\"row_heading level0 row0\" >0</th>\n",
              "      <td id=\"T_2b276_row0_col0\" class=\"data row0 col0\" >0.933566</td>\n",
              "      <td id=\"T_2b276_row0_col1\" class=\"data row0 col1\" >1.000000</td>\n",
              "      <td id=\"T_2b276_row0_col2\" class=\"data row0 col2\" >0.961433</td>\n",
              "      <td id=\"T_2b276_row0_col3\" class=\"data row0 col3\" >0.915000</td>\n",
              "      <td id=\"T_2b276_row0_col4\" class=\"data row0 col4\" >0.887423</td>\n",
              "      <td id=\"T_2b276_row0_col5\" class=\"data row0 col5\" >0.907947</td>\n",
              "    </tr>\n",
              "    <tr>\n",
              "      <th id=\"T_2b276_level0_row1\" class=\"row_heading level0 row1\" >1</th>\n",
              "      <td id=\"T_2b276_row1_col0\" class=\"data row1 col0\" >0.495643</td>\n",
              "      <td id=\"T_2b276_row1_col1\" class=\"data row1 col1\" >0.650642</td>\n",
              "      <td id=\"T_2b276_row1_col2\" class=\"data row1 col2\" >0.673297</td>\n",
              "      <td id=\"T_2b276_row1_col3\" class=\"data row1 col3\" >0.641096</td>\n",
              "      <td id=\"T_2b276_row1_col4\" class=\"data row1 col4\" >0.705854</td>\n",
              "      <td id=\"T_2b276_row1_col5\" class=\"data row1 col5\" >0.733168</td>\n",
              "    </tr>\n",
              "    <tr>\n",
              "      <th id=\"T_2b276_level0_row2\" class=\"row_heading level0 row2\" >2</th>\n",
              "      <td id=\"T_2b276_row2_col0\" class=\"data row2 col0\" >0.726794</td>\n",
              "      <td id=\"T_2b276_row2_col1\" class=\"data row2 col1\" >0.904866</td>\n",
              "      <td id=\"T_2b276_row2_col2\" class=\"data row2 col2\" >0.921296</td>\n",
              "      <td id=\"T_2b276_row2_col3\" class=\"data row2 col3\" >0.944444</td>\n",
              "      <td id=\"T_2b276_row2_col4\" class=\"data row2 col4\" >0.922591</td>\n",
              "      <td id=\"T_2b276_row2_col5\" class=\"data row2 col5\" >0.595856</td>\n",
              "    </tr>\n",
              "    <tr>\n",
              "      <th id=\"T_2b276_level0_row3\" class=\"row_heading level0 row3\" >3</th>\n",
              "      <td id=\"T_2b276_row3_col0\" class=\"data row3 col0\" >0.560724</td>\n",
              "      <td id=\"T_2b276_row3_col1\" class=\"data row3 col1\" >0.721519</td>\n",
              "      <td id=\"T_2b276_row3_col2\" class=\"data row3 col2\" >0.762788</td>\n",
              "      <td id=\"T_2b276_row3_col3\" class=\"data row3 col3\" >0.794346</td>\n",
              "      <td id=\"T_2b276_row3_col4\" class=\"data row3 col4\" >0.673774</td>\n",
              "      <td id=\"T_2b276_row3_col5\" class=\"data row3 col5\" >0.714881</td>\n",
              "    </tr>\n",
              "    <tr>\n",
              "      <th id=\"T_2b276_level0_row4\" class=\"row_heading level0 row4\" >4</th>\n",
              "      <td id=\"T_2b276_row4_col0\" class=\"data row4 col0\" >0.779549</td>\n",
              "      <td id=\"T_2b276_row4_col1\" class=\"data row4 col1\" >0.807582</td>\n",
              "      <td id=\"T_2b276_row4_col2\" class=\"data row4 col2\" >0.806861</td>\n",
              "      <td id=\"T_2b276_row4_col3\" class=\"data row4 col3\" >0.838416</td>\n",
              "      <td id=\"T_2b276_row4_col4\" class=\"data row4 col4\" >0.908702</td>\n",
              "      <td id=\"T_2b276_row4_col5\" class=\"data row4 col5\" >0.908702</td>\n",
              "    </tr>\n",
              "    <tr>\n",
              "      <th id=\"T_2b276_level0_row5\" class=\"row_heading level0 row5\" >5</th>\n",
              "      <td id=\"T_2b276_row5_col0\" class=\"data row5 col0\" >0.866898</td>\n",
              "      <td id=\"T_2b276_row5_col1\" class=\"data row5 col1\" >0.907640</td>\n",
              "      <td id=\"T_2b276_row5_col2\" class=\"data row5 col2\" >0.877706</td>\n",
              "      <td id=\"T_2b276_row5_col3\" class=\"data row5 col3\" >0.877039</td>\n",
              "      <td id=\"T_2b276_row5_col4\" class=\"data row5 col4\" >0.881485</td>\n",
              "      <td id=\"T_2b276_row5_col5\" class=\"data row5 col5\" >0.834717</td>\n",
              "    </tr>\n",
              "    <tr>\n",
              "      <th id=\"T_2b276_level0_row6\" class=\"row_heading level0 row6\" >6</th>\n",
              "      <td id=\"T_2b276_row6_col0\" class=\"data row6 col0\" >0.839246</td>\n",
              "      <td id=\"T_2b276_row6_col1\" class=\"data row6 col1\" >0.945416</td>\n",
              "      <td id=\"T_2b276_row6_col2\" class=\"data row6 col2\" >0.905483</td>\n",
              "      <td id=\"T_2b276_row6_col3\" class=\"data row6 col3\" >0.918771</td>\n",
              "      <td id=\"T_2b276_row6_col4\" class=\"data row6 col4\" >0.905012</td>\n",
              "      <td id=\"T_2b276_row6_col5\" class=\"data row6 col5\" >0.911640</td>\n",
              "    </tr>\n",
              "    <tr>\n",
              "      <th id=\"T_2b276_level0_row7\" class=\"row_heading level0 row7\" >7</th>\n",
              "      <td id=\"T_2b276_row7_col0\" class=\"data row7 col0\" >0.981818</td>\n",
              "      <td id=\"T_2b276_row7_col1\" class=\"data row7 col1\" >0.976923</td>\n",
              "      <td id=\"T_2b276_row7_col2\" class=\"data row7 col2\" >0.990909</td>\n",
              "      <td id=\"T_2b276_row7_col3\" class=\"data row7 col3\" >0.976923</td>\n",
              "      <td id=\"T_2b276_row7_col4\" class=\"data row7 col4\" >0.957576</td>\n",
              "      <td id=\"T_2b276_row7_col5\" class=\"data row7 col5\" >0.983333</td>\n",
              "    </tr>\n",
              "    <tr>\n",
              "      <th id=\"T_2b276_level0_row8\" class=\"row_heading level0 row8\" >8</th>\n",
              "      <td id=\"T_2b276_row8_col0\" class=\"data row8 col0\" >0.712858</td>\n",
              "      <td id=\"T_2b276_row8_col1\" class=\"data row8 col1\" >0.802181</td>\n",
              "      <td id=\"T_2b276_row8_col2\" class=\"data row8 col2\" >0.794047</td>\n",
              "      <td id=\"T_2b276_row8_col3\" class=\"data row8 col3\" >0.788607</td>\n",
              "      <td id=\"T_2b276_row8_col4\" class=\"data row8 col4\" >0.846376</td>\n",
              "      <td id=\"T_2b276_row8_col5\" class=\"data row8 col5\" >0.842679</td>\n",
              "    </tr>\n",
              "  </tbody>\n",
              "</table>\n"
            ]
          },
          "metadata": {},
          "execution_count": 125
        }
      ]
    },
    {
      "cell_type": "code",
      "source": [
        "merged_df=df_list[0]\n",
        "for i in range(1,len(df_list)):\n",
        "  merged_df=pd.merge(merged_df,df_list[i])\n",
        "merged_df.drop(columns=['Faces']).style.highlight_max(color = 'green', axis = 1).highlight_min(color = 'red', axis = 1)"
      ],
      "metadata": {
        "colab": {
          "base_uri": "https://localhost:8080/",
          "height": 332
        },
        "id": "10MUO2yTSQyp",
        "outputId": "42a286e0-7987-48e8-f1a5-b8c3c80f473d"
      },
      "execution_count": 121,
      "outputs": [
        {
          "output_type": "execute_result",
          "data": {
            "text/plain": [
              "<pandas.io.formats.style.Styler at 0x7d4e484a9420>"
            ],
            "text/html": [
              "<style type=\"text/css\">\n",
              "#T_8a456_row0_col0, #T_8a456_row1_col3, #T_8a456_row2_col5, #T_8a456_row3_col4, #T_8a456_row4_col0, #T_8a456_row5_col5, #T_8a456_row6_col0, #T_8a456_row7_col0, #T_8a456_row8_col0 {\n",
              "  background-color: red;\n",
              "}\n",
              "#T_8a456_row0_col1, #T_8a456_row1_col0, #T_8a456_row2_col3, #T_8a456_row3_col0, #T_8a456_row4_col4, #T_8a456_row4_col5, #T_8a456_row5_col1, #T_8a456_row6_col1, #T_8a456_row7_col2, #T_8a456_row8_col4 {\n",
              "  background-color: green;\n",
              "}\n",
              "</style>\n",
              "<table id=\"T_8a456\" class=\"dataframe\">\n",
              "  <thead>\n",
              "    <tr>\n",
              "      <th class=\"blank level0\" >&nbsp;</th>\n",
              "      <th id=\"T_8a456_level0_col0\" class=\"col_heading level0 col0\" >P(IP)@10_0</th>\n",
              "      <th id=\"T_8a456_level0_col1\" class=\"col_heading level0 col1\" >P(IP)@10_-1/396</th>\n",
              "      <th id=\"T_8a456_level0_col2\" class=\"col_heading level0 col2\" >P(IP)@10_-2/396</th>\n",
              "      <th id=\"T_8a456_level0_col3\" class=\"col_heading level0 col3\" >P(IP)@10_-3/396</th>\n",
              "      <th id=\"T_8a456_level0_col4\" class=\"col_heading level0 col4\" >P(IP)@10_-4/396</th>\n",
              "      <th id=\"T_8a456_level0_col5\" class=\"col_heading level0 col5\" >P(IP)@10_-5/396</th>\n",
              "    </tr>\n",
              "  </thead>\n",
              "  <tbody>\n",
              "    <tr>\n",
              "      <th id=\"T_8a456_level0_row0\" class=\"row_heading level0 row0\" >0</th>\n",
              "      <td id=\"T_8a456_row0_col0\" class=\"data row0 col0\" >0.693393</td>\n",
              "      <td id=\"T_8a456_row0_col1\" class=\"data row0 col1\" >1.000000</td>\n",
              "      <td id=\"T_8a456_row0_col2\" class=\"data row0 col2\" >0.961433</td>\n",
              "      <td id=\"T_8a456_row0_col3\" class=\"data row0 col3\" >0.915000</td>\n",
              "      <td id=\"T_8a456_row0_col4\" class=\"data row0 col4\" >0.887423</td>\n",
              "      <td id=\"T_8a456_row0_col5\" class=\"data row0 col5\" >0.907947</td>\n",
              "    </tr>\n",
              "    <tr>\n",
              "      <th id=\"T_8a456_level0_row1\" class=\"row_heading level0 row1\" >1</th>\n",
              "      <td id=\"T_8a456_row1_col0\" class=\"data row1 col0\" >0.953247</td>\n",
              "      <td id=\"T_8a456_row1_col1\" class=\"data row1 col1\" >0.650642</td>\n",
              "      <td id=\"T_8a456_row1_col2\" class=\"data row1 col2\" >0.673297</td>\n",
              "      <td id=\"T_8a456_row1_col3\" class=\"data row1 col3\" >0.641096</td>\n",
              "      <td id=\"T_8a456_row1_col4\" class=\"data row1 col4\" >0.705854</td>\n",
              "      <td id=\"T_8a456_row1_col5\" class=\"data row1 col5\" >0.733168</td>\n",
              "    </tr>\n",
              "    <tr>\n",
              "      <th id=\"T_8a456_level0_row2\" class=\"row_heading level0 row2\" >2</th>\n",
              "      <td id=\"T_8a456_row2_col0\" class=\"data row2 col0\" >0.716182</td>\n",
              "      <td id=\"T_8a456_row2_col1\" class=\"data row2 col1\" >0.904866</td>\n",
              "      <td id=\"T_8a456_row2_col2\" class=\"data row2 col2\" >0.921296</td>\n",
              "      <td id=\"T_8a456_row2_col3\" class=\"data row2 col3\" >0.944444</td>\n",
              "      <td id=\"T_8a456_row2_col4\" class=\"data row2 col4\" >0.922591</td>\n",
              "      <td id=\"T_8a456_row2_col5\" class=\"data row2 col5\" >0.595856</td>\n",
              "    </tr>\n",
              "    <tr>\n",
              "      <th id=\"T_8a456_level0_row3\" class=\"row_heading level0 row3\" >3</th>\n",
              "      <td id=\"T_8a456_row3_col0\" class=\"data row3 col0\" >0.861560</td>\n",
              "      <td id=\"T_8a456_row3_col1\" class=\"data row3 col1\" >0.721519</td>\n",
              "      <td id=\"T_8a456_row3_col2\" class=\"data row3 col2\" >0.762788</td>\n",
              "      <td id=\"T_8a456_row3_col3\" class=\"data row3 col3\" >0.794346</td>\n",
              "      <td id=\"T_8a456_row3_col4\" class=\"data row3 col4\" >0.673774</td>\n",
              "      <td id=\"T_8a456_row3_col5\" class=\"data row3 col5\" >0.714881</td>\n",
              "    </tr>\n",
              "    <tr>\n",
              "      <th id=\"T_8a456_level0_row4\" class=\"row_heading level0 row4\" >4</th>\n",
              "      <td id=\"T_8a456_row4_col0\" class=\"data row4 col0\" >0.423280</td>\n",
              "      <td id=\"T_8a456_row4_col1\" class=\"data row4 col1\" >0.807582</td>\n",
              "      <td id=\"T_8a456_row4_col2\" class=\"data row4 col2\" >0.806861</td>\n",
              "      <td id=\"T_8a456_row4_col3\" class=\"data row4 col3\" >0.838416</td>\n",
              "      <td id=\"T_8a456_row4_col4\" class=\"data row4 col4\" >0.908702</td>\n",
              "      <td id=\"T_8a456_row4_col5\" class=\"data row4 col5\" >0.908702</td>\n",
              "    </tr>\n",
              "    <tr>\n",
              "      <th id=\"T_8a456_level0_row5\" class=\"row_heading level0 row5\" >5</th>\n",
              "      <td id=\"T_8a456_row5_col0\" class=\"data row5 col0\" >0.892608</td>\n",
              "      <td id=\"T_8a456_row5_col1\" class=\"data row5 col1\" >0.907640</td>\n",
              "      <td id=\"T_8a456_row5_col2\" class=\"data row5 col2\" >0.877706</td>\n",
              "      <td id=\"T_8a456_row5_col3\" class=\"data row5 col3\" >0.877039</td>\n",
              "      <td id=\"T_8a456_row5_col4\" class=\"data row5 col4\" >0.881485</td>\n",
              "      <td id=\"T_8a456_row5_col5\" class=\"data row5 col5\" >0.834717</td>\n",
              "    </tr>\n",
              "    <tr>\n",
              "      <th id=\"T_8a456_level0_row6\" class=\"row_heading level0 row6\" >6</th>\n",
              "      <td id=\"T_8a456_row6_col0\" class=\"data row6 col0\" >0.881993</td>\n",
              "      <td id=\"T_8a456_row6_col1\" class=\"data row6 col1\" >0.945416</td>\n",
              "      <td id=\"T_8a456_row6_col2\" class=\"data row6 col2\" >0.905483</td>\n",
              "      <td id=\"T_8a456_row6_col3\" class=\"data row6 col3\" >0.918771</td>\n",
              "      <td id=\"T_8a456_row6_col4\" class=\"data row6 col4\" >0.905012</td>\n",
              "      <td id=\"T_8a456_row6_col5\" class=\"data row6 col5\" >0.911640</td>\n",
              "    </tr>\n",
              "    <tr>\n",
              "      <th id=\"T_8a456_level0_row7\" class=\"row_heading level0 row7\" >7</th>\n",
              "      <td id=\"T_8a456_row7_col0\" class=\"data row7 col0\" >0.905927</td>\n",
              "      <td id=\"T_8a456_row7_col1\" class=\"data row7 col1\" >0.976923</td>\n",
              "      <td id=\"T_8a456_row7_col2\" class=\"data row7 col2\" >0.990909</td>\n",
              "      <td id=\"T_8a456_row7_col3\" class=\"data row7 col3\" >0.976923</td>\n",
              "      <td id=\"T_8a456_row7_col4\" class=\"data row7 col4\" >0.957576</td>\n",
              "      <td id=\"T_8a456_row7_col5\" class=\"data row7 col5\" >0.983333</td>\n",
              "    </tr>\n",
              "    <tr>\n",
              "      <th id=\"T_8a456_level0_row8\" class=\"row_heading level0 row8\" >8</th>\n",
              "      <td id=\"T_8a456_row8_col0\" class=\"data row8 col0\" >0.689644</td>\n",
              "      <td id=\"T_8a456_row8_col1\" class=\"data row8 col1\" >0.802181</td>\n",
              "      <td id=\"T_8a456_row8_col2\" class=\"data row8 col2\" >0.794047</td>\n",
              "      <td id=\"T_8a456_row8_col3\" class=\"data row8 col3\" >0.788607</td>\n",
              "      <td id=\"T_8a456_row8_col4\" class=\"data row8 col4\" >0.846376</td>\n",
              "      <td id=\"T_8a456_row8_col5\" class=\"data row8 col5\" >0.842679</td>\n",
              "    </tr>\n",
              "  </tbody>\n",
              "</table>\n"
            ]
          },
          "metadata": {},
          "execution_count": 121
        }
      ]
    },
    {
      "cell_type": "code",
      "source": [
        "merged_df=df_list[0]\n",
        "for i in range(1,len(df_list)):\n",
        "  merged_df=pd.merge(merged_df,df_list[i])\n",
        "merged_df.drop(columns=['Faces']).style.highlight_max(color = 'green', axis = 1).highlight_min(color = 'red', axis = 1)"
      ],
      "metadata": {
        "colab": {
          "base_uri": "https://localhost:8080/",
          "height": 332
        },
        "id": "QjLlZUXHREIQ",
        "outputId": "ea966b70-2c1a-4acc-80d2-40b3baca9f62"
      },
      "execution_count": 106,
      "outputs": [
        {
          "output_type": "execute_result",
          "data": {
            "text/plain": [
              "<pandas.io.formats.style.Styler at 0x7d4e484a9900>"
            ],
            "text/html": [
              "<style type=\"text/css\">\n",
              "#T_ecc3b_row0_col0, #T_ecc3b_row1_col1, #T_ecc3b_row2_col0, #T_ecc3b_row3_col5, #T_ecc3b_row4_col0, #T_ecc3b_row5_col0, #T_ecc3b_row6_col0, #T_ecc3b_row7_col0, #T_ecc3b_row8_col0 {\n",
              "  background-color: red;\n",
              "}\n",
              "#T_ecc3b_row0_col1, #T_ecc3b_row0_col2, #T_ecc3b_row1_col0, #T_ecc3b_row2_col1, #T_ecc3b_row3_col0, #T_ecc3b_row4_col3, #T_ecc3b_row5_col8, #T_ecc3b_row6_col2, #T_ecc3b_row7_col1, #T_ecc3b_row7_col2, #T_ecc3b_row7_col3, #T_ecc3b_row8_col8 {\n",
              "  background-color: green;\n",
              "}\n",
              "</style>\n",
              "<table id=\"T_ecc3b\" class=\"dataframe\">\n",
              "  <thead>\n",
              "    <tr>\n",
              "      <th class=\"blank level0\" >&nbsp;</th>\n",
              "      <th id=\"T_ecc3b_level0_col0\" class=\"col_heading level0 col0\" >P(IP)@10_0</th>\n",
              "      <th id=\"T_ecc3b_level0_col1\" class=\"col_heading level0 col1\" >P(IP)@10_10</th>\n",
              "      <th id=\"T_ecc3b_level0_col2\" class=\"col_heading level0 col2\" >P(IP)@10_20</th>\n",
              "      <th id=\"T_ecc3b_level0_col3\" class=\"col_heading level0 col3\" >P(IP)@10_30</th>\n",
              "      <th id=\"T_ecc3b_level0_col4\" class=\"col_heading level0 col4\" >P(IP)@10_40</th>\n",
              "      <th id=\"T_ecc3b_level0_col5\" class=\"col_heading level0 col5\" >P(IP)@10_50</th>\n",
              "      <th id=\"T_ecc3b_level0_col6\" class=\"col_heading level0 col6\" >P(IP)@10_60</th>\n",
              "      <th id=\"T_ecc3b_level0_col7\" class=\"col_heading level0 col7\" >P(IP)@10_70</th>\n",
              "      <th id=\"T_ecc3b_level0_col8\" class=\"col_heading level0 col8\" >P(IP)@10_80</th>\n",
              "    </tr>\n",
              "  </thead>\n",
              "  <tbody>\n",
              "    <tr>\n",
              "      <th id=\"T_ecc3b_level0_row0\" class=\"row_heading level0 row0\" >0</th>\n",
              "      <td id=\"T_ecc3b_row0_col0\" class=\"data row0 col0\" >0.693393</td>\n",
              "      <td id=\"T_ecc3b_row0_col1\" class=\"data row0 col1\" >1.000000</td>\n",
              "      <td id=\"T_ecc3b_row0_col2\" class=\"data row0 col2\" >1.000000</td>\n",
              "      <td id=\"T_ecc3b_row0_col3\" class=\"data row0 col3\" >0.991736</td>\n",
              "      <td id=\"T_ecc3b_row0_col4\" class=\"data row0 col4\" >0.991736</td>\n",
              "      <td id=\"T_ecc3b_row0_col5\" class=\"data row0 col5\" >0.991736</td>\n",
              "      <td id=\"T_ecc3b_row0_col6\" class=\"data row0 col6\" >0.991736</td>\n",
              "      <td id=\"T_ecc3b_row0_col7\" class=\"data row0 col7\" >0.991736</td>\n",
              "      <td id=\"T_ecc3b_row0_col8\" class=\"data row0 col8\" >0.991736</td>\n",
              "    </tr>\n",
              "    <tr>\n",
              "      <th id=\"T_ecc3b_level0_row1\" class=\"row_heading level0 row1\" >1</th>\n",
              "      <td id=\"T_ecc3b_row1_col0\" class=\"data row1 col0\" >0.953247</td>\n",
              "      <td id=\"T_ecc3b_row1_col1\" class=\"data row1 col1\" >0.775601</td>\n",
              "      <td id=\"T_ecc3b_row1_col2\" class=\"data row1 col2\" >0.808357</td>\n",
              "      <td id=\"T_ecc3b_row1_col3\" class=\"data row1 col3\" >0.813114</td>\n",
              "      <td id=\"T_ecc3b_row1_col4\" class=\"data row1 col4\" >0.813489</td>\n",
              "      <td id=\"T_ecc3b_row1_col5\" class=\"data row1 col5\" >0.816450</td>\n",
              "      <td id=\"T_ecc3b_row1_col6\" class=\"data row1 col6\" >0.825840</td>\n",
              "      <td id=\"T_ecc3b_row1_col7\" class=\"data row1 col7\" >0.812635</td>\n",
              "      <td id=\"T_ecc3b_row1_col8\" class=\"data row1 col8\" >0.817323</td>\n",
              "    </tr>\n",
              "    <tr>\n",
              "      <th id=\"T_ecc3b_level0_row2\" class=\"row_heading level0 row2\" >2</th>\n",
              "      <td id=\"T_ecc3b_row2_col0\" class=\"data row2 col0\" >0.716182</td>\n",
              "      <td id=\"T_ecc3b_row2_col1\" class=\"data row2 col1\" >0.989899</td>\n",
              "      <td id=\"T_ecc3b_row2_col2\" class=\"data row2 col2\" >0.942613</td>\n",
              "      <td id=\"T_ecc3b_row2_col3\" class=\"data row2 col3\" >0.916486</td>\n",
              "      <td id=\"T_ecc3b_row2_col4\" class=\"data row2 col4\" >0.931217</td>\n",
              "      <td id=\"T_ecc3b_row2_col5\" class=\"data row2 col5\" >0.925926</td>\n",
              "      <td id=\"T_ecc3b_row2_col6\" class=\"data row2 col6\" >0.921296</td>\n",
              "      <td id=\"T_ecc3b_row2_col7\" class=\"data row2 col7\" >0.912582</td>\n",
              "      <td id=\"T_ecc3b_row2_col8\" class=\"data row2 col8\" >0.908951</td>\n",
              "    </tr>\n",
              "    <tr>\n",
              "      <th id=\"T_ecc3b_level0_row3\" class=\"row_heading level0 row3\" >3</th>\n",
              "      <td id=\"T_ecc3b_row3_col0\" class=\"data row3 col0\" >0.861560</td>\n",
              "      <td id=\"T_ecc3b_row3_col1\" class=\"data row3 col1\" >0.764671</td>\n",
              "      <td id=\"T_ecc3b_row3_col2\" class=\"data row3 col2\" >0.781259</td>\n",
              "      <td id=\"T_ecc3b_row3_col3\" class=\"data row3 col3\" >0.778140</td>\n",
              "      <td id=\"T_ecc3b_row3_col4\" class=\"data row3 col4\" >0.773469</td>\n",
              "      <td id=\"T_ecc3b_row3_col5\" class=\"data row3 col5\" >0.760409</td>\n",
              "      <td id=\"T_ecc3b_row3_col6\" class=\"data row3 col6\" >0.762095</td>\n",
              "      <td id=\"T_ecc3b_row3_col7\" class=\"data row3 col7\" >0.764436</td>\n",
              "      <td id=\"T_ecc3b_row3_col8\" class=\"data row3 col8\" >0.764902</td>\n",
              "    </tr>\n",
              "    <tr>\n",
              "      <th id=\"T_ecc3b_level0_row4\" class=\"row_heading level0 row4\" >4</th>\n",
              "      <td id=\"T_ecc3b_row4_col0\" class=\"data row4 col0\" >0.423280</td>\n",
              "      <td id=\"T_ecc3b_row4_col1\" class=\"data row4 col1\" >0.687605</td>\n",
              "      <td id=\"T_ecc3b_row4_col2\" class=\"data row4 col2\" >0.867380</td>\n",
              "      <td id=\"T_ecc3b_row4_col3\" class=\"data row4 col3\" >0.879066</td>\n",
              "      <td id=\"T_ecc3b_row4_col4\" class=\"data row4 col4\" >0.855940</td>\n",
              "      <td id=\"T_ecc3b_row4_col5\" class=\"data row4 col5\" >0.835745</td>\n",
              "      <td id=\"T_ecc3b_row4_col6\" class=\"data row4 col6\" >0.833333</td>\n",
              "      <td id=\"T_ecc3b_row4_col7\" class=\"data row4 col7\" >0.811127</td>\n",
              "      <td id=\"T_ecc3b_row4_col8\" class=\"data row4 col8\" >0.825768</td>\n",
              "    </tr>\n",
              "    <tr>\n",
              "      <th id=\"T_ecc3b_level0_row5\" class=\"row_heading level0 row5\" >5</th>\n",
              "      <td id=\"T_ecc3b_row5_col0\" class=\"data row5 col0\" >0.892608</td>\n",
              "      <td id=\"T_ecc3b_row5_col1\" class=\"data row5 col1\" >0.927778</td>\n",
              "      <td id=\"T_ecc3b_row5_col2\" class=\"data row5 col2\" >0.921529</td>\n",
              "      <td id=\"T_ecc3b_row5_col3\" class=\"data row5 col3\" >0.929487</td>\n",
              "      <td id=\"T_ecc3b_row5_col4\" class=\"data row5 col4\" >0.922532</td>\n",
              "      <td id=\"T_ecc3b_row5_col5\" class=\"data row5 col5\" >0.930108</td>\n",
              "      <td id=\"T_ecc3b_row5_col6\" class=\"data row5 col6\" >0.921911</td>\n",
              "      <td id=\"T_ecc3b_row5_col7\" class=\"data row5 col7\" >0.930108</td>\n",
              "      <td id=\"T_ecc3b_row5_col8\" class=\"data row5 col8\" >0.931034</td>\n",
              "    </tr>\n",
              "    <tr>\n",
              "      <th id=\"T_ecc3b_level0_row6\" class=\"row_heading level0 row6\" >6</th>\n",
              "      <td id=\"T_ecc3b_row6_col0\" class=\"data row6 col0\" >0.881993</td>\n",
              "      <td id=\"T_ecc3b_row6_col1\" class=\"data row6 col1\" >0.918415</td>\n",
              "      <td id=\"T_ecc3b_row6_col2\" class=\"data row6 col2\" >0.977273</td>\n",
              "      <td id=\"T_ecc3b_row6_col3\" class=\"data row6 col3\" >0.970960</td>\n",
              "      <td id=\"T_ecc3b_row6_col4\" class=\"data row6 col4\" >0.970960</td>\n",
              "      <td id=\"T_ecc3b_row6_col5\" class=\"data row6 col5\" >0.970960</td>\n",
              "      <td id=\"T_ecc3b_row6_col6\" class=\"data row6 col6\" >0.972222</td>\n",
              "      <td id=\"T_ecc3b_row6_col7\" class=\"data row6 col7\" >0.972222</td>\n",
              "      <td id=\"T_ecc3b_row6_col8\" class=\"data row6 col8\" >0.966880</td>\n",
              "    </tr>\n",
              "    <tr>\n",
              "      <th id=\"T_ecc3b_level0_row7\" class=\"row_heading level0 row7\" >7</th>\n",
              "      <td id=\"T_ecc3b_row7_col0\" class=\"data row7 col0\" >0.905927</td>\n",
              "      <td id=\"T_ecc3b_row7_col1\" class=\"data row7 col1\" >1.000000</td>\n",
              "      <td id=\"T_ecc3b_row7_col2\" class=\"data row7 col2\" >1.000000</td>\n",
              "      <td id=\"T_ecc3b_row7_col3\" class=\"data row7 col3\" >1.000000</td>\n",
              "      <td id=\"T_ecc3b_row7_col4\" class=\"data row7 col4\" >0.990909</td>\n",
              "      <td id=\"T_ecc3b_row7_col5\" class=\"data row7 col5\" >0.983333</td>\n",
              "      <td id=\"T_ecc3b_row7_col6\" class=\"data row7 col6\" >0.990909</td>\n",
              "      <td id=\"T_ecc3b_row7_col7\" class=\"data row7 col7\" >0.983333</td>\n",
              "      <td id=\"T_ecc3b_row7_col8\" class=\"data row7 col8\" >0.983333</td>\n",
              "    </tr>\n",
              "    <tr>\n",
              "      <th id=\"T_ecc3b_level0_row8\" class=\"row_heading level0 row8\" >8</th>\n",
              "      <td id=\"T_ecc3b_row8_col0\" class=\"data row8 col0\" >0.689644</td>\n",
              "      <td id=\"T_ecc3b_row8_col1\" class=\"data row8 col1\" >0.775324</td>\n",
              "      <td id=\"T_ecc3b_row8_col2\" class=\"data row8 col2\" >0.839190</td>\n",
              "      <td id=\"T_ecc3b_row8_col3\" class=\"data row8 col3\" >0.847099</td>\n",
              "      <td id=\"T_ecc3b_row8_col4\" class=\"data row8 col4\" >0.844047</td>\n",
              "      <td id=\"T_ecc3b_row8_col5\" class=\"data row8 col5\" >0.837712</td>\n",
              "      <td id=\"T_ecc3b_row8_col6\" class=\"data row8 col6\" >0.834633</td>\n",
              "      <td id=\"T_ecc3b_row8_col7\" class=\"data row8 col7\" >0.841913</td>\n",
              "      <td id=\"T_ecc3b_row8_col8\" class=\"data row8 col8\" >0.850519</td>\n",
              "    </tr>\n",
              "  </tbody>\n",
              "</table>\n"
            ]
          },
          "metadata": {},
          "execution_count": 106
        }
      ]
    },
    {
      "cell_type": "code",
      "source": [
        "merged_df=df_list[0]\n",
        "for i in range(1,len(df_list)):\n",
        "  merged_df=pd.merge(merged_df,df_list[i])\n",
        "merged_df.drop(columns=['Faces']).style.highlight_max(color = 'green', axis = 1).highlight_min(color = 'red', axis = 1)"
      ],
      "metadata": {
        "colab": {
          "base_uri": "https://localhost:8080/",
          "height": 332
        },
        "id": "1fzQoI7N92ft",
        "outputId": "55374d3e-d204-4a14-a01a-8ce055ecf607"
      },
      "execution_count": 111,
      "outputs": [
        {
          "output_type": "execute_result",
          "data": {
            "text/plain": [
              "<pandas.io.formats.style.Styler at 0x7d4e484a9a50>"
            ],
            "text/html": [
              "<style type=\"text/css\">\n",
              "#T_a882e_row0_col0, #T_a882e_row1_col3, #T_a882e_row2_col5, #T_a882e_row3_col4, #T_a882e_row4_col0, #T_a882e_row5_col5, #T_a882e_row6_col4, #T_a882e_row7_col0, #T_a882e_row8_col0 {\n",
              "  background-color: red;\n",
              "}\n",
              "#T_a882e_row0_col1, #T_a882e_row1_col0, #T_a882e_row2_col3, #T_a882e_row3_col0, #T_a882e_row4_col5, #T_a882e_row5_col1, #T_a882e_row6_col1, #T_a882e_row7_col2, #T_a882e_row8_col5 {\n",
              "  background-color: green;\n",
              "}\n",
              "</style>\n",
              "<table id=\"T_a882e\" class=\"dataframe\">\n",
              "  <thead>\n",
              "    <tr>\n",
              "      <th class=\"blank level0\" >&nbsp;</th>\n",
              "      <th id=\"T_a882e_level0_col0\" class=\"col_heading level0 col0\" >P(IP)@10_0</th>\n",
              "      <th id=\"T_a882e_level0_col1\" class=\"col_heading level0 col1\" >P(IP)@10_-1/25</th>\n",
              "      <th id=\"T_a882e_level0_col2\" class=\"col_heading level0 col2\" >P(IP)@10_-2/25</th>\n",
              "      <th id=\"T_a882e_level0_col3\" class=\"col_heading level0 col3\" >P(IP)@10_-3/25</th>\n",
              "      <th id=\"T_a882e_level0_col4\" class=\"col_heading level0 col4\" >P(IP)@10_-4/25</th>\n",
              "      <th id=\"T_a882e_level0_col5\" class=\"col_heading level0 col5\" >P(IP)@10_-5/25</th>\n",
              "    </tr>\n",
              "  </thead>\n",
              "  <tbody>\n",
              "    <tr>\n",
              "      <th id=\"T_a882e_level0_row0\" class=\"row_heading level0 row0\" >0</th>\n",
              "      <td id=\"T_a882e_row0_col0\" class=\"data row0 col0\" >0.693393</td>\n",
              "      <td id=\"T_a882e_row0_col1\" class=\"data row0 col1\" >0.991736</td>\n",
              "      <td id=\"T_a882e_row0_col2\" class=\"data row0 col2\" >0.983471</td>\n",
              "      <td id=\"T_a882e_row0_col3\" class=\"data row0 col3\" >0.935791</td>\n",
              "      <td id=\"T_a882e_row0_col4\" class=\"data row0 col4\" >0.915584</td>\n",
              "      <td id=\"T_a882e_row0_col5\" class=\"data row0 col5\" >0.917726</td>\n",
              "    </tr>\n",
              "    <tr>\n",
              "      <th id=\"T_a882e_level0_row1\" class=\"row_heading level0 row1\" >1</th>\n",
              "      <td id=\"T_a882e_row1_col0\" class=\"data row1 col0\" >0.953247</td>\n",
              "      <td id=\"T_a882e_row1_col1\" class=\"data row1 col1\" >0.636873</td>\n",
              "      <td id=\"T_a882e_row1_col2\" class=\"data row1 col2\" >0.679266</td>\n",
              "      <td id=\"T_a882e_row1_col3\" class=\"data row1 col3\" >0.627446</td>\n",
              "      <td id=\"T_a882e_row1_col4\" class=\"data row1 col4\" >0.706392</td>\n",
              "      <td id=\"T_a882e_row1_col5\" class=\"data row1 col5\" >0.746270</td>\n",
              "    </tr>\n",
              "    <tr>\n",
              "      <th id=\"T_a882e_level0_row2\" class=\"row_heading level0 row2\" >2</th>\n",
              "      <td id=\"T_a882e_row2_col0\" class=\"data row2 col0\" >0.716182</td>\n",
              "      <td id=\"T_a882e_row2_col1\" class=\"data row2 col1\" >0.862991</td>\n",
              "      <td id=\"T_a882e_row2_col2\" class=\"data row2 col2\" >0.955840</td>\n",
              "      <td id=\"T_a882e_row2_col3\" class=\"data row2 col3\" >0.968254</td>\n",
              "      <td id=\"T_a882e_row2_col4\" class=\"data row2 col4\" >0.937322</td>\n",
              "      <td id=\"T_a882e_row2_col5\" class=\"data row2 col5\" >0.572005</td>\n",
              "    </tr>\n",
              "    <tr>\n",
              "      <th id=\"T_a882e_level0_row3\" class=\"row_heading level0 row3\" >3</th>\n",
              "      <td id=\"T_a882e_row3_col0\" class=\"data row3 col0\" >0.861560</td>\n",
              "      <td id=\"T_a882e_row3_col1\" class=\"data row3 col1\" >0.742501</td>\n",
              "      <td id=\"T_a882e_row3_col2\" class=\"data row3 col2\" >0.756341</td>\n",
              "      <td id=\"T_a882e_row3_col3\" class=\"data row3 col3\" >0.750153</td>\n",
              "      <td id=\"T_a882e_row3_col4\" class=\"data row3 col4\" >0.661631</td>\n",
              "      <td id=\"T_a882e_row3_col5\" class=\"data row3 col5\" >0.668222</td>\n",
              "    </tr>\n",
              "    <tr>\n",
              "      <th id=\"T_a882e_level0_row4\" class=\"row_heading level0 row4\" >4</th>\n",
              "      <td id=\"T_a882e_row4_col0\" class=\"data row4 col0\" >0.423280</td>\n",
              "      <td id=\"T_a882e_row4_col1\" class=\"data row4 col1\" >0.883418</td>\n",
              "      <td id=\"T_a882e_row4_col2\" class=\"data row4 col2\" >0.857900</td>\n",
              "      <td id=\"T_a882e_row4_col3\" class=\"data row4 col3\" >0.900230</td>\n",
              "      <td id=\"T_a882e_row4_col4\" class=\"data row4 col4\" >0.935638</td>\n",
              "      <td id=\"T_a882e_row4_col5\" class=\"data row4 col5\" >0.937951</td>\n",
              "    </tr>\n",
              "    <tr>\n",
              "      <th id=\"T_a882e_level0_row5\" class=\"row_heading level0 row5\" >5</th>\n",
              "      <td id=\"T_a882e_row5_col0\" class=\"data row5 col0\" >0.892608</td>\n",
              "      <td id=\"T_a882e_row5_col1\" class=\"data row5 col1\" >0.915033</td>\n",
              "      <td id=\"T_a882e_row5_col2\" class=\"data row5 col2\" >0.881066</td>\n",
              "      <td id=\"T_a882e_row5_col3\" class=\"data row5 col3\" >0.873219</td>\n",
              "      <td id=\"T_a882e_row5_col4\" class=\"data row5 col4\" >0.875731</td>\n",
              "      <td id=\"T_a882e_row5_col5\" class=\"data row5 col5\" >0.825457</td>\n",
              "    </tr>\n",
              "    <tr>\n",
              "      <th id=\"T_a882e_level0_row6\" class=\"row_heading level0 row6\" >6</th>\n",
              "      <td id=\"T_a882e_row6_col0\" class=\"data row6 col0\" >0.881993</td>\n",
              "      <td id=\"T_a882e_row6_col1\" class=\"data row6 col1\" >0.941808</td>\n",
              "      <td id=\"T_a882e_row6_col2\" class=\"data row6 col2\" >0.873585</td>\n",
              "      <td id=\"T_a882e_row6_col3\" class=\"data row6 col3\" >0.841540</td>\n",
              "      <td id=\"T_a882e_row6_col4\" class=\"data row6 col4\" >0.834075</td>\n",
              "      <td id=\"T_a882e_row6_col5\" class=\"data row6 col5\" >0.835618</td>\n",
              "    </tr>\n",
              "    <tr>\n",
              "      <th id=\"T_a882e_level0_row7\" class=\"row_heading level0 row7\" >7</th>\n",
              "      <td id=\"T_a882e_row7_col0\" class=\"data row7 col0\" >0.905927</td>\n",
              "      <td id=\"T_a882e_row7_col1\" class=\"data row7 col1\" >0.990909</td>\n",
              "      <td id=\"T_a882e_row7_col2\" class=\"data row7 col2\" >1.000000</td>\n",
              "      <td id=\"T_a882e_row7_col3\" class=\"data row7 col3\" >0.976923</td>\n",
              "      <td id=\"T_a882e_row7_col4\" class=\"data row7 col4\" >0.953846</td>\n",
              "      <td id=\"T_a882e_row7_col5\" class=\"data row7 col5\" >0.966667</td>\n",
              "    </tr>\n",
              "    <tr>\n",
              "      <th id=\"T_a882e_level0_row8\" class=\"row_heading level0 row8\" >8</th>\n",
              "      <td id=\"T_a882e_row8_col0\" class=\"data row8 col0\" >0.689644</td>\n",
              "      <td id=\"T_a882e_row8_col1\" class=\"data row8 col1\" >0.811382</td>\n",
              "      <td id=\"T_a882e_row8_col2\" class=\"data row8 col2\" >0.794009</td>\n",
              "      <td id=\"T_a882e_row8_col3\" class=\"data row8 col3\" >0.805772</td>\n",
              "      <td id=\"T_a882e_row8_col4\" class=\"data row8 col4\" >0.845967</td>\n",
              "      <td id=\"T_a882e_row8_col5\" class=\"data row8 col5\" >0.862688</td>\n",
              "    </tr>\n",
              "  </tbody>\n",
              "</table>\n"
            ]
          },
          "metadata": {},
          "execution_count": 111
        }
      ]
    },
    {
      "cell_type": "markdown",
      "source": [
        "Precision"
      ],
      "metadata": {
        "id": "PbnH2FfqAYue"
      }
    },
    {
      "cell_type": "code",
      "source": [
        "merged_df=df_list[0]\n",
        "for i in range(1,len(df_list)):\n",
        "  merged_df=pd.merge(merged_df,df_list[i])\n",
        "merged_df.drop(columns=['Faces']).style.highlight_max(color = 'green', axis = 1).highlight_min(color = 'red', axis = 1)"
      ],
      "metadata": {
        "colab": {
          "base_uri": "https://localhost:8080/",
          "height": 332
        },
        "id": "WN-GO2P6wR5r",
        "outputId": "74ebc852-5451-4ecb-e1a9-82a870015e90"
      },
      "execution_count": 116,
      "outputs": [
        {
          "output_type": "execute_result",
          "data": {
            "text/plain": [
              "<pandas.io.formats.style.Styler at 0x7d4e484aa7d0>"
            ],
            "text/html": [
              "<style type=\"text/css\">\n",
              "#T_bb29f_row0_col0, #T_bb29f_row1_col3, #T_bb29f_row2_col5, #T_bb29f_row3_col4, #T_bb29f_row4_col0, #T_bb29f_row5_col5, #T_bb29f_row6_col0, #T_bb29f_row7_col0, #T_bb29f_row8_col0 {\n",
              "  background-color: red;\n",
              "}\n",
              "#T_bb29f_row0_col1, #T_bb29f_row1_col0, #T_bb29f_row2_col3, #T_bb29f_row3_col0, #T_bb29f_row4_col5, #T_bb29f_row5_col1, #T_bb29f_row6_col1, #T_bb29f_row7_col2, #T_bb29f_row8_col5 {\n",
              "  background-color: green;\n",
              "}\n",
              "</style>\n",
              "<table id=\"T_bb29f\" class=\"dataframe\">\n",
              "  <thead>\n",
              "    <tr>\n",
              "      <th class=\"blank level0\" >&nbsp;</th>\n",
              "      <th id=\"T_bb29f_level0_col0\" class=\"col_heading level0 col0\" >P(IP)@10_0</th>\n",
              "      <th id=\"T_bb29f_level0_col1\" class=\"col_heading level0 col1\" >P(IP)@10_-1/100</th>\n",
              "      <th id=\"T_bb29f_level0_col2\" class=\"col_heading level0 col2\" >P(IP)@10_-2/100</th>\n",
              "      <th id=\"T_bb29f_level0_col3\" class=\"col_heading level0 col3\" >P(IP)@10_-3/100</th>\n",
              "      <th id=\"T_bb29f_level0_col4\" class=\"col_heading level0 col4\" >P(IP)@10_-4/100</th>\n",
              "      <th id=\"T_bb29f_level0_col5\" class=\"col_heading level0 col5\" >P(IP)@10_-5/100</th>\n",
              "    </tr>\n",
              "  </thead>\n",
              "  <tbody>\n",
              "    <tr>\n",
              "      <th id=\"T_bb29f_level0_row0\" class=\"row_heading level0 row0\" >0</th>\n",
              "      <td id=\"T_bb29f_row0_col0\" class=\"data row0 col0\" >0.693393</td>\n",
              "      <td id=\"T_bb29f_row0_col1\" class=\"data row0 col1\" >1.000000</td>\n",
              "      <td id=\"T_bb29f_row0_col2\" class=\"data row0 col2\" >0.970757</td>\n",
              "      <td id=\"T_bb29f_row0_col3\" class=\"data row0 col3\" >0.928375</td>\n",
              "      <td id=\"T_bb29f_row0_col4\" class=\"data row0 col4\" >0.914086</td>\n",
              "      <td id=\"T_bb29f_row0_col5\" class=\"data row0 col5\" >0.924476</td>\n",
              "    </tr>\n",
              "    <tr>\n",
              "      <th id=\"T_bb29f_level0_row1\" class=\"row_heading level0 row1\" >1</th>\n",
              "      <td id=\"T_bb29f_row1_col0\" class=\"data row1 col0\" >0.953247</td>\n",
              "      <td id=\"T_bb29f_row1_col1\" class=\"data row1 col1\" >0.668325</td>\n",
              "      <td id=\"T_bb29f_row1_col2\" class=\"data row1 col2\" >0.699673</td>\n",
              "      <td id=\"T_bb29f_row1_col3\" class=\"data row1 col3\" >0.615985</td>\n",
              "      <td id=\"T_bb29f_row1_col4\" class=\"data row1 col4\" >0.688075</td>\n",
              "      <td id=\"T_bb29f_row1_col5\" class=\"data row1 col5\" >0.764856</td>\n",
              "    </tr>\n",
              "    <tr>\n",
              "      <th id=\"T_bb29f_level0_row2\" class=\"row_heading level0 row2\" >2</th>\n",
              "      <td id=\"T_bb29f_row2_col0\" class=\"data row2 col0\" >0.716182</td>\n",
              "      <td id=\"T_bb29f_row2_col1\" class=\"data row2 col1\" >0.901235</td>\n",
              "      <td id=\"T_bb29f_row2_col2\" class=\"data row2 col2\" >0.936508</td>\n",
              "      <td id=\"T_bb29f_row2_col3\" class=\"data row2 col3\" >0.958153</td>\n",
              "      <td id=\"T_bb29f_row2_col4\" class=\"data row2 col4\" >0.938131</td>\n",
              "      <td id=\"T_bb29f_row2_col5\" class=\"data row2 col5\" >0.587801</td>\n",
              "    </tr>\n",
              "    <tr>\n",
              "      <th id=\"T_bb29f_level0_row3\" class=\"row_heading level0 row3\" >3</th>\n",
              "      <td id=\"T_bb29f_row3_col0\" class=\"data row3 col0\" >0.861560</td>\n",
              "      <td id=\"T_bb29f_row3_col1\" class=\"data row3 col1\" >0.735085</td>\n",
              "      <td id=\"T_bb29f_row3_col2\" class=\"data row3 col2\" >0.765586</td>\n",
              "      <td id=\"T_bb29f_row3_col3\" class=\"data row3 col3\" >0.777898</td>\n",
              "      <td id=\"T_bb29f_row3_col4\" class=\"data row3 col4\" >0.631675</td>\n",
              "      <td id=\"T_bb29f_row3_col5\" class=\"data row3 col5\" >0.693775</td>\n",
              "    </tr>\n",
              "    <tr>\n",
              "      <th id=\"T_bb29f_level0_row4\" class=\"row_heading level0 row4\" >4</th>\n",
              "      <td id=\"T_bb29f_row4_col0\" class=\"data row4 col0\" >0.423280</td>\n",
              "      <td id=\"T_bb29f_row4_col1\" class=\"data row4 col1\" >0.812127</td>\n",
              "      <td id=\"T_bb29f_row4_col2\" class=\"data row4 col2\" >0.815488</td>\n",
              "      <td id=\"T_bb29f_row4_col3\" class=\"data row4 col3\" >0.870791</td>\n",
              "      <td id=\"T_bb29f_row4_col4\" class=\"data row4 col4\" >0.898601</td>\n",
              "      <td id=\"T_bb29f_row4_col5\" class=\"data row4 col5\" >0.934343</td>\n",
              "    </tr>\n",
              "    <tr>\n",
              "      <th id=\"T_bb29f_level0_row5\" class=\"row_heading level0 row5\" >5</th>\n",
              "      <td id=\"T_bb29f_row5_col0\" class=\"data row5 col0\" >0.892608</td>\n",
              "      <td id=\"T_bb29f_row5_col1\" class=\"data row5 col1\" >0.915639</td>\n",
              "      <td id=\"T_bb29f_row5_col2\" class=\"data row5 col2\" >0.870972</td>\n",
              "      <td id=\"T_bb29f_row5_col3\" class=\"data row5 col3\" >0.869890</td>\n",
              "      <td id=\"T_bb29f_row5_col4\" class=\"data row5 col4\" >0.874696</td>\n",
              "      <td id=\"T_bb29f_row5_col5\" class=\"data row5 col5\" >0.839896</td>\n",
              "    </tr>\n",
              "    <tr>\n",
              "      <th id=\"T_bb29f_level0_row6\" class=\"row_heading level0 row6\" >6</th>\n",
              "      <td id=\"T_bb29f_row6_col0\" class=\"data row6 col0\" >0.881993</td>\n",
              "      <td id=\"T_bb29f_row6_col1\" class=\"data row6 col1\" >0.946387</td>\n",
              "      <td id=\"T_bb29f_row6_col2\" class=\"data row6 col2\" >0.932498</td>\n",
              "      <td id=\"T_bb29f_row6_col3\" class=\"data row6 col3\" >0.918110</td>\n",
              "      <td id=\"T_bb29f_row6_col4\" class=\"data row6 col4\" >0.900101</td>\n",
              "      <td id=\"T_bb29f_row6_col5\" class=\"data row6 col5\" >0.943182</td>\n",
              "    </tr>\n",
              "    <tr>\n",
              "      <th id=\"T_bb29f_level0_row7\" class=\"row_heading level0 row7\" >7</th>\n",
              "      <td id=\"T_bb29f_row7_col0\" class=\"data row7 col0\" >0.905927</td>\n",
              "      <td id=\"T_bb29f_row7_col1\" class=\"data row7 col1\" >0.971429</td>\n",
              "      <td id=\"T_bb29f_row7_col2\" class=\"data row7 col2\" >0.983333</td>\n",
              "      <td id=\"T_bb29f_row7_col3\" class=\"data row7 col3\" >0.967832</td>\n",
              "      <td id=\"T_bb29f_row7_col4\" class=\"data row7 col4\" >0.966667</td>\n",
              "      <td id=\"T_bb29f_row7_col5\" class=\"data row7 col5\" >0.974242</td>\n",
              "    </tr>\n",
              "    <tr>\n",
              "      <th id=\"T_bb29f_level0_row8\" class=\"row_heading level0 row8\" >8</th>\n",
              "      <td id=\"T_bb29f_row8_col0\" class=\"data row8 col0\" >0.689644</td>\n",
              "      <td id=\"T_bb29f_row8_col1\" class=\"data row8 col1\" >0.815291</td>\n",
              "      <td id=\"T_bb29f_row8_col2\" class=\"data row8 col2\" >0.784472</td>\n",
              "      <td id=\"T_bb29f_row8_col3\" class=\"data row8 col3\" >0.790836</td>\n",
              "      <td id=\"T_bb29f_row8_col4\" class=\"data row8 col4\" >0.832618</td>\n",
              "      <td id=\"T_bb29f_row8_col5\" class=\"data row8 col5\" >0.851124</td>\n",
              "    </tr>\n",
              "  </tbody>\n",
              "</table>\n"
            ]
          },
          "metadata": {},
          "execution_count": 116
        }
      ]
    }
  ]
}