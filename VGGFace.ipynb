{
  "cells": [
    {
      "cell_type": "markdown",
      "metadata": {
        "id": "view-in-github",
        "colab_type": "text"
      },
      "source": [
        "<a href=\"https://colab.research.google.com/github/villifCoder559/VGGFaceFeatures_PCA/blob/main/VGGFace.ipynb\" target=\"_parent\"><img src=\"https://colab.research.google.com/assets/colab-badge.svg\" alt=\"Open In Colab\"/></a>"
      ]
    },
    {
      "cell_type": "code",
      "execution_count": 1,
      "metadata": {
        "id": "yjaRyJjosHEd"
      },
      "outputs": [],
      "source": [
        "%%capture\n",
        "!pip install faiss-cpu --no-cache"
      ]
    },
    {
      "cell_type": "code",
      "execution_count": 2,
      "metadata": {
        "id": "WvE2z802PlYv"
      },
      "outputs": [],
      "source": [
        "%%capture\n",
        "!pip install git+https://github.com/rcmalli/keras-vggface.git\n",
        "!pip install tensorflow keras_applications\n",
        "!pip install layer_utils"
      ]
    },
    {
      "cell_type": "code",
      "execution_count": 3,
      "metadata": {
        "id": "B4_W4a6SCKMr"
      },
      "outputs": [],
      "source": [
        "%%capture\n",
        "!pip install keras==2.12"
      ]
    },
    {
      "cell_type": "code",
      "execution_count": 4,
      "metadata": {
        "id": "yPyZ0drGU3D5"
      },
      "outputs": [],
      "source": [
        "import numpy as np\n",
        "import pandas as pd\n",
        "import cv2\n",
        "import keras\n",
        "from keras_vggface.vggface import VGGFace\n",
        "from sklearn.datasets import fetch_lfw_people\n",
        "from skimage.transform import resize\n",
        "import faiss\n",
        "from sklearn.decomposition import PCA\n",
        "import matplotlib.pyplot as plt\n",
        "from sklearn import metrics\n",
        "import pandas as pd"
      ]
    },
    {
      "cell_type": "markdown",
      "metadata": {
        "id": "Sy0QwabIes5O"
      },
      "source": [
        "<h1>Balancing Dataset"
      ]
    },
    {
      "cell_type": "code",
      "execution_count": 5,
      "metadata": {
        "id": "bhpByzxfg-bS"
      },
      "outputs": [],
      "source": [
        "lfw_people = fetch_lfw_people(min_faces_per_person=55, resize=2.4,color=True)"
      ]
    },
    {
      "cell_type": "code",
      "execution_count": 6,
      "metadata": {
        "colab": {
          "base_uri": "https://localhost:8080/"
        },
        "id": "IddmW05E2Zyp",
        "outputId": "5227f159-7074-4c4c-d3e5-d538b39645c2"
      },
      "outputs": [
        {
          "output_type": "stream",
          "name": "stdout",
          "text": [
            "0\n",
            "1\n",
            "2\n",
            "3\n",
            "4\n",
            "5\n",
            "6\n",
            "7\n",
            "8\n"
          ]
        }
      ],
      "source": [
        "np.random.seed(42)\n",
        "data=lfw_people.images\n",
        "target=lfw_people.target\n",
        "index_list,nr_elements_per_class=np.unique(target,return_counts=True)\n",
        "min_elements=min(nr_elements_per_class)\n",
        "balanced_data=[]\n",
        "balanced_target=[]\n",
        "for s_class in index_list:\n",
        "  print(s_class)\n",
        "  list_indices = np.argwhere(target == s_class).reshape(-1)\n",
        "  choices = np.random.choice(list_indices, min_elements, replace = False)\n",
        "  balanced_target.append(np.full(min_elements,s_class))\n",
        "  balanced_data.append(data[choices])\n",
        "balanced_data=np.array(balanced_data)\n",
        "balanced_target=np.array(balanced_target)\n",
        "balanced_data=balanced_data.reshape(balanced_data.shape[0]*balanced_data.shape[1],balanced_data.shape[2],balanced_data.shape[3],balanced_data.shape[4])\n",
        "balanced_target=balanced_target.reshape(-1)"
      ]
    },
    {
      "cell_type": "code",
      "execution_count": 7,
      "metadata": {
        "id": "Zcxhg9ceNqr_"
      },
      "outputs": [],
      "source": [
        "from sklearn.model_selection import train_test_split\n",
        "X_train, X_test, y_train, y_test = train_test_split(balanced_data, balanced_target, test_size=0.2, random_state=2)"
      ]
    },
    {
      "cell_type": "markdown",
      "metadata": {
        "id": "MbXbzHRgeys3"
      },
      "source": [
        "<h1>Image normalization and standardization"
      ]
    },
    {
      "cell_type": "code",
      "execution_count": 8,
      "metadata": {
        "id": "LmuLa6h2k5zX"
      },
      "outputs": [],
      "source": [
        "image_samples_train=np.copy(X_train)\n",
        "image_samples_train=np.array([cv2.resize(img,(224,224)) for img in image_samples_train])\n",
        "image_samples_train[:,:,:,0]=(image_samples_train[:,:,:,0]-np.mean(X_train[:,:,:,0]))/(np.std(X_train[:,:,:,0]))\n",
        "image_samples_train[:,:,:,1]=(image_samples_train[:,:,:,1]-np.mean(X_train[:,:,:,1]))/(np.std(X_train[:,:,:,1]))\n",
        "image_samples_train[:,:,:,2]=(image_samples_train[:,:,:,2]-np.mean(X_train[:,:,:,2]))/(np.std(X_train[:,:,:,2]))"
      ]
    },
    {
      "cell_type": "code",
      "execution_count": 9,
      "metadata": {
        "id": "cNCdu7MLaYa7"
      },
      "outputs": [],
      "source": [
        "image_samples_test=np.copy(X_test)\n",
        "image_samples_test=np.array([cv2.resize(img,(224,224)) for img in image_samples_test])\n",
        "image_samples_test[:,:,:,0]=(image_samples_test[:,:,:,0]-np.mean(X_train[:,:,:,0]))/(np.std(X_train[:,:,:,0]))\n",
        "image_samples_test[:,:,:,1]=(image_samples_test[:,:,:,1]-np.mean(X_train[:,:,:,1]))/(np.std(X_train[:,:,:,1]))\n",
        "image_samples_test[:,:,:,2]=(image_samples_test[:,:,:,2]-np.mean(X_train[:,:,:,2]))/(np.std(X_train[:,:,:,2]))"
      ]
    },
    {
      "cell_type": "markdown",
      "metadata": {
        "id": "glcX5CjKiDI2"
      },
      "source": [
        "<h1>Extract features"
      ]
    },
    {
      "cell_type": "code",
      "execution_count": null,
      "metadata": {
        "id": "B3fbqgKdBMbk"
      },
      "outputs": [],
      "source": [
        "vggface = VGGFace(model='vgg16',include_top=False,input_shape=(image_samples_train.shape[1],image_samples_train.shape[2],image_samples_train.shape[3]))\n",
        "result_train=vggface.predict(image_samples_train)\n",
        "result_test=vggface.predict(image_samples_test)\n",
        "original_result_train=np.copy(result_train)\n",
        "original_result_test=np.copy(result_test)"
      ]
    },
    {
      "cell_type": "markdown",
      "metadata": {
        "id": "LscqwWAMkmVU"
      },
      "source": [
        "<h1>Save/load features from drive"
      ]
    },
    {
      "cell_type": "code",
      "execution_count": 130,
      "metadata": {
        "colab": {
          "base_uri": "https://localhost:8080/",
          "height": 211
        },
        "id": "pFvqiw-31-z5",
        "outputId": "e893e234-2aff-4b00-d82a-1905b28f76ff"
      },
      "outputs": [
        {
          "output_type": "stream",
          "name": "stdout",
          "text": [
            "Drive already mounted at /content/drive; to attempt to forcibly remount, call drive.mount(\"/content/drive\", force_remount=True).\n"
          ]
        },
        {
          "output_type": "error",
          "ename": "NameError",
          "evalue": "name 'original_result_train' is not defined",
          "traceback": [
            "\u001b[0;31m---------------------------------------------------------------------------\u001b[0m",
            "\u001b[0;31mNameError\u001b[0m                                 Traceback (most recent call last)",
            "\u001b[0;32m<ipython-input-130-a8beb4d37eea>\u001b[0m in \u001b[0;36m<cell line: 7>\u001b[0;34m()\u001b[0m\n\u001b[1;32m      5\u001b[0m \u001b[0;31m# np.save(os.path.join(drive_path, 'VGGFace_features_faces_norm_std_train.npy'), original_result_train)\u001b[0m\u001b[0;34m\u001b[0m\u001b[0;34m\u001b[0m\u001b[0m\n\u001b[1;32m      6\u001b[0m \u001b[0;31m# np.save(os.path.join(drive_path, 'VGGFace_features_faces_norm_std_test.npy'), original_result_test)\u001b[0m\u001b[0;34m\u001b[0m\u001b[0;34m\u001b[0m\u001b[0m\n\u001b[0;32m----> 7\u001b[0;31m \u001b[0mnp\u001b[0m\u001b[0;34m.\u001b[0m\u001b[0msave\u001b[0m\u001b[0;34m(\u001b[0m\u001b[0mos\u001b[0m\u001b[0;34m.\u001b[0m\u001b[0mpath\u001b[0m\u001b[0;34m.\u001b[0m\u001b[0mjoin\u001b[0m\u001b[0;34m(\u001b[0m\u001b[0mdrive_path\u001b[0m\u001b[0;34m,\u001b[0m \u001b[0;34m'VGGFace_features_faces_train.npy'\u001b[0m\u001b[0;34m)\u001b[0m\u001b[0;34m,\u001b[0m \u001b[0moriginal_result_train\u001b[0m\u001b[0;34m)\u001b[0m\u001b[0;34m\u001b[0m\u001b[0;34m\u001b[0m\u001b[0m\n\u001b[0m\u001b[1;32m      8\u001b[0m \u001b[0mnp\u001b[0m\u001b[0;34m.\u001b[0m\u001b[0msave\u001b[0m\u001b[0;34m(\u001b[0m\u001b[0mos\u001b[0m\u001b[0;34m.\u001b[0m\u001b[0mpath\u001b[0m\u001b[0;34m.\u001b[0m\u001b[0mjoin\u001b[0m\u001b[0;34m(\u001b[0m\u001b[0mdrive_path\u001b[0m\u001b[0;34m,\u001b[0m \u001b[0;34m'VGGFace_features_faces_test.npy'\u001b[0m\u001b[0;34m)\u001b[0m\u001b[0;34m,\u001b[0m \u001b[0moriginal_result_test\u001b[0m\u001b[0;34m)\u001b[0m\u001b[0;34m\u001b[0m\u001b[0;34m\u001b[0m\u001b[0m\n",
            "\u001b[0;31mNameError\u001b[0m: name 'original_result_train' is not defined"
          ]
        }
      ],
      "source": [
        "from google.colab import drive\n",
        "import os\n",
        "drive.mount('/content/drive')\n",
        "drive_path = '/content/drive/MyDrive/'\n",
        "# np.save(os.path.join(drive_path, 'VGGFace_features_faces_norm_std_train.npy'), original_result_train)\n",
        "# np.save(os.path.join(drive_path, 'VGGFace_features_faces_norm_std_test.npy'), original_result_test)\n",
        "# np.save(os.path.join(drive_path, 'VGGFace_features_faces_train.npy'), original_result_train)\n",
        "# np.save(os.path.join(drive_path, 'VGGFace_features_faces_test.npy'), original_result_test)"
      ]
    },
    {
      "cell_type": "code",
      "execution_count": 10,
      "metadata": {
        "colab": {
          "base_uri": "https://localhost:8080/"
        },
        "id": "ylhbR17i2uDM",
        "outputId": "c2e7656e-c83c-4b4c-ef94-5eac63313d49"
      },
      "outputs": [
        {
          "output_type": "stream",
          "name": "stdout",
          "text": [
            "Mounted at /content/drive\n"
          ]
        }
      ],
      "source": [
        "from google.colab import drive\n",
        "import os\n",
        "drive.mount('/content/drive')\n",
        "drive_path = '/content/drive/MyDrive/'\n",
        "result_train_vgg=np.load(os.path.join(drive_path, 'VGGFace_features_faces_norm_std_train.npy'),allow_pickle=True)\n",
        "result_test_vgg=np.load(os.path.join(drive_path, 'VGGFace_features_faces_norm_std_test.npy'),allow_pickle=True)\n",
        "# result_train_vgg=np.load(os.path.join(drive_path, 'VGGFace_features_faces_train.npy'),allow_pickle=True)\n",
        "# result_test_vgg=np.load(os.path.join(drive_path, 'VGGFace_features_faces_test.npy'),allow_pickle=True)"
      ]
    },
    {
      "cell_type": "code",
      "execution_count": 11,
      "metadata": {
        "id": "v1RKwLuhXeDy"
      },
      "outputs": [],
      "source": [
        "#create reduction (if n_components is negative it means to remove the first n_components instead of lasts)\n",
        "def create_test_reduction(n_components,result_train,type_index='FlatL2',fixed_components=30):\n",
        "  if type_index not in ['FlatL2', 'FlatIP']:\n",
        "        raise ValueError(\"Type must be 'FlatL2' or 'FlatIP'\")\n",
        "  features_reducted=result_train.reshape(result_train.shape[0],-1)\n",
        "  if n_components > 0:\n",
        "    tmp_PCA=PCA(n_components=n_components)\n",
        "    features_reducted=np.ascontiguousarray(tmp_PCA.fit_transform(features_reducted))\n",
        "  else:\n",
        "    tmp_PCA=PCA(n_components=fixed_components).fit(features_reducted)\n",
        "    features_reducted=custom_reduction(tmp_PCA,result_train,n_components)\n",
        "  faiss.normalize_L2(features_reducted)\n",
        "  if type_index=='FlatIP':\n",
        "    return tmp_PCA,features_reducted,faiss.IndexFlatIP(features_reducted.shape[1])\n",
        "  else:\n",
        "    return tmp_PCA,features_reducted,faiss.IndexFlatL2(features_reducted.shape[1])"
      ]
    },
    {
      "cell_type": "code",
      "execution_count": 12,
      "metadata": {
        "id": "7c8Y3ky9fZSf"
      },
      "outputs": [],
      "source": [
        "def custom_reduction(pca,result_train,start_index):\n",
        "  transformed_results = []\n",
        "  for element in result_train:\n",
        "    test = element.reshape(1, -1)\n",
        "    # Apply PCA transformation\n",
        "    transformed_result = np.dot(test - pca.mean_, pca.components_[(-start_index):].T)\n",
        "    transformed_results.append(transformed_result)\n",
        "  return np.array(transformed_results).reshape(result_train.shape[0],pca.components_.shape[0]+start_index)"
      ]
    },
    {
      "cell_type": "markdown",
      "metadata": {
        "id": "Hdv6dHVIfMTn"
      },
      "source": [
        "<h1>Create Tests"
      ]
    },
    {
      "cell_type": "code",
      "execution_count": 13,
      "metadata": {
        "colab": {
          "base_uri": "https://localhost:8080/"
        },
        "id": "Wcs4ZeZcJX4G",
        "outputId": "614dabd1-8458-4a90-e676-32713c76861d"
      },
      "outputs": [
        {
          "output_type": "stream",
          "name": "stdout",
          "text": [
            "Fixed_componnets= 396\n",
            "(396, 25088)\n",
            "(396, 20)\n",
            "(396, 100)\n"
          ]
        }
      ],
      "source": [
        "list_n_components=[0,20,100] #0 -> No PCA, -K -> Without first K eigenvectors, +K -> Use K components\n",
        "# list_n_components=range(0,-6,-1)\n",
        "index_type='FlatIP' # FlatIP or FlatL2\n",
        "fixed_components=396 #20, 50, 396 w/o normalization\n",
        "print('Fixed_componnets=',fixed_components)\n",
        "pca_objs=[]\n",
        "features_objs=[]\n",
        "index_faiss_objs=[]\n",
        "for n_components in list_n_components:\n",
        "  if n_components>0:\n",
        "    pca,features,index=create_test_reduction(n_components,result_train_vgg,index_type)\n",
        "    pca_objs.append(pca)\n",
        "    features_objs.append(features)\n",
        "    index_faiss_objs.append(index)\n",
        "  else:\n",
        "    if(n_components<0):\n",
        "      pca,features,index=create_test_reduction(n_components,result_train_vgg,index_type,fixed_components)\n",
        "      pca_objs.append(pca)\n",
        "      features_objs.append(features)\n",
        "      index_faiss_objs.append(index)\n",
        "    else: # dummy PCA\n",
        "      pca_objs.append(PCA())\n",
        "      res_train_norm=np.copy(result_train_vgg.reshape(result_train_vgg.shape[0],-1))\n",
        "      faiss.normalize_L2(res_train_norm)\n",
        "      features_objs.append(res_train_norm)\n",
        "      if index_type=='FlatIP':\n",
        "        index_faiss_objs.append(faiss.IndexFlatIP(res_train_norm.shape[1]))\n",
        "      else:\n",
        "        index_faiss_objs.append(faiss.IndexFlatL2(res_train_norm.shape[1]))\n",
        "#add vectors to index\n",
        "count=0\n",
        "for index in index_faiss_objs:\n",
        "  print(features_objs[count].shape)\n",
        "  index.add(features_objs[count])\n",
        "  count=count+1"
      ]
    },
    {
      "cell_type": "code",
      "execution_count": 14,
      "metadata": {
        "id": "jzd9K7Oml09B"
      },
      "outputs": [],
      "source": [
        "def compute_precision_recall(ground_truth,target,index_faiss,top_k,reduced_vector):\n",
        "  TP=-1\n",
        "  reduced_vector=np.ascontiguousarray(reduced_vector.reshape(1, -1))\n",
        "  # print(reduced_vector.shape)\n",
        "  _,retrived_elements=index.search(reduced_vector, X_train.shape[0])\n",
        "  retrived_targets_id=ground_truth[retrived_elements]==target\n",
        "  indices = np.where(retrived_targets_id.reshape(-1))[0]\n",
        "  if(top_k>len(indices)):\n",
        "    # print('Face nr.',target,'max elements:',len(indices)-1,'(NOT',str(top_k)+')')\n",
        "    top_k=len(indices)\n",
        "  stop=indices[top_k-1]+1\n",
        "  TP=top_k\n",
        "  total_samples=np.sum(ground_truth==target)\n",
        "  FP=stop-TP\n",
        "  FN=total_samples-TP\n",
        "  precision=0\n",
        "  if TP+FP!=0:\n",
        "    precision=TP/(TP+FP)\n",
        "  recall=TP/((TP+FN))\n",
        "  return precision,recall"
      ]
    },
    {
      "cell_type": "markdown",
      "metadata": {
        "id": "e1QvvIAafYHQ"
      },
      "source": [
        "<h1>Compute Precision-recall"
      ]
    },
    {
      "cell_type": "code",
      "execution_count": 15,
      "metadata": {
        "id": "WpBTT2YzqBTP"
      },
      "outputs": [],
      "source": [
        "import time\n",
        "list_top_elements=[5,10,20,100]\n",
        "i=0\n",
        "j=0\n",
        "k=0\n",
        "precision_results=[]\n",
        "recall_results=[]\n",
        "name_results=[]\n",
        "list_precision_results=[]\n",
        "list_recall_results=[]\n",
        "test_vectors=result_test_vgg.reshape(result_test_vgg.shape[0],-1)\n",
        "for top_k in list_top_elements:\n",
        "  for index in index_faiss_objs:\n",
        "    # start=time.time()\n",
        "    for vector in test_vectors:\n",
        "      if list_n_components[i] > 0:\n",
        "        reduced_vector=(vector.reshape(1,-1)-pca_objs[i].mean_)@pca_objs[i].components_.T\n",
        "      else:\n",
        "        if list_n_components[i] < 0:\n",
        "          reduced_vector=(vector.reshape(1,-1)-pca_objs[i].mean_)@pca_objs[i].components_[-list_n_components[i]:].T\n",
        "        else:\n",
        "          reduced_vector=vector\n",
        "      reduced_vector=reduced_vector/np.linalg.norm(reduced_vector)\n",
        "      precision,recall=compute_precision_recall(y_train,y_test[j],index,top_k,reduced_vector)\n",
        "      name_results.append(y_test[j])\n",
        "      precision_results.append(precision)\n",
        "      recall_results.append(recall)\n",
        "      j=j+1\n",
        "    j=0\n",
        "    i=i+1\n",
        "  i=0\n",
        "    # tmp=time.time()-start\n",
        "recall_results=np.array(recall_results).reshape(len(list_top_elements),len(index_faiss_objs),test_vectors.shape[0])\n",
        "precision_results=np.array(precision_results).reshape(len(list_top_elements),len(index_faiss_objs),test_vectors.shape[0])\n",
        "name_results=np.array(name_results).reshape(len(list_top_elements),len(index_faiss_objs),test_vectors.shape[0])"
      ]
    },
    {
      "cell_type": "code",
      "execution_count": 16,
      "metadata": {
        "id": "Jh9hY2qno4n4"
      },
      "outputs": [],
      "source": [
        "def create_DataFrame(id_labels,selected_name_result,selected_precision_result,normalization_factors,index_faiss_n_components,list_n_components,index_selected_top_k_retrival):\n",
        "  str_top_k=str(list_top_elements[index_selected_top_k_retrival])\n",
        "  text=''\n",
        "  index_type=''\n",
        "  precision_vector=np.bincount(selected_name_result,weights=selected_precision_result)/normalization_factors\n",
        "  recall_vector=np.bincount(selected_name_result,weights=selected_recall_result)/normalization_factors\n",
        "  # F1_vector=2*(precision_vector*recall_vector)/(precision_vector+recall_vector)\n",
        "  if index_faiss_objs[index_faiss_n_components].__class__.__name__ == 'IndexFlatIP':\n",
        "    index_type='(IP)'\n",
        "  else:\n",
        "    index_type='(L2)'\n",
        "  if list_n_components[index_faiss_n_components]<0:\n",
        "    text='/'+str(fixed_components)\n",
        "  df = pd.DataFrame({\n",
        "    \"Faces\":id_labels,\n",
        "    # (\"F\"+index_type+\"@\"+str_top_k+'_'+str(list_n_components[index_faiss_n_components])+text):F1_vector        # F1\n",
        "    (\"P\"+index_type+\"@\"+str_top_k+'_'+str(list_n_components[index_faiss_n_components])+text):precision_vector,  # Precision\n",
        "    # (\"R@\"+str_top_k+'_'+str(list_n_components[index_faiss_n_components])):recall_vector,                      # Recall\n",
        "  })\n",
        "  return df"
      ]
    },
    {
      "cell_type": "code",
      "execution_count": 17,
      "metadata": {
        "id": "wccn9Ttfn_LI"
      },
      "outputs": [],
      "source": [
        "df_list=[]\n",
        "avg_precision=[]\n",
        "for i in range(precision_results.shape[0]):\n",
        "  for j in range(precision_results.shape[1]):\n",
        "    selected_name_result = name_results[i][j]\n",
        "    selected_recall_result = recall_results[i][j]\n",
        "    selected_precision_result = precision_results[i][j]\n",
        "    avg_precision.append(np.mean(selected_precision_result))\n",
        "    id_labels,normalization_factors = np.unique(y_test,return_counts=True)\n",
        "    df=create_DataFrame(id_labels,selected_name_result,selected_precision_result,normalization_factors,j,list_n_components,i)\n",
        "    df_list.append(df)\n",
        "avg_precision=np.array(avg_precision).reshape(len(list_top_elements),len(list_n_components))"
      ]
    },
    {
      "cell_type": "markdown",
      "metadata": {
        "id": "Prq_Z7xFASMq"
      },
      "source": [
        "F1 Score all retrived<br>\n",
        "P(IP)@1000_0    -> F-Score(distance_InnerProduct)@all_elements_noPCAReduction<br>\n",
        "P(IP)@1000_200  ->F-Score(distance_InnerProduct)@all_elements_PCA_200_Components<br>\n",
        "P(IP)@1000_-2/25-> F-Score(Distance_InnerProduct)@W/h first 2 componets out of 25"
      ]
    },
    {
      "cell_type": "code",
      "execution_count": 18,
      "metadata": {
        "id": "fTYR-O2eVwTO"
      },
      "outputs": [],
      "source": [
        "merged_df_list=[]\n",
        "count=0\n",
        "for pick_top_k in list_top_elements:\n",
        "  merged_df=df_list[count]\n",
        "  for i in range(count+1,count+int(len(df_list)/len(list_top_elements))):\n",
        "    merged_df=pd.merge(merged_df,df_list[i])\n",
        "  merged_df_list.append(merged_df.drop(columns=['Faces']).style.highlight_min(color = 'red', axis = 1).highlight_max(color = 'green', axis = 1))\n",
        "  count+=int(len(df_list)/len(list_top_elements))"
      ]
    },
    {
      "cell_type": "code",
      "source": [
        "import numpy as np\n",
        "import pandas as pd\n",
        "from sklearn.decomposition import PCA\n",
        "import faiss\n",
        "\n",
        "class TestRunner:\n",
        "    def __init__(self, train_data, train_labels, test_data, test_labels):\n",
        "        self.train_data = train_data\n",
        "        self.train_labels = train_labels\n",
        "        self.test_data = test_data\n",
        "        self.test_labels = test_labels\n",
        "        self.list_top_elements = [5, 10, 20, 100]  # Define your list of top K values here\n",
        "        self.index_faiss_objs = []  # Initialize a list to store Faiss indices\n",
        "        self.list_n_components = [0, 20, 100]  # Define your list of PCA components here\n",
        "        self.fixed_components = 396  # Define your fixed number of PCA components here\n",
        "        self.df_list = []  # Initialize a list to store DataFrames\n",
        "\n",
        "    def run_tests(self):\n",
        "        for top_k in self.list_top_elements:\n",
        "            for n_components in self.list_n_components:\n",
        "                pca, features, index = self.create_test_reduction(n_components)\n",
        "                self.index_faiss_objs.append(index)\n",
        "\n",
        "                precision_results, recall_results, name_results = [], [], []\n",
        "                for vector, target_label in zip(self.test_data, self.test_labels):\n",
        "                    reduced_vector = self.reduce_vector(vector, pca, n_components)\n",
        "                    precision, recall = self.compute_precision_recall(target_label, index, top_k, reduced_vector)\n",
        "                    precision_results.append(precision)\n",
        "                    recall_results.append(recall)\n",
        "                    name_results.append(target_label)\n",
        "\n",
        "                df = self.create_DataFrame(name_results, precision_results, recall_results, n_components, top_k)\n",
        "                self.df_list.append(df)"
      ],
      "metadata": {
        "id": "WhjF5eSfmDB7"
      },
      "execution_count": 31,
      "outputs": []
    },
    {
      "cell_type": "code",
      "source": [],
      "metadata": {
        "id": "bPZGO5-aya42"
      },
      "execution_count": null,
      "outputs": []
    },
    {
      "cell_type": "code",
      "source": [
        "merged_df_list[1]"
      ],
      "metadata": {
        "colab": {
          "base_uri": "https://localhost:8080/",
          "height": 332
        },
        "id": "2YbkJDzTERFe",
        "outputId": "0c043493-9843-4911-a00f-3c11c778d482"
      },
      "execution_count": 149,
      "outputs": [
        {
          "output_type": "execute_result",
          "data": {
            "text/plain": [
              "<pandas.io.formats.style.Styler at 0x7eb1509566e0>"
            ],
            "text/html": [
              "<style type=\"text/css\">\n",
              "#T_9d04c_row0_col0, #T_9d04c_row1_col1, #T_9d04c_row2_col1, #T_9d04c_row2_col2, #T_9d04c_row3_col2, #T_9d04c_row4_col2, #T_9d04c_row5_col0, #T_9d04c_row6_col0, #T_9d04c_row7_col1, #T_9d04c_row8_col2 {\n",
              "  background-color: green;\n",
              "}\n",
              "#T_9d04c_row0_col2, #T_9d04c_row1_col2, #T_9d04c_row2_col0, #T_9d04c_row3_col0, #T_9d04c_row4_col1, #T_9d04c_row5_col2, #T_9d04c_row6_col2, #T_9d04c_row7_col2, #T_9d04c_row8_col1 {\n",
              "  background-color: red;\n",
              "}\n",
              "</style>\n",
              "<table id=\"T_9d04c\" class=\"dataframe\">\n",
              "  <thead>\n",
              "    <tr>\n",
              "      <th class=\"blank level0\" >&nbsp;</th>\n",
              "      <th id=\"T_9d04c_level0_col0\" class=\"col_heading level0 col0\" >P(IP)@10_-1/20</th>\n",
              "      <th id=\"T_9d04c_level0_col1\" class=\"col_heading level0 col1\" >P(IP)@10_-2/20</th>\n",
              "      <th id=\"T_9d04c_level0_col2\" class=\"col_heading level0 col2\" >P(IP)@10_-3/20</th>\n",
              "    </tr>\n",
              "  </thead>\n",
              "  <tbody>\n",
              "    <tr>\n",
              "      <th id=\"T_9d04c_level0_row0\" class=\"row_heading level0 row0\" >0</th>\n",
              "      <td id=\"T_9d04c_row0_col0\" class=\"data row0 col0\" >1.000000</td>\n",
              "      <td id=\"T_9d04c_row0_col1\" class=\"data row0 col1\" >0.976584</td>\n",
              "      <td id=\"T_9d04c_row0_col2\" class=\"data row0 col2\" >0.937190</td>\n",
              "    </tr>\n",
              "    <tr>\n",
              "      <th id=\"T_9d04c_level0_row1\" class=\"row_heading level0 row1\" >1</th>\n",
              "      <td id=\"T_9d04c_row1_col0\" class=\"data row1 col0\" >0.640026</td>\n",
              "      <td id=\"T_9d04c_row1_col1\" class=\"data row1 col1\" >0.648816</td>\n",
              "      <td id=\"T_9d04c_row1_col2\" class=\"data row1 col2\" >0.591184</td>\n",
              "    </tr>\n",
              "    <tr>\n",
              "      <th id=\"T_9d04c_level0_row2\" class=\"row_heading level0 row2\" >2</th>\n",
              "      <td id=\"T_9d04c_row2_col0\" class=\"data row2 col0\" >0.937322</td>\n",
              "      <td id=\"T_9d04c_row2_col1\" class=\"data row2 col1\" >0.971380</td>\n",
              "      <td id=\"T_9d04c_row2_col2\" class=\"data row2 col2\" >0.971380</td>\n",
              "    </tr>\n",
              "    <tr>\n",
              "      <th id=\"T_9d04c_level0_row3\" class=\"row_heading level0 row3\" >3</th>\n",
              "      <td id=\"T_9d04c_row3_col0\" class=\"data row3 col0\" >0.729374</td>\n",
              "      <td id=\"T_9d04c_row3_col1\" class=\"data row3 col1\" >0.778492</td>\n",
              "      <td id=\"T_9d04c_row3_col2\" class=\"data row3 col2\" >0.784222</td>\n",
              "    </tr>\n",
              "    <tr>\n",
              "      <th id=\"T_9d04c_level0_row4\" class=\"row_heading level0 row4\" >4</th>\n",
              "      <td id=\"T_9d04c_row4_col0\" class=\"data row4 col0\" >0.859755</td>\n",
              "      <td id=\"T_9d04c_row4_col1\" class=\"data row4 col1\" >0.851852</td>\n",
              "      <td id=\"T_9d04c_row4_col2\" class=\"data row4 col2\" >0.954157</td>\n",
              "    </tr>\n",
              "    <tr>\n",
              "      <th id=\"T_9d04c_level0_row5\" class=\"row_heading level0 row5\" >5</th>\n",
              "      <td id=\"T_9d04c_row5_col0\" class=\"data row5 col0\" >0.914855</td>\n",
              "      <td id=\"T_9d04c_row5_col1\" class=\"data row5 col1\" >0.871902</td>\n",
              "      <td id=\"T_9d04c_row5_col2\" class=\"data row5 col2\" >0.867146</td>\n",
              "    </tr>\n",
              "    <tr>\n",
              "      <th id=\"T_9d04c_level0_row6\" class=\"row_heading level0 row6\" >6</th>\n",
              "      <td id=\"T_9d04c_row6_col0\" class=\"data row6 col0\" >0.965618</td>\n",
              "      <td id=\"T_9d04c_row6_col1\" class=\"data row6 col1\" >0.915404</td>\n",
              "      <td id=\"T_9d04c_row6_col2\" class=\"data row6 col2\" >0.878050</td>\n",
              "    </tr>\n",
              "    <tr>\n",
              "      <th id=\"T_9d04c_level0_row7\" class=\"row_heading level0 row7\" >7</th>\n",
              "      <td id=\"T_9d04c_row7_col0\" class=\"data row7 col0\" >0.990909</td>\n",
              "      <td id=\"T_9d04c_row7_col1\" class=\"data row7 col1\" >1.000000</td>\n",
              "      <td id=\"T_9d04c_row7_col2\" class=\"data row7 col2\" >0.983333</td>\n",
              "    </tr>\n",
              "    <tr>\n",
              "      <th id=\"T_9d04c_level0_row8\" class=\"row_heading level0 row8\" >8</th>\n",
              "      <td id=\"T_9d04c_row8_col0\" class=\"data row8 col0\" >0.793497</td>\n",
              "      <td id=\"T_9d04c_row8_col1\" class=\"data row8 col1\" >0.792768</td>\n",
              "      <td id=\"T_9d04c_row8_col2\" class=\"data row8 col2\" >0.806789</td>\n",
              "    </tr>\n",
              "  </tbody>\n",
              "</table>\n"
            ]
          },
          "metadata": {},
          "execution_count": 149
        }
      ]
    },
    {
      "cell_type": "code",
      "source": [
        "merged_df_list[2]"
      ],
      "metadata": {
        "colab": {
          "base_uri": "https://localhost:8080/",
          "height": 332
        },
        "id": "824h2xNKESaJ",
        "outputId": "9ceb20ae-6f2c-4097-ecd1-67fe23cf6668"
      },
      "execution_count": 99,
      "outputs": [
        {
          "output_type": "execute_result",
          "data": {
            "text/plain": [
              "<pandas.io.formats.style.Styler at 0x7eb1509009d0>"
            ],
            "text/html": [
              "<style type=\"text/css\">\n",
              "#T_c1759_row0_col0, #T_c1759_row1_col2, #T_c1759_row2_col2, #T_c1759_row3_col2, #T_c1759_row4_col2, #T_c1759_row5_col0, #T_c1759_row6_col0, #T_c1759_row7_col1, #T_c1759_row8_col2 {\n",
              "  background-color: green;\n",
              "}\n",
              "#T_c1759_row0_col2, #T_c1759_row1_col0, #T_c1759_row2_col0, #T_c1759_row3_col0, #T_c1759_row4_col0, #T_c1759_row5_col2, #T_c1759_row6_col2, #T_c1759_row7_col2, #T_c1759_row8_col0 {\n",
              "  background-color: red;\n",
              "}\n",
              "</style>\n",
              "<table id=\"T_c1759\" class=\"dataframe\">\n",
              "  <thead>\n",
              "    <tr>\n",
              "      <th class=\"blank level0\" >&nbsp;</th>\n",
              "      <th id=\"T_c1759_level0_col0\" class=\"col_heading level0 col0\" >P(IP)@20_-1/20</th>\n",
              "      <th id=\"T_c1759_level0_col1\" class=\"col_heading level0 col1\" >P(IP)@20_-2/20</th>\n",
              "      <th id=\"T_c1759_level0_col2\" class=\"col_heading level0 col2\" >P(IP)@20_-3/20</th>\n",
              "    </tr>\n",
              "  </thead>\n",
              "  <tbody>\n",
              "    <tr>\n",
              "      <th id=\"T_c1759_level0_row0\" class=\"row_heading level0 row0\" >0</th>\n",
              "      <td id=\"T_c1759_row0_col0\" class=\"data row0 col0\" >0.995671</td>\n",
              "      <td id=\"T_c1759_row0_col1\" class=\"data row0 col1\" >0.951980</td>\n",
              "      <td id=\"T_c1759_row0_col2\" class=\"data row0 col2\" >0.924252</td>\n",
              "    </tr>\n",
              "    <tr>\n",
              "      <th id=\"T_c1759_level0_row1\" class=\"row_heading level0 row1\" >1</th>\n",
              "      <td id=\"T_c1759_row1_col0\" class=\"data row1 col0\" >0.368724</td>\n",
              "      <td id=\"T_c1759_row1_col1\" class=\"data row1 col1\" >0.424052</td>\n",
              "      <td id=\"T_c1759_row1_col2\" class=\"data row1 col2\" >0.426769</td>\n",
              "    </tr>\n",
              "    <tr>\n",
              "      <th id=\"T_c1759_level0_row2\" class=\"row_heading level0 row2\" >2</th>\n",
              "      <td id=\"T_c1759_row2_col0\" class=\"data row2 col0\" >0.861269</td>\n",
              "      <td id=\"T_c1759_row2_col1\" class=\"data row2 col1\" >0.912901</td>\n",
              "      <td id=\"T_c1759_row2_col2\" class=\"data row2 col2\" >0.957095</td>\n",
              "    </tr>\n",
              "    <tr>\n",
              "      <th id=\"T_c1759_level0_row3\" class=\"row_heading level0 row3\" >3</th>\n",
              "      <td id=\"T_c1759_row3_col0\" class=\"data row3 col0\" >0.677690</td>\n",
              "      <td id=\"T_c1759_row3_col1\" class=\"data row3 col1\" >0.709503</td>\n",
              "      <td id=\"T_c1759_row3_col2\" class=\"data row3 col2\" >0.722432</td>\n",
              "    </tr>\n",
              "    <tr>\n",
              "      <th id=\"T_c1759_level0_row4\" class=\"row_heading level0 row4\" >4</th>\n",
              "      <td id=\"T_c1759_row4_col0\" class=\"data row4 col0\" >0.616620</td>\n",
              "      <td id=\"T_c1759_row4_col1\" class=\"data row4 col1\" >0.683867</td>\n",
              "      <td id=\"T_c1759_row4_col2\" class=\"data row4 col2\" >0.743346</td>\n",
              "    </tr>\n",
              "    <tr>\n",
              "      <th id=\"T_c1759_level0_row5\" class=\"row_heading level0 row5\" >5</th>\n",
              "      <td id=\"T_c1759_row5_col0\" class=\"data row5 col0\" >0.862425</td>\n",
              "      <td id=\"T_c1759_row5_col1\" class=\"data row5 col1\" >0.850613</td>\n",
              "      <td id=\"T_c1759_row5_col2\" class=\"data row5 col2\" >0.849875</td>\n",
              "    </tr>\n",
              "    <tr>\n",
              "      <th id=\"T_c1759_level0_row6\" class=\"row_heading level0 row6\" >6</th>\n",
              "      <td id=\"T_c1759_row6_col0\" class=\"data row6 col0\" >0.712311</td>\n",
              "      <td id=\"T_c1759_row6_col1\" class=\"data row6 col1\" >0.694344</td>\n",
              "      <td id=\"T_c1759_row6_col2\" class=\"data row6 col2\" >0.658319</td>\n",
              "    </tr>\n",
              "    <tr>\n",
              "      <th id=\"T_c1759_level0_row7\" class=\"row_heading level0 row7\" >7</th>\n",
              "      <td id=\"T_c1759_row7_col0\" class=\"data row7 col0\" >0.939588</td>\n",
              "      <td id=\"T_c1759_row7_col1\" class=\"data row7 col1\" >0.986957</td>\n",
              "      <td id=\"T_c1759_row7_col2\" class=\"data row7 col2\" >0.935439</td>\n",
              "    </tr>\n",
              "    <tr>\n",
              "      <th id=\"T_c1759_level0_row8\" class=\"row_heading level0 row8\" >8</th>\n",
              "      <td id=\"T_c1759_row8_col0\" class=\"data row8 col0\" >0.743749</td>\n",
              "      <td id=\"T_c1759_row8_col1\" class=\"data row8 col1\" >0.752754</td>\n",
              "      <td id=\"T_c1759_row8_col2\" class=\"data row8 col2\" >0.794904</td>\n",
              "    </tr>\n",
              "  </tbody>\n",
              "</table>\n"
            ]
          },
          "metadata": {},
          "execution_count": 99
        }
      ]
    },
    {
      "cell_type": "code",
      "source": [
        "merged_df_list[3]"
      ],
      "metadata": {
        "colab": {
          "base_uri": "https://localhost:8080/",
          "height": 332
        },
        "id": "BAFNZJyzFW4c",
        "outputId": "9f6045ef-9f7a-4efc-d097-20e4d28cee0a"
      },
      "execution_count": 100,
      "outputs": [
        {
          "output_type": "execute_result",
          "data": {
            "text/plain": [
              "<pandas.io.formats.style.Styler at 0x7eb1509038e0>"
            ],
            "text/html": [
              "<style type=\"text/css\">\n",
              "#T_28185_row0_col0, #T_28185_row1_col2, #T_28185_row2_col1, #T_28185_row3_col2, #T_28185_row4_col2, #T_28185_row5_col2, #T_28185_row6_col2, #T_28185_row7_col0, #T_28185_row8_col2 {\n",
              "  background-color: green;\n",
              "}\n",
              "#T_28185_row0_col2, #T_28185_row1_col0, #T_28185_row2_col0, #T_28185_row3_col0, #T_28185_row4_col0, #T_28185_row5_col0, #T_28185_row6_col1, #T_28185_row7_col2, #T_28185_row8_col1 {\n",
              "  background-color: red;\n",
              "}\n",
              "</style>\n",
              "<table id=\"T_28185\" class=\"dataframe\">\n",
              "  <thead>\n",
              "    <tr>\n",
              "      <th class=\"blank level0\" >&nbsp;</th>\n",
              "      <th id=\"T_28185_level0_col0\" class=\"col_heading level0 col0\" >P(IP)@100_-1/20</th>\n",
              "      <th id=\"T_28185_level0_col1\" class=\"col_heading level0 col1\" >P(IP)@100_-2/20</th>\n",
              "      <th id=\"T_28185_level0_col2\" class=\"col_heading level0 col2\" >P(IP)@100_-3/20</th>\n",
              "    </tr>\n",
              "  </thead>\n",
              "  <tbody>\n",
              "    <tr>\n",
              "      <th id=\"T_28185_level0_row0\" class=\"row_heading level0 row0\" >0</th>\n",
              "      <td id=\"T_28185_row0_col0\" class=\"data row0 col0\" >0.575600</td>\n",
              "      <td id=\"T_28185_row0_col1\" class=\"data row0 col1\" >0.451909</td>\n",
              "      <td id=\"T_28185_row0_col2\" class=\"data row0 col2\" >0.288942</td>\n",
              "    </tr>\n",
              "    <tr>\n",
              "      <th id=\"T_28185_level0_row1\" class=\"row_heading level0 row1\" >1</th>\n",
              "      <td id=\"T_28185_row1_col0\" class=\"data row1 col0\" >0.117296</td>\n",
              "      <td id=\"T_28185_row1_col1\" class=\"data row1 col1\" >0.121623</td>\n",
              "      <td id=\"T_28185_row1_col2\" class=\"data row1 col2\" >0.129018</td>\n",
              "    </tr>\n",
              "    <tr>\n",
              "      <th id=\"T_28185_level0_row2\" class=\"row_heading level0 row2\" >2</th>\n",
              "      <td id=\"T_28185_row2_col0\" class=\"data row2 col0\" >0.344907</td>\n",
              "      <td id=\"T_28185_row2_col1\" class=\"data row2 col1\" >0.495838</td>\n",
              "      <td id=\"T_28185_row2_col2\" class=\"data row2 col2\" >0.491590</td>\n",
              "    </tr>\n",
              "    <tr>\n",
              "      <th id=\"T_28185_level0_row3\" class=\"row_heading level0 row3\" >3</th>\n",
              "      <td id=\"T_28185_row3_col0\" class=\"data row3 col0\" >0.183016</td>\n",
              "      <td id=\"T_28185_row3_col1\" class=\"data row3 col1\" >0.197563</td>\n",
              "      <td id=\"T_28185_row3_col2\" class=\"data row3 col2\" >0.216664</td>\n",
              "    </tr>\n",
              "    <tr>\n",
              "      <th id=\"T_28185_level0_row4\" class=\"row_heading level0 row4\" >4</th>\n",
              "      <td id=\"T_28185_row4_col0\" class=\"data row4 col0\" >0.139411</td>\n",
              "      <td id=\"T_28185_row4_col1\" class=\"data row4 col1\" >0.163926</td>\n",
              "      <td id=\"T_28185_row4_col2\" class=\"data row4 col2\" >0.193407</td>\n",
              "    </tr>\n",
              "    <tr>\n",
              "      <th id=\"T_28185_level0_row5\" class=\"row_heading level0 row5\" >5</th>\n",
              "      <td id=\"T_28185_row5_col0\" class=\"data row5 col0\" >0.257766</td>\n",
              "      <td id=\"T_28185_row5_col1\" class=\"data row5 col1\" >0.288908</td>\n",
              "      <td id=\"T_28185_row5_col2\" class=\"data row5 col2\" >0.291075</td>\n",
              "    </tr>\n",
              "    <tr>\n",
              "      <th id=\"T_28185_level0_row6\" class=\"row_heading level0 row6\" >6</th>\n",
              "      <td id=\"T_28185_row6_col0\" class=\"data row6 col0\" >0.170303</td>\n",
              "      <td id=\"T_28185_row6_col1\" class=\"data row6 col1\" >0.166184</td>\n",
              "      <td id=\"T_28185_row6_col2\" class=\"data row6 col2\" >0.172079</td>\n",
              "    </tr>\n",
              "    <tr>\n",
              "      <th id=\"T_28185_level0_row7\" class=\"row_heading level0 row7\" >7</th>\n",
              "      <td id=\"T_28185_row7_col0\" class=\"data row7 col0\" >0.516472</td>\n",
              "      <td id=\"T_28185_row7_col1\" class=\"data row7 col1\" >0.347231</td>\n",
              "      <td id=\"T_28185_row7_col2\" class=\"data row7 col2\" >0.303382</td>\n",
              "    </tr>\n",
              "    <tr>\n",
              "      <th id=\"T_28185_level0_row8\" class=\"row_heading level0 row8\" >8</th>\n",
              "      <td id=\"T_28185_row8_col0\" class=\"data row8 col0\" >0.263458</td>\n",
              "      <td id=\"T_28185_row8_col1\" class=\"data row8 col1\" >0.238671</td>\n",
              "      <td id=\"T_28185_row8_col2\" class=\"data row8 col2\" >0.288147</td>\n",
              "    </tr>\n",
              "  </tbody>\n",
              "</table>\n"
            ]
          },
          "metadata": {},
          "execution_count": 100
        }
      ]
    },
    {
      "cell_type": "code",
      "execution_count": 19,
      "metadata": {
        "colab": {
          "base_uri": "https://localhost:8080/",
          "height": 356
        },
        "id": "p0cJWWWR8lVC",
        "outputId": "0ab79f84-058f-434e-93e6-74eeeaa4913e"
      },
      "outputs": [
        {
          "output_type": "error",
          "ename": "ValueError",
          "evalue": "Length of values (3) does not match length of index (5)",
          "traceback": [
            "\u001b[0;31m---------------------------------------------------------------------------\u001b[0m",
            "\u001b[0;31mValueError\u001b[0m                                Traceback (most recent call last)",
            "\u001b[0;32m<ipython-input-19-aa9bc6fbeedb>\u001b[0m in \u001b[0;36m<cell line: 5>\u001b[0;34m()\u001b[0m\n\u001b[1;32m      3\u001b[0m \u001b[0;32mfor\u001b[0m \u001b[0mi\u001b[0m \u001b[0;32min\u001b[0m \u001b[0mrange\u001b[0m\u001b[0;34m(\u001b[0m\u001b[0mavg_prec_T\u001b[0m\u001b[0;34m.\u001b[0m\u001b[0mshape\u001b[0m\u001b[0;34m[\u001b[0m\u001b[0;36m0\u001b[0m\u001b[0;34m]\u001b[0m\u001b[0;34m)\u001b[0m\u001b[0;34m:\u001b[0m\u001b[0;34m\u001b[0m\u001b[0;34m\u001b[0m\u001b[0m\n\u001b[1;32m      4\u001b[0m   \u001b[0mtable\u001b[0m\u001b[0;34m[\u001b[0m\u001b[0;34m'P@'\u001b[0m\u001b[0;34m+\u001b[0m\u001b[0mstr\u001b[0m\u001b[0;34m(\u001b[0m\u001b[0mlist_top_elements\u001b[0m\u001b[0;34m[\u001b[0m\u001b[0mi\u001b[0m\u001b[0;34m]\u001b[0m\u001b[0;34m)\u001b[0m\u001b[0;34m]\u001b[0m\u001b[0;34m=\u001b[0m\u001b[0mavg_prec_T\u001b[0m\u001b[0;34m[\u001b[0m\u001b[0mi\u001b[0m\u001b[0;34m]\u001b[0m\u001b[0;34m\u001b[0m\u001b[0;34m\u001b[0m\u001b[0m\n\u001b[0;32m----> 5\u001b[0;31m \u001b[0mdf_avg\u001b[0m\u001b[0;34m=\u001b[0m\u001b[0mpd\u001b[0m\u001b[0;34m.\u001b[0m\u001b[0mDataFrame\u001b[0m\u001b[0;34m(\u001b[0m\u001b[0mtable\u001b[0m\u001b[0;34m,\u001b[0m\u001b[0mindex\u001b[0m\u001b[0;34m=\u001b[0m\u001b[0;34m[\u001b[0m\u001b[0;34m''\u001b[0m\u001b[0;34m,\u001b[0m\u001b[0;34m''\u001b[0m\u001b[0;34m,\u001b[0m\u001b[0;34m''\u001b[0m\u001b[0;34m,\u001b[0m\u001b[0;34m''\u001b[0m\u001b[0;34m,\u001b[0m\u001b[0;34m''\u001b[0m\u001b[0;34m]\u001b[0m\u001b[0;34m)\u001b[0m\u001b[0;34m\u001b[0m\u001b[0;34m\u001b[0m\u001b[0m\n\u001b[0m\u001b[1;32m      6\u001b[0m \u001b[0mdf_avg\u001b[0m\u001b[0;34m.\u001b[0m\u001b[0minsert\u001b[0m\u001b[0;34m(\u001b[0m\u001b[0;36m0\u001b[0m\u001b[0;34m,\u001b[0m\u001b[0;34m'comp. PCA'\u001b[0m\u001b[0;34m,\u001b[0m\u001b[0mlist_n_components\u001b[0m\u001b[0;34m)\u001b[0m\u001b[0;34m\u001b[0m\u001b[0;34m\u001b[0m\u001b[0m\n\u001b[1;32m      7\u001b[0m \u001b[0mdf_avg\u001b[0m\u001b[0;34m.\u001b[0m\u001b[0mstyle\u001b[0m\u001b[0;34m.\u001b[0m\u001b[0mformat\u001b[0m\u001b[0;34m(\u001b[0m\u001b[0mprecision\u001b[0m\u001b[0;34m=\u001b[0m\u001b[0;36m2\u001b[0m\u001b[0;34m)\u001b[0m\u001b[0;34m\u001b[0m\u001b[0;34m\u001b[0m\u001b[0m\n",
            "\u001b[0;32m/usr/local/lib/python3.10/dist-packages/pandas/core/frame.py\u001b[0m in \u001b[0;36m__init__\u001b[0;34m(self, data, index, columns, dtype, copy)\u001b[0m\n\u001b[1;32m    662\u001b[0m         \u001b[0;32melif\u001b[0m \u001b[0misinstance\u001b[0m\u001b[0;34m(\u001b[0m\u001b[0mdata\u001b[0m\u001b[0;34m,\u001b[0m \u001b[0mdict\u001b[0m\u001b[0;34m)\u001b[0m\u001b[0;34m:\u001b[0m\u001b[0;34m\u001b[0m\u001b[0;34m\u001b[0m\u001b[0m\n\u001b[1;32m    663\u001b[0m             \u001b[0;31m# GH#38939 de facto copy defaults to False only in non-dict cases\u001b[0m\u001b[0;34m\u001b[0m\u001b[0;34m\u001b[0m\u001b[0m\n\u001b[0;32m--> 664\u001b[0;31m             \u001b[0mmgr\u001b[0m \u001b[0;34m=\u001b[0m \u001b[0mdict_to_mgr\u001b[0m\u001b[0;34m(\u001b[0m\u001b[0mdata\u001b[0m\u001b[0;34m,\u001b[0m \u001b[0mindex\u001b[0m\u001b[0;34m,\u001b[0m \u001b[0mcolumns\u001b[0m\u001b[0;34m,\u001b[0m \u001b[0mdtype\u001b[0m\u001b[0;34m=\u001b[0m\u001b[0mdtype\u001b[0m\u001b[0;34m,\u001b[0m \u001b[0mcopy\u001b[0m\u001b[0;34m=\u001b[0m\u001b[0mcopy\u001b[0m\u001b[0;34m,\u001b[0m \u001b[0mtyp\u001b[0m\u001b[0;34m=\u001b[0m\u001b[0mmanager\u001b[0m\u001b[0;34m)\u001b[0m\u001b[0;34m\u001b[0m\u001b[0;34m\u001b[0m\u001b[0m\n\u001b[0m\u001b[1;32m    665\u001b[0m         \u001b[0;32melif\u001b[0m \u001b[0misinstance\u001b[0m\u001b[0;34m(\u001b[0m\u001b[0mdata\u001b[0m\u001b[0;34m,\u001b[0m \u001b[0mma\u001b[0m\u001b[0;34m.\u001b[0m\u001b[0mMaskedArray\u001b[0m\u001b[0;34m)\u001b[0m\u001b[0;34m:\u001b[0m\u001b[0;34m\u001b[0m\u001b[0;34m\u001b[0m\u001b[0m\n\u001b[1;32m    666\u001b[0m             \u001b[0;32mimport\u001b[0m \u001b[0mnumpy\u001b[0m\u001b[0;34m.\u001b[0m\u001b[0mma\u001b[0m\u001b[0;34m.\u001b[0m\u001b[0mmrecords\u001b[0m \u001b[0;32mas\u001b[0m \u001b[0mmrecords\u001b[0m\u001b[0;34m\u001b[0m\u001b[0;34m\u001b[0m\u001b[0m\n",
            "\u001b[0;32m/usr/local/lib/python3.10/dist-packages/pandas/core/internals/construction.py\u001b[0m in \u001b[0;36mdict_to_mgr\u001b[0;34m(data, index, columns, dtype, typ, copy)\u001b[0m\n\u001b[1;32m    491\u001b[0m             \u001b[0marrays\u001b[0m \u001b[0;34m=\u001b[0m \u001b[0;34m[\u001b[0m\u001b[0mx\u001b[0m\u001b[0;34m.\u001b[0m\u001b[0mcopy\u001b[0m\u001b[0;34m(\u001b[0m\u001b[0;34m)\u001b[0m \u001b[0;32mif\u001b[0m \u001b[0mhasattr\u001b[0m\u001b[0;34m(\u001b[0m\u001b[0mx\u001b[0m\u001b[0;34m,\u001b[0m \u001b[0;34m\"dtype\"\u001b[0m\u001b[0;34m)\u001b[0m \u001b[0;32melse\u001b[0m \u001b[0mx\u001b[0m \u001b[0;32mfor\u001b[0m \u001b[0mx\u001b[0m \u001b[0;32min\u001b[0m \u001b[0marrays\u001b[0m\u001b[0;34m]\u001b[0m\u001b[0;34m\u001b[0m\u001b[0;34m\u001b[0m\u001b[0m\n\u001b[1;32m    492\u001b[0m \u001b[0;34m\u001b[0m\u001b[0m\n\u001b[0;32m--> 493\u001b[0;31m     \u001b[0;32mreturn\u001b[0m \u001b[0marrays_to_mgr\u001b[0m\u001b[0;34m(\u001b[0m\u001b[0marrays\u001b[0m\u001b[0;34m,\u001b[0m \u001b[0mcolumns\u001b[0m\u001b[0;34m,\u001b[0m \u001b[0mindex\u001b[0m\u001b[0;34m,\u001b[0m \u001b[0mdtype\u001b[0m\u001b[0;34m=\u001b[0m\u001b[0mdtype\u001b[0m\u001b[0;34m,\u001b[0m \u001b[0mtyp\u001b[0m\u001b[0;34m=\u001b[0m\u001b[0mtyp\u001b[0m\u001b[0;34m,\u001b[0m \u001b[0mconsolidate\u001b[0m\u001b[0;34m=\u001b[0m\u001b[0mcopy\u001b[0m\u001b[0;34m)\u001b[0m\u001b[0;34m\u001b[0m\u001b[0;34m\u001b[0m\u001b[0m\n\u001b[0m\u001b[1;32m    494\u001b[0m \u001b[0;34m\u001b[0m\u001b[0m\n\u001b[1;32m    495\u001b[0m \u001b[0;34m\u001b[0m\u001b[0m\n",
            "\u001b[0;32m/usr/local/lib/python3.10/dist-packages/pandas/core/internals/construction.py\u001b[0m in \u001b[0;36marrays_to_mgr\u001b[0;34m(arrays, columns, index, dtype, verify_integrity, typ, consolidate)\u001b[0m\n\u001b[1;32m    121\u001b[0m \u001b[0;34m\u001b[0m\u001b[0m\n\u001b[1;32m    122\u001b[0m         \u001b[0;31m# don't force copy because getting jammed in an ndarray anyway\u001b[0m\u001b[0;34m\u001b[0m\u001b[0;34m\u001b[0m\u001b[0m\n\u001b[0;32m--> 123\u001b[0;31m         \u001b[0marrays\u001b[0m \u001b[0;34m=\u001b[0m \u001b[0m_homogenize\u001b[0m\u001b[0;34m(\u001b[0m\u001b[0marrays\u001b[0m\u001b[0;34m,\u001b[0m \u001b[0mindex\u001b[0m\u001b[0;34m,\u001b[0m \u001b[0mdtype\u001b[0m\u001b[0;34m)\u001b[0m\u001b[0;34m\u001b[0m\u001b[0;34m\u001b[0m\u001b[0m\n\u001b[0m\u001b[1;32m    124\u001b[0m         \u001b[0;31m# _homogenize ensures\u001b[0m\u001b[0;34m\u001b[0m\u001b[0;34m\u001b[0m\u001b[0m\n\u001b[1;32m    125\u001b[0m         \u001b[0;31m#  - all(len(x) == len(index) for x in arrays)\u001b[0m\u001b[0;34m\u001b[0m\u001b[0;34m\u001b[0m\u001b[0m\n",
            "\u001b[0;32m/usr/local/lib/python3.10/dist-packages/pandas/core/internals/construction.py\u001b[0m in \u001b[0;36m_homogenize\u001b[0;34m(data, index, dtype)\u001b[0m\n\u001b[1;32m    618\u001b[0m                 \u001b[0mval\u001b[0m\u001b[0;34m,\u001b[0m \u001b[0mindex\u001b[0m\u001b[0;34m,\u001b[0m \u001b[0mdtype\u001b[0m\u001b[0;34m=\u001b[0m\u001b[0mdtype\u001b[0m\u001b[0;34m,\u001b[0m \u001b[0mcopy\u001b[0m\u001b[0;34m=\u001b[0m\u001b[0;32mFalse\u001b[0m\u001b[0;34m,\u001b[0m \u001b[0mraise_cast_failure\u001b[0m\u001b[0;34m=\u001b[0m\u001b[0;32mFalse\u001b[0m\u001b[0;34m\u001b[0m\u001b[0;34m\u001b[0m\u001b[0m\n\u001b[1;32m    619\u001b[0m             )\n\u001b[0;32m--> 620\u001b[0;31m             \u001b[0mcom\u001b[0m\u001b[0;34m.\u001b[0m\u001b[0mrequire_length_match\u001b[0m\u001b[0;34m(\u001b[0m\u001b[0mval\u001b[0m\u001b[0;34m,\u001b[0m \u001b[0mindex\u001b[0m\u001b[0;34m)\u001b[0m\u001b[0;34m\u001b[0m\u001b[0;34m\u001b[0m\u001b[0m\n\u001b[0m\u001b[1;32m    621\u001b[0m \u001b[0;34m\u001b[0m\u001b[0m\n\u001b[1;32m    622\u001b[0m         \u001b[0mhomogenized\u001b[0m\u001b[0;34m.\u001b[0m\u001b[0mappend\u001b[0m\u001b[0;34m(\u001b[0m\u001b[0mval\u001b[0m\u001b[0;34m)\u001b[0m\u001b[0;34m\u001b[0m\u001b[0;34m\u001b[0m\u001b[0m\n",
            "\u001b[0;32m/usr/local/lib/python3.10/dist-packages/pandas/core/common.py\u001b[0m in \u001b[0;36mrequire_length_match\u001b[0;34m(data, index)\u001b[0m\n\u001b[1;32m    569\u001b[0m     \"\"\"\n\u001b[1;32m    570\u001b[0m     \u001b[0;32mif\u001b[0m \u001b[0mlen\u001b[0m\u001b[0;34m(\u001b[0m\u001b[0mdata\u001b[0m\u001b[0;34m)\u001b[0m \u001b[0;34m!=\u001b[0m \u001b[0mlen\u001b[0m\u001b[0;34m(\u001b[0m\u001b[0mindex\u001b[0m\u001b[0;34m)\u001b[0m\u001b[0;34m:\u001b[0m\u001b[0;34m\u001b[0m\u001b[0;34m\u001b[0m\u001b[0m\n\u001b[0;32m--> 571\u001b[0;31m         raise ValueError(\n\u001b[0m\u001b[1;32m    572\u001b[0m             \u001b[0;34m\"Length of values \"\u001b[0m\u001b[0;34m\u001b[0m\u001b[0;34m\u001b[0m\u001b[0m\n\u001b[1;32m    573\u001b[0m             \u001b[0;34mf\"({len(data)}) \"\u001b[0m\u001b[0;34m\u001b[0m\u001b[0;34m\u001b[0m\u001b[0m\n",
            "\u001b[0;31mValueError\u001b[0m: Length of values (3) does not match length of index (5)"
          ]
        }
      ],
      "source": [
        "avg_prec_T=avg_precision\n",
        "table={}\n",
        "for i in range(avg_prec_T.shape[0]):\n",
        "  table['P@'+str(list_top_elements[i])]=avg_prec_T[i]\n",
        "df_avg=pd.DataFrame(table,index=['','','','',''])\n",
        "df_avg.insert(0,'comp. PCA',list_n_components)\n",
        "df_avg.style.format(precision=2)"
      ]
    },
    {
      "cell_type": "code",
      "execution_count": null,
      "metadata": {
        "colab": {
          "base_uri": "https://localhost:8080/",
          "height": 449
        },
        "id": "CsL4SkgK6Ssk",
        "outputId": "ab93a73b-b872-4620-df23-19dffcf0edb9"
      },
      "outputs": [
        {
          "data": {
            "image/png": "[encoded data removed]",
            "text/plain": [
              "<Figure size 640x480 with 1 Axes>"
            ]
          },
          "metadata": {},
          "output_type": "display_data"
        }
      ],
      "source": [
        "x_axis=[]\n",
        "y_axis=[]\n",
        "for i in range(avg_precision.shape[0]):\n",
        "  x_axis.append(list_n_components[i])\n",
        "  y_axis.append(avg_precision[i][:])\n",
        "plt.plot(x_axis, y_axis)\n",
        "plt.xlabel('Nr. components retrived ')\n",
        "plt.ylabel('Precision')\n",
        "# plt.title('Title of the Plot')\n",
        "plt.show()"
      ]
    },
    {
      "cell_type": "code",
      "execution_count": 20,
      "metadata": {
        "colab": {
          "base_uri": "https://localhost:8080/",
          "height": 332
        },
        "id": "QjLlZUXHREIQ",
        "outputId": "bc2448f8-e3a8-47e2-efb4-5c01564193fa"
      },
      "outputs": [
        {
          "output_type": "execute_result",
          "data": {
            "text/plain": [
              "<pandas.io.formats.style.Styler at 0x7eb184834ee0>"
            ],
            "text/html": [
              "<style type=\"text/css\">\n",
              "#T_604c9_row0_col1, #T_604c9_row1_col1, #T_604c9_row2_col2, #T_604c9_row3_col1, #T_604c9_row4_col1, #T_604c9_row5_col1, #T_604c9_row6_col1, #T_604c9_row8_col1 {\n",
              "  background-color: green;\n",
              "}\n",
              "#T_604c9_row0_col2, #T_604c9_row1_col2, #T_604c9_row2_col0, #T_604c9_row3_col2, #T_604c9_row4_col0, #T_604c9_row5_col2, #T_604c9_row6_col2, #T_604c9_row8_col2 {\n",
              "  background-color: red;\n",
              "}\n",
              "#T_604c9_row7_col0, #T_604c9_row7_col1, #T_604c9_row7_col2 {\n",
              "  background-color: green;\n",
              "  background-color: red;\n",
              "}\n",
              "</style>\n",
              "<table id=\"T_604c9\" class=\"dataframe\">\n",
              "  <thead>\n",
              "    <tr>\n",
              "      <th class=\"blank level0\" >&nbsp;</th>\n",
              "      <th id=\"T_604c9_level0_col0\" class=\"col_heading level0 col0\" >P(IP)@10_-1/20</th>\n",
              "      <th id=\"T_604c9_level0_col1\" class=\"col_heading level0 col1\" >P(IP)@10_-2/20</th>\n",
              "      <th id=\"T_604c9_level0_col2\" class=\"col_heading level0 col2\" >P(IP)@10_-3/20</th>\n",
              "    </tr>\n",
              "  </thead>\n",
              "  <tbody>\n",
              "    <tr>\n",
              "      <th id=\"T_604c9_level0_row0\" class=\"row_heading level0 row0\" >0</th>\n",
              "      <td id=\"T_604c9_row0_col0\" class=\"data row0 col0\" >0.950610</td>\n",
              "      <td id=\"T_604c9_row0_col1\" class=\"data row0 col1\" >0.984848</td>\n",
              "      <td id=\"T_604c9_row0_col2\" class=\"data row0 col2\" >0.893939</td>\n",
              "    </tr>\n",
              "    <tr>\n",
              "      <th id=\"T_604c9_level0_row1\" class=\"row_heading level0 row1\" >1</th>\n",
              "      <td id=\"T_604c9_row1_col0\" class=\"data row1 col0\" >0.666659</td>\n",
              "      <td id=\"T_604c9_row1_col1\" class=\"data row1 col1\" >0.675496</td>\n",
              "      <td id=\"T_604c9_row1_col2\" class=\"data row1 col2\" >0.589786</td>\n",
              "    </tr>\n",
              "    <tr>\n",
              "      <th id=\"T_604c9_level0_row2\" class=\"row_heading level0 row2\" >2</th>\n",
              "      <td id=\"T_604c9_row2_col0\" class=\"data row2 col0\" >0.844577</td>\n",
              "      <td id=\"T_604c9_row2_col1\" class=\"data row2 col1\" >0.954157</td>\n",
              "      <td id=\"T_604c9_row2_col2\" class=\"data row2 col2\" >0.961279</td>\n",
              "    </tr>\n",
              "    <tr>\n",
              "      <th id=\"T_604c9_level0_row3\" class=\"row_heading level0 row3\" >3</th>\n",
              "      <td id=\"T_604c9_row3_col0\" class=\"data row3 col0\" >0.764639</td>\n",
              "      <td id=\"T_604c9_row3_col1\" class=\"data row3 col1\" >0.823832</td>\n",
              "      <td id=\"T_604c9_row3_col2\" class=\"data row3 col2\" >0.745206</td>\n",
              "    </tr>\n",
              "    <tr>\n",
              "      <th id=\"T_604c9_level0_row4\" class=\"row_heading level0 row4\" >4</th>\n",
              "      <td id=\"T_604c9_row4_col0\" class=\"data row4 col0\" >0.863526</td>\n",
              "      <td id=\"T_604c9_row4_col1\" class=\"data row4 col1\" >0.889981</td>\n",
              "      <td id=\"T_604c9_row4_col2\" class=\"data row4 col2\" >0.872906</td>\n",
              "    </tr>\n",
              "    <tr>\n",
              "      <th id=\"T_604c9_level0_row5\" class=\"row_heading level0 row5\" >5</th>\n",
              "      <td id=\"T_604c9_row5_col0\" class=\"data row5 col0\" >0.871660</td>\n",
              "      <td id=\"T_604c9_row5_col1\" class=\"data row5 col1\" >0.894545</td>\n",
              "      <td id=\"T_604c9_row5_col2\" class=\"data row5 col2\" >0.863812</td>\n",
              "    </tr>\n",
              "    <tr>\n",
              "      <th id=\"T_604c9_level0_row6\" class=\"row_heading level0 row6\" >6</th>\n",
              "      <td id=\"T_604c9_row6_col0\" class=\"data row6 col0\" >0.941877</td>\n",
              "      <td id=\"T_604c9_row6_col1\" class=\"data row6 col1\" >0.943813</td>\n",
              "      <td id=\"T_604c9_row6_col2\" class=\"data row6 col2\" >0.884492</td>\n",
              "    </tr>\n",
              "    <tr>\n",
              "      <th id=\"T_604c9_level0_row7\" class=\"row_heading level0 row7\" >7</th>\n",
              "      <td id=\"T_604c9_row7_col0\" class=\"data row7 col0\" >1.000000</td>\n",
              "      <td id=\"T_604c9_row7_col1\" class=\"data row7 col1\" >1.000000</td>\n",
              "      <td id=\"T_604c9_row7_col2\" class=\"data row7 col2\" >1.000000</td>\n",
              "    </tr>\n",
              "    <tr>\n",
              "      <th id=\"T_604c9_level0_row8\" class=\"row_heading level0 row8\" >8</th>\n",
              "      <td id=\"T_604c9_row8_col0\" class=\"data row8 col0\" >0.792748</td>\n",
              "      <td id=\"T_604c9_row8_col1\" class=\"data row8 col1\" >0.795466</td>\n",
              "      <td id=\"T_604c9_row8_col2\" class=\"data row8 col2\" >0.743729</td>\n",
              "    </tr>\n",
              "  </tbody>\n",
              "</table>\n"
            ]
          },
          "metadata": {},
          "execution_count": 20
        }
      ],
      "source": [
        "merged_df=df_list[0]\n",
        "for i in range(1,len(df_list)):\n",
        "  merged_df=pd.merge(merged_df,df_list[i])\n",
        "merged_df.drop(columns=['Faces']).style.highlight_max(color = 'green', axis = 1).highlight_min(color = 'red', axis = 1)"
      ]
    },
    {
      "cell_type": "code",
      "execution_count": null,
      "metadata": {
        "id": "1fzQoI7N92ft"
      },
      "outputs": [],
      "source": [
        "merged_df=df_list[0]\n",
        "for i in range(1,len(df_list)):\n",
        "  merged_df=pd.merge(merged_df,df_list[i])\n",
        "merged_df.drop(columns=['Faces']).style.highlight_max(color = 'green', axis = 1).highlight_min(color = 'red', axis = 1)"
      ]
    },
    {
      "cell_type": "markdown",
      "metadata": {
        "id": "Oe9gJGydwJmP"
      },
      "source": [
        "<h1>Retrieve All elements"
      ]
    },
    {
      "cell_type": "code",
      "execution_count": null,
      "metadata": {
        "id": "WN-GO2P6wR5r"
      },
      "outputs": [],
      "source": [
        "merged_df=df_list[0]\n",
        "for i in range(1,len(df_list)):\n",
        "  merged_df=pd.merge(merged_df,df_list[i])\n",
        "merged_df.drop(columns=['Faces']).style.highlight_max(color = 'green', axis = 1).highlight_min(color = 'red', axis = 1)"
      ]
    },
    {
      "cell_type": "markdown",
      "metadata": {
        "id": "AF4xCRTzvZTh"
      },
      "source": [
        "<h1>FisherFace"
      ]
    },
    {
      "cell_type": "markdown",
      "metadata": {
        "id": "4ayLXJTrG543"
      },
      "source": [
        "Comparare con PCA prendedo top 1 o con clustering e vedendo se stesso personaggio"
      ]
    },
    {
      "cell_type": "code",
      "source": [
        "x.shape"
      ],
      "metadata": {
        "colab": {
          "base_uri": "https://localhost:8080/"
        },
        "id": "UxjjBeKONQ4A",
        "outputId": "d3d8e297-cc87-4f95-a2b4-133572dffd71"
      },
      "execution_count": 19,
      "outputs": [
        {
          "output_type": "execute_result",
          "data": {
            "text/plain": [
              "(396, 396)"
            ]
          },
          "metadata": {},
          "execution_count": 19
        }
      ]
    },
    {
      "cell_type": "code",
      "execution_count": 46,
      "metadata": {
        "id": "NRgyHjqzI9A5"
      },
      "outputs": [],
      "source": [
        "pca=PCA(n_components=30)\n",
        "features_reducted=result_train_vgg.reshape(result_train_vgg.shape[0],-1)\n",
        "pca.fit(features_reducted)\n",
        "x=custom_reduction(pca,result_train_vgg,0)\n",
        "y=custom_reduction(pca,result_test_vgg,0)\n",
        "ncentroids = 8\n",
        "niter = 30\n",
        "verbose = True\n",
        "d = x.shape[1]\n",
        "kmeans = faiss.Kmeans(d, ncentroids, niter=niter, verbose=verbose)\n",
        "kmeans.train(x)\n",
        "D, I = kmeans.index.search(x, 1)"
      ]
    },
    {
      "cell_type": "code",
      "source": [
        "result_train_vgg.shape"
      ],
      "metadata": {
        "colab": {
          "base_uri": "https://localhost:8080/"
        },
        "id": "Jw8hijpPQwhm",
        "outputId": "448646b5-9647-45b4-9ed2-c5d5e697d7bc"
      },
      "execution_count": 55,
      "outputs": [
        {
          "output_type": "execute_result",
          "data": {
            "text/plain": [
              "(396, 7, 7, 512)"
            ]
          },
          "metadata": {},
          "execution_count": 55
        }
      ]
    },
    {
      "cell_type": "code",
      "source": [
        "from sklearn.model_selection import train_test_split\n",
        "from sklearn.decomposition import PCA\n",
        "from sklearn.cluster import KMeans\n",
        "from sklearn.metrics import accuracy_score\n",
        "\n",
        "# Apply PCA\n",
        "pca = PCA(n_components=20)  # Assuming 64 is the desired number of principal components\n",
        "X_train_pca = pca.fit_transform(result_train_vgg.reshape(result_train_vgg.shape[0],-1))\n",
        "X_test_pca = pca.transform(result_test_vgg.reshape(result_test_vgg.shape[0],-1))\n",
        "\n",
        "# Apply KMeans\n",
        "k = len(np.unique(y_train))  # Assuming the number of clusters is equal to the number of unique classes\n",
        "kmeans = KMeans(n_clusters=k, random_state=2)\n",
        "kmeans.fit(X_train_pca)\n",
        "\n",
        "# Assign cluster labels to training data\n",
        "y_train_pred = kmeans.labels_\n",
        "\n",
        "# Assign cluster labels to testing data\n",
        "y_test_pred = kmeans.predict(X_test_pca)\n",
        "\n",
        "# Measure accuracy\n",
        "train_accuracy = accuracy_score(y_train, y_train_pred)\n",
        "test_accuracy = accuracy_score(y_test, y_test_pred)\n",
        "\n",
        "print(\"Training Accuracy:\", train_accuracy)\n",
        "print(\"Testing Accuracy:\", test_accuracy)\n"
      ],
      "metadata": {
        "colab": {
          "base_uri": "https://localhost:8080/"
        },
        "id": "rxJNwRyXQbB-",
        "outputId": "5bba9bb0-f21c-4eae-a4e0-95d3153f0f6a"
      },
      "execution_count": 70,
      "outputs": [
        {
          "output_type": "stream",
          "name": "stderr",
          "text": [
            "/usr/local/lib/python3.10/dist-packages/sklearn/cluster/_kmeans.py:870: FutureWarning: The default value of `n_init` will change from 10 to 'auto' in 1.4. Set the value of `n_init` explicitly to suppress the warning\n",
            "  warnings.warn(\n"
          ]
        },
        {
          "output_type": "stream",
          "name": "stdout",
          "text": [
            "Training Accuracy: 0.16414141414141414\n",
            "Testing Accuracy: 0.1717171717171717\n"
          ]
        }
      ]
    },
    {
      "cell_type": "code",
      "source": [
        "y_test"
      ],
      "metadata": {
        "colab": {
          "base_uri": "https://localhost:8080/"
        },
        "id": "tuWx40AVR6ei",
        "outputId": "712ff380-b02b-4493-91ba-773ef6a67dd7"
      },
      "execution_count": 72,
      "outputs": [
        {
          "output_type": "execute_result",
          "data": {
            "text/plain": [
              "array([6, 4, 6, 2, 5, 7, 8, 7, 7, 7, 7, 6, 3, 1, 6, 6, 2, 2, 2, 3, 4, 2,\n",
              "       1, 3, 1, 8, 0, 6, 4, 0, 1, 8, 1, 3, 3, 3, 3, 5, 3, 8, 3, 0, 5, 4,\n",
              "       1, 6, 8, 6, 7, 7, 5, 2, 3, 3, 2, 7, 0, 1, 8, 6, 8, 4, 5, 4, 8, 2,\n",
              "       3, 1, 0, 5, 0, 4, 8, 6, 7, 1, 0, 5, 2, 5, 4, 0, 3, 6, 8, 0, 5, 0,\n",
              "       0, 8, 1, 5, 6, 5, 8, 7, 4, 8, 5])"
            ]
          },
          "metadata": {},
          "execution_count": 72
        }
      ]
    },
    {
      "cell_type": "code",
      "source": [
        "y_test_pred"
      ],
      "metadata": {
        "colab": {
          "base_uri": "https://localhost:8080/"
        },
        "id": "TIFizbCeRmQe",
        "outputId": "cf1c5f5d-4f0d-42fb-e872-7bda8b207689"
      },
      "execution_count": 73,
      "outputs": [
        {
          "output_type": "execute_result",
          "data": {
            "text/plain": [
              "array([6, 2, 6, 4, 8, 0, 2, 0, 0, 0, 0, 6, 3, 2, 6, 6, 4, 4, 4, 3, 1, 4,\n",
              "       5, 3, 5, 2, 7, 6, 1, 7, 0, 2, 5, 3, 1, 3, 3, 8, 1, 2, 3, 7, 2, 2,\n",
              "       5, 1, 2, 1, 0, 0, 8, 4, 2, 2, 4, 0, 7, 5, 1, 2, 2, 2, 8, 1, 2, 4,\n",
              "       3, 2, 7, 8, 7, 2, 1, 6, 0, 2, 7, 8, 4, 8, 1, 7, 3, 6, 2, 7, 8, 7,\n",
              "       7, 2, 5, 8, 1, 8, 2, 0, 1, 2, 8], dtype=int32)"
            ]
          },
          "metadata": {},
          "execution_count": 73
        }
      ]
    },
    {
      "cell_type": "code",
      "execution_count": 49,
      "metadata": {
        "colab": {
          "base_uri": "https://localhost:8080/"
        },
        "id": "jww-7Tt_oPKq",
        "outputId": "6c799126-17d2-4350-f14d-f8b8ccc1eaeb"
      },
      "outputs": [
        {
          "output_type": "stream",
          "name": "stdout",
          "text": [
            "PCA components 0\n",
            "Accuracy: 93.93939393939394%\n",
            "\n",
            "PCA components 20\n",
            "Accuracy: 94.94949494949495%\n",
            "\n",
            "PCA components 100\n",
            "Accuracy: 93.93939393939394%\n",
            "\n"
          ]
        }
      ],
      "source": [
        "count=0\n",
        "for pca in pca_objs:\n",
        "  print('PCA components',list_n_components[count])\n",
        "  eigenface_recognizer = cv2.face.EigenFaceRecognizer_create()\n",
        "  train=pca.fit_transform(result_train_vgg.reshape(result_train_vgg.shape[0],-1))\n",
        "  eigenface_recognizer.train(train, np.array(y_train))\n",
        "  correct = 0\n",
        "  test=pca.transform(result_test_vgg.reshape(result_test_vgg.shape[0],-1))\n",
        "  total = len(test)\n",
        "  for i in range(total):\n",
        "      label, confidence = eigenface_recognizer.predict(test[i])\n",
        "      if label == y_test[i]:\n",
        "          correct += 1\n",
        "  accuracy = correct / total * 100\n",
        "  print(f\"Accuracy: {accuracy}%\")\n",
        "  print()\n",
        "  count+=1"
      ]
    }
  ],
  "metadata": {
    "colab": {
      "provenance": [],
      "authorship_tag": "ABX9TyPw3zQp7V/2GogI/BLFUAsA",
      "include_colab_link": true
    },
    "kernelspec": {
      "display_name": "Python 3",
      "name": "python3"
    },
    "language_info": {
      "name": "python"
    }
  },
  "nbformat": 4,
  "nbformat_minor": 0
}