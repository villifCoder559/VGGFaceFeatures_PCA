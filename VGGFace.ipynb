{
  "nbformat": 4,
  "nbformat_minor": 0,
  "metadata": {
    "colab": {
      "provenance": [],
      "gpuType": "T4",
      "authorship_tag": "ABX9TyOlZE/MXPVQcisAjIjqJMfM",
      "include_colab_link": true
    },
    "kernelspec": {
      "name": "python3",
      "display_name": "Python 3"
    },
    "language_info": {
      "name": "python"
    },
    "accelerator": "GPU"
  },
  "cells": [
    {
      "cell_type": "markdown",
      "metadata": {
        "id": "view-in-github",
        "colab_type": "text"
      },
      "source": [
        "<a href=\"https://colab.research.google.com/github/villifCoder559/VGGFaceFeatures_PCA/blob/main/VGGFace.ipynb\" target=\"_parent\"><img src=\"https://colab.research.google.com/assets/colab-badge.svg\" alt=\"Open In Colab\"/></a>"
      ]
    },
    {
      "cell_type": "code",
      "source": [
        "!pip install faiss-cpu --no-cache"
      ],
      "metadata": {
        "id": "yjaRyJjosHEd"
      },
      "execution_count": null,
      "outputs": []
    },
    {
      "cell_type": "code",
      "source": [
        "!pip install git+https://github.com/rcmalli/keras-vggface.git\n",
        "!pip install tensorflow keras_applications\n",
        "!pip install layer_utils"
      ],
      "metadata": {
        "id": "WvE2z802PlYv"
      },
      "execution_count": null,
      "outputs": []
    },
    {
      "cell_type": "code",
      "source": [
        "!pip install keras==2.12"
      ],
      "metadata": {
        "id": "B4_W4a6SCKMr"
      },
      "execution_count": null,
      "outputs": []
    },
    {
      "cell_type": "code",
      "source": [
        "import numpy as np\n",
        "import pandas as pd\n",
        "import cv2\n",
        "import keras\n",
        "from keras_vggface.vggface import VGGFace\n",
        "from sklearn.datasets import fetch_lfw_people\n",
        "from skimage.transform import resize\n",
        "import faiss\n",
        "from sklearn.decomposition import PCA\n",
        "import matplotlib.pyplot as plt\n",
        "from sklearn import metrics\n",
        "import pandas as pd"
      ],
      "metadata": {
        "id": "yPyZ0drGU3D5"
      },
      "execution_count": 4,
      "outputs": []
    },
    {
      "cell_type": "code",
      "source": [
        "from sklearn.model_selection import train_test_split\n",
        "faces = fetch_lfw_people(min_faces_per_person=70,resize=2.3,color=True)\n",
        "X_train, X_test, y_train, y_test = train_test_split(faces.images, faces.target, test_size=0.1, random_state=2)"
      ],
      "metadata": {
        "id": "Zcxhg9ceNqr_"
      },
      "execution_count": 5,
      "outputs": []
    },
    {
      "cell_type": "code",
      "source": [
        "image_samples_train=np.copy(X_train)\n",
        "image_samples_train=np.array([cv2.resize(img,(224,224)) for img in image_samples_train])\n",
        "image_samples_train[:,:,:,0]=(image_samples_train[:,:,:,0]-np.mean(X_train[:,:,:,0]))/(np.std(X_train[:,:,:,0]))\n",
        "image_samples_train[:,:,:,1]=(image_samples_train[:,:,:,1]-np.mean(X_train[:,:,:,1]))/(np.std(X_train[:,:,:,1]))\n",
        "image_samples_train[:,:,:,2]=(image_samples_train[:,:,:,2]-np.mean(X_train[:,:,:,2]))/(np.std(X_train[:,:,:,2]))"
      ],
      "metadata": {
        "id": "LmuLa6h2k5zX"
      },
      "execution_count": 6,
      "outputs": []
    },
    {
      "cell_type": "code",
      "source": [
        "image_samples_test=np.copy(X_test)\n",
        "image_samples_test=np.array([cv2.resize(img,(224,224)) for img in image_samples_test])\n",
        "image_samples_test[:,:,:,0]=(image_samples_test[:,:,:,0]-np.mean(X_train[:,:,:,0]))/(np.std(X_train[:,:,:,0]))\n",
        "image_samples_test[:,:,:,1]=(image_samples_test[:,:,:,1]-np.mean(X_train[:,:,:,1]))/(np.std(X_train[:,:,:,1]))\n",
        "image_samples_test[:,:,:,2]=(image_samples_test[:,:,:,2]-np.mean(X_train[:,:,:,2]))/(np.std(X_train[:,:,:,2]))"
      ],
      "metadata": {
        "id": "cNCdu7MLaYa7"
      },
      "execution_count": 7,
      "outputs": []
    },
    {
      "cell_type": "markdown",
      "source": [
        "Possible comparisons pre-processing image after scaling 224x224:\n",
        "*   Centering and Standardization\n",
        "*   PCA (no,500,100,20)\n",
        "*   FlatL2 or FlatIP (faiss)\n",
        "*   Precision top 5,20,50,all"
      ],
      "metadata": {
        "id": "glcX5CjKiDI2"
      }
    },
    {
      "cell_type": "code",
      "execution_count": null,
      "metadata": {
        "id": "B3fbqgKdBMbk"
      },
      "outputs": [],
      "source": [
        "vggface = VGGFace(model='vgg16',include_top=False,input_shape=(image_samples_train.shape[1],image_samples_train.shape[2],image_samples_train.shape[3]))\n",
        "# resized_images=[resize(img,output_shape=(224,224)) for img in faces.images]\n",
        "result_train=vggface.predict(image_samples_train)\n",
        "result_test=vggface.predict(image_samples_test)\n",
        "original_result_train=np.copy(result_train)\n",
        "original_result_test=np.copy(result_test)"
      ]
    },
    {
      "cell_type": "code",
      "source": [
        "from google.colab import drive\n",
        "drive.mount('/content/drive')\n",
        "drive_path = '/content/drive/MyDrive/'\n",
        "# np.save(os.path.join(drive_path, 'faces.npy'), faces)\n",
        "# np.save(os.path.join(drive_path, 'VGGFace_features_faces_norm_std_train.npy'), original_result_train)\n",
        "# np.save(os.path.join(drive_path, 'VGGFace_features_faces_norm_std_test.npy'), original_result_test)"
      ],
      "metadata": {
        "id": "pFvqiw-31-z5",
        "colab": {
          "base_uri": "https://localhost:8080/"
        },
        "outputId": "8a09686a-4691-4ebb-acc8-360c7972004d"
      },
      "execution_count": 9,
      "outputs": [
        {
          "output_type": "stream",
          "name": "stdout",
          "text": [
            "Drive already mounted at /content/drive; to attempt to forcibly remount, call drive.mount(\"/content/drive\", force_remount=True).\n"
          ]
        }
      ]
    },
    {
      "cell_type": "code",
      "source": [
        "import os\n",
        "drive_path = '/content/drive/MyDrive/'\n",
        "result_train=np.load(os.path.join(drive_path, 'VGGFace_features_faces_norm_std_train.npy'),allow_pickle=True)\n",
        "result_test=np.load(os.path.join(drive_path, 'VGGFace_features_faces_norm_std_test.npy'),allow_pickle=True)"
      ],
      "metadata": {
        "id": "ylhbR17i2uDM"
      },
      "execution_count": 10,
      "outputs": []
    },
    {
      "cell_type": "code",
      "source": [
        "def create_test_reduction(n_components,result_train):\n",
        "  features_reducted=result_train.reshape(result_train.shape[0],-1)\n",
        "  if n_components > 0:\n",
        "    tmp_PCA=PCA(n_components=n_components)\n",
        "    features_reducted=np.ascontiguousarray(tmp_PCA.fit_transform(features_reducted))\n",
        "  else:\n",
        "    tmp_PCA=PCA(n_components=100).fit(features_reducted)\n",
        "    features_reducted=custom_reduction(tmp_PCA,result_train,n_components)\n",
        "  faiss.normalize_L2(features_reducted)\n",
        "  return tmp_PCA,features_reducted,faiss.IndexFlatIP(features_reducted.shape[1])"
      ],
      "metadata": {
        "id": "v1RKwLuhXeDy"
      },
      "execution_count": 11,
      "outputs": []
    },
    {
      "cell_type": "code",
      "source": [
        "def custom_reduction(pca,result_train,start_index):\n",
        "  transformed_results = []\n",
        "  for element in result_train:\n",
        "    test = element.reshape(1, -1)\n",
        "    # Apply PCA transformation\n",
        "    transformed_result = np.dot(test - pca.mean_, pca.components_[(-start_index):].T)\n",
        "    transformed_results.append(transformed_result)\n",
        "  return np.array(transformed_results).reshape(result_train.shape[0],pca.components_.shape[0]+start_index)"
      ],
      "metadata": {
        "id": "7c8Y3ky9fZSf"
      },
      "execution_count": 12,
      "outputs": []
    },
    {
      "cell_type": "code",
      "source": [
        "pca_objs=[]\n",
        "list_n_components=[0,15,100,500,-2] #0 -> No PCA, -K -> Without first K eigenvectors, +K -> Use K components\n",
        "features_objs=[]\n",
        "index_faiss_objs=[]\n",
        "for n_components in list_n_components:\n",
        "  if n_components>0:\n",
        "    pca,features,index=create_test_reduction(n_components,result_train)\n",
        "    pca_objs.append(pca)\n",
        "    features_objs.append(features)\n",
        "    index_faiss_objs.append(index)\n",
        "  else:\n",
        "    if(n_components<0):\n",
        "      pca,features,index=create_test_reduction(n_components,result_train)\n",
        "      pca_objs.append(pca)\n",
        "      features_objs.append(features)\n",
        "      index_faiss_objs.append(index)\n",
        "    else: # dummy PCA\n",
        "      pca_objs.append(PCA())\n",
        "      features_objs.append(result_train.reshape(result_train.shape[0],-1))\n",
        "      index_faiss_objs.append(faiss.IndexFlatIP(result_train.reshape(result_train.shape[0],-1).shape[1]))\n",
        "#add vectors to index\n",
        "count=0\n",
        "for index in index_faiss_objs:\n",
        "  print(features_objs[count].shape)\n",
        "  index.add(features_objs[count])\n",
        "  count=count+1"
      ],
      "metadata": {
        "colab": {
          "base_uri": "https://localhost:8080/"
        },
        "id": "Wcs4ZeZcJX4G",
        "outputId": "be2a010f-182e-4350-f2b7-32a53ccfcff3"
      },
      "execution_count": 13,
      "outputs": [
        {
          "output_type": "stream",
          "name": "stdout",
          "text": [
            "(1159, 25088)\n",
            "(1159, 15)\n",
            "(1159, 100)\n",
            "(1159, 500)\n",
            "(1159, 98)\n"
          ]
        }
      ]
    },
    {
      "cell_type": "code",
      "source": [
        "def compute_precision_recall(ground_truth,retrived_indices_faiss,target,retrive_all=False):\n",
        "  retrived_targets_id=ground_truth[retrived_indices_faiss]\n",
        "  TP=np.count_nonzero(retrived_targets_id==target)\n",
        "  total_samples=np.sum(ground_truth==target)\n",
        "  FP=retrived_indices_faiss.shape[1]-TP\n",
        "  precision=0\n",
        "  if TP+FP!=0:\n",
        "    precision=TP/(TP+FP)\n",
        "  recall=TP/(TP+(total_samples-TP))\n",
        "  return precision,recall"
      ],
      "metadata": {
        "id": "L-ot1LAZsQgg"
      },
      "execution_count": 14,
      "outputs": []
    },
    {
      "cell_type": "code",
      "source": [
        "list_top_elements=[5]\n",
        "i=0\n",
        "j=0\n",
        "k=0\n",
        "precision_results=[]\n",
        "recall_results=[]\n",
        "name_results=[]\n",
        "list_precision_results=[]\n",
        "list_recall_results=[]\n",
        "test_vectors=result_test.reshape(result_test.shape[0],-1)\n",
        "# vector=result_test[count]\n",
        "for top_k in list_top_elements:\n",
        "  for index in index_faiss_objs:\n",
        "    for vector in test_vectors:\n",
        "      if list_n_components[i] > 0:\n",
        "        reduced_vector=(vector.reshape(1,-1)-pca_objs[i].mean_)@pca_objs[i].components_.T\n",
        "      else:\n",
        "        if list_n_components[i] < 0:\n",
        "          reduced_vector=(vector.reshape(1,-1)-pca_objs[i].mean_)@pca_objs[i].components_[-list_n_components[i]:].T\n",
        "        else:\n",
        "          reduced_vector=vector\n",
        "      _,retrived_elements=index.search((reduced_vector.reshape(1, -1)), top_k)\n",
        "      precision,recall=compute_precision_recall(y_train,retrived_elements,y_test[j])\n",
        "      name_results.append(y_test[j])\n",
        "      precision_results.append(precision)\n",
        "      recall_results.append(recall)\n",
        "      j=j+1\n",
        "    i=i+1\n",
        "    j=0\n",
        "recall_results=np.array(recall_results).reshape(len(list_top_elements),len(index_faiss_objs),test_vectors.shape[0])\n",
        "precision_results=np.array(precision_results).reshape(len(list_top_elements),len(index_faiss_objs),test_vectors.shape[0])\n",
        "name_results=np.array(name_results).reshape(len(list_top_elements),len(index_faiss_objs),test_vectors.shape[0])"
      ],
      "metadata": {
        "id": "WpBTT2YzqBTP"
      },
      "execution_count": 15,
      "outputs": []
    },
    {
      "cell_type": "code",
      "source": [
        "\n",
        "lts.shape[1]:\n",
        "    print('ERROR: index_faiss_n_components must be <',precision_results.shape[1])"
      ],
      "metadata": {
        "id": "TKbSPwACCBgo"
      },
      "execution_count": 16,
      "outputs": []
    },
    {
      "cell_type": "code",
      "source": [
        "# index_selected_top_k_retrival = 0 # precision_results.shape[0]\n",
        "# index_faiss_n_components = 4 # precision_results.shape[1]\n",
        "df_list=[]\n",
        "for i in range(precision_results.shape[0]):\n",
        "  for j in range(precision_results.shape[1]):\n",
        "    selected_name_result = name_results[i][j]\n",
        "    selected_recall_result = recall_results[i][j]\n",
        "    selected_precision_result = precision_results[i][j]\n",
        "    id_labels,normalization_factors = np.unique(y_test,return_counts=True)\n",
        "    df=create_DataFrame(id_labels,selected_name_result,selected_precision_result,normalization_factors,index_faiss_n_components,list_n_components,index_selected_top_k_retrival)\n",
        "    df_list.append(df)"
      ],
      "metadata": {
        "id": "wccn9Ttfn_LI"
      },
      "execution_count": 59,
      "outputs": []
    },
    {
      "cell_type": "code",
      "source": [
        "def create_DataFrame(id_labels,selected_name_result,selected_precision_result,normalization_factors,index_faiss_n_components,list_n_components,index_selected_top_k_retrival):\n",
        "  str_top_k=str(list_top_elements[index_selected_top_k_retrival])\n",
        "  df = pd.DataFrame({\n",
        "    \"Faces\":id_labels,\n",
        "    (\"Prec. @\"+str_top_k):np.bincount(selected_name_result,weights=selected_precision_result)/normalization_factors,\n",
        "    (\"Rec. @\"+str_top_k):np.bincount(selected_name_result,weights=selected_recall_result)/normalization_factors,\n",
        "  })\n",
        "  df=df.round(decimals=2)\n",
        "  if(list_n_components[index_faiss_n_components]>0):\n",
        "    return df.style.set_caption(\"nr comp.\",list_n_components[index_faiss_n_components])\n",
        "  elif list_n_components[index_faiss_n_components]==0:\n",
        "    return df.style.set_caption(\"nr comp.\",list_n_components[index_faiss_n_components])\n",
        "  else:\n",
        "    return df.style.set_caption(\"nr comp.\"+str(100+list_n_components[index_faiss_n_components]))"
      ],
      "metadata": {
        "id": "Jh9hY2qno4n4"
      },
      "execution_count": 58,
      "outputs": []
    },
    {
      "cell_type": "code",
      "source": [
        "df_list[0]"
      ],
      "metadata": {
        "colab": {
          "base_uri": "https://localhost:8080/",
          "height": 286
        },
        "id": "WN-GO2P6wR5r",
        "outputId": "4586d4d8-65b7-4f11-c9a2-42527596e52e"
      },
      "execution_count": 60,
      "outputs": [
        {
          "output_type": "execute_result",
          "data": {
            "text/plain": [
              "<pandas.io.formats.style.Styler at 0x78f9dbeb82e0>"
            ],
            "text/html": [
              "<style type=\"text/css\">\n",
              "</style>\n",
              "<table id=\"T_d67a4\" class=\"dataframe\">\n",
              "  <caption>nr comp.98</caption>\n",
              "  <thead>\n",
              "    <tr>\n",
              "      <th class=\"blank level0\" >&nbsp;</th>\n",
              "      <th id=\"T_d67a4_level0_col0\" class=\"col_heading level0 col0\" >Faces</th>\n",
              "      <th id=\"T_d67a4_level0_col1\" class=\"col_heading level0 col1\" >Prec. @5</th>\n",
              "      <th id=\"T_d67a4_level0_col2\" class=\"col_heading level0 col2\" >Rec. @5</th>\n",
              "    </tr>\n",
              "  </thead>\n",
              "  <tbody>\n",
              "    <tr>\n",
              "      <th id=\"T_d67a4_level0_row0\" class=\"row_heading level0 row0\" >0</th>\n",
              "      <td id=\"T_d67a4_row0_col0\" class=\"data row0 col0\" >0</td>\n",
              "      <td id=\"T_d67a4_row0_col1\" class=\"data row0 col1\" >0.890000</td>\n",
              "      <td id=\"T_d67a4_row0_col2\" class=\"data row0 col2\" >0.070000</td>\n",
              "    </tr>\n",
              "    <tr>\n",
              "      <th id=\"T_d67a4_level0_row1\" class=\"row_heading level0 row1\" >1</th>\n",
              "      <td id=\"T_d67a4_row1_col0\" class=\"data row1 col0\" >1</td>\n",
              "      <td id=\"T_d67a4_row1_col1\" class=\"data row1 col1\" >1.000000</td>\n",
              "      <td id=\"T_d67a4_row1_col2\" class=\"data row1 col2\" >0.030000</td>\n",
              "    </tr>\n",
              "    <tr>\n",
              "      <th id=\"T_d67a4_level0_row2\" class=\"row_heading level0 row2\" >2</th>\n",
              "      <td id=\"T_d67a4_row2_col0\" class=\"data row2 col0\" >2</td>\n",
              "      <td id=\"T_d67a4_row2_col1\" class=\"data row2 col1\" >0.840000</td>\n",
              "      <td id=\"T_d67a4_row2_col2\" class=\"data row2 col2\" >0.040000</td>\n",
              "    </tr>\n",
              "    <tr>\n",
              "      <th id=\"T_d67a4_level0_row3\" class=\"row_heading level0 row3\" >3</th>\n",
              "      <td id=\"T_d67a4_row3_col0\" class=\"data row3 col0\" >3</td>\n",
              "      <td id=\"T_d67a4_row3_col1\" class=\"data row3 col1\" >1.000000</td>\n",
              "      <td id=\"T_d67a4_row3_col2\" class=\"data row3 col2\" >0.010000</td>\n",
              "    </tr>\n",
              "    <tr>\n",
              "      <th id=\"T_d67a4_level0_row4\" class=\"row_heading level0 row4\" >4</th>\n",
              "      <td id=\"T_d67a4_row4_col0\" class=\"data row4 col0\" >4</td>\n",
              "      <td id=\"T_d67a4_row4_col1\" class=\"data row4 col1\" >0.640000</td>\n",
              "      <td id=\"T_d67a4_row4_col2\" class=\"data row4 col2\" >0.030000</td>\n",
              "    </tr>\n",
              "    <tr>\n",
              "      <th id=\"T_d67a4_level0_row5\" class=\"row_heading level0 row5\" >5</th>\n",
              "      <td id=\"T_d67a4_row5_col0\" class=\"data row5 col0\" >5</td>\n",
              "      <td id=\"T_d67a4_row5_col1\" class=\"data row5 col1\" >0.960000</td>\n",
              "      <td id=\"T_d67a4_row5_col2\" class=\"data row5 col2\" >0.080000</td>\n",
              "    </tr>\n",
              "    <tr>\n",
              "      <th id=\"T_d67a4_level0_row6\" class=\"row_heading level0 row6\" >6</th>\n",
              "      <td id=\"T_d67a4_row6_col0\" class=\"data row6 col0\" >6</td>\n",
              "      <td id=\"T_d67a4_row6_col1\" class=\"data row6 col1\" >0.850000</td>\n",
              "      <td id=\"T_d67a4_row6_col2\" class=\"data row6 col2\" >0.030000</td>\n",
              "    </tr>\n",
              "  </tbody>\n",
              "</table>\n"
            ]
          },
          "metadata": {},
          "execution_count": 60
        }
      ]
    },
    {
      "cell_type": "code",
      "source": [
        "df = pd.DataFrame({\n",
        "    \"Faces\":id_labels,\n",
        "    \"Prec.\":np.bincount(selected_name_result,weights=selected_precision_result)/normalization_factors,\n",
        "    \"Rec.\":np.bincount(selected_name_result,weights=selected_recall_result)/normalization_factors,\n",
        "})\n",
        "df=df.round(decimals=2)\n",
        "# print('Top',list_top_elements[index_selected_top_k_retrival],\"PCA nr\",list_n_components[index_faiss_n_components])\n",
        "df.style.set_caption(\"Hello World\")"
      ],
      "metadata": {
        "colab": {
          "base_uri": "https://localhost:8080/",
          "height": 286
        },
        "id": "SLMp15tq19PI",
        "outputId": "72a27357-29e9-4c52-81d0-6a71f04a4e50"
      },
      "execution_count": 40,
      "outputs": [
        {
          "output_type": "execute_result",
          "data": {
            "text/plain": [
              "<pandas.io.formats.style.Styler at 0x78f9d418e680>"
            ],
            "text/html": [
              "<style type=\"text/css\">\n",
              "</style>\n",
              "<table id=\"T_161e2\" class=\"dataframe\">\n",
              "  <caption>Hello World</caption>\n",
              "  <thead>\n",
              "    <tr>\n",
              "      <th class=\"blank level0\" >&nbsp;</th>\n",
              "      <th id=\"T_161e2_level0_col0\" class=\"col_heading level0 col0\" >Faces</th>\n",
              "      <th id=\"T_161e2_level0_col1\" class=\"col_heading level0 col1\" >Prec.</th>\n",
              "      <th id=\"T_161e2_level0_col2\" class=\"col_heading level0 col2\" >Rec.</th>\n",
              "    </tr>\n",
              "  </thead>\n",
              "  <tbody>\n",
              "    <tr>\n",
              "      <th id=\"T_161e2_level0_row0\" class=\"row_heading level0 row0\" >0</th>\n",
              "      <td id=\"T_161e2_row0_col0\" class=\"data row0 col0\" >0</td>\n",
              "      <td id=\"T_161e2_row0_col1\" class=\"data row0 col1\" >1.000000</td>\n",
              "      <td id=\"T_161e2_row0_col2\" class=\"data row0 col2\" >0.070000</td>\n",
              "    </tr>\n",
              "    <tr>\n",
              "      <th id=\"T_161e2_level0_row1\" class=\"row_heading level0 row1\" >1</th>\n",
              "      <td id=\"T_161e2_row1_col0\" class=\"data row1 col0\" >1</td>\n",
              "      <td id=\"T_161e2_row1_col1\" class=\"data row1 col1\" >0.980000</td>\n",
              "      <td id=\"T_161e2_row1_col2\" class=\"data row1 col2\" >0.020000</td>\n",
              "    </tr>\n",
              "    <tr>\n",
              "      <th id=\"T_161e2_level0_row2\" class=\"row_heading level0 row2\" >2</th>\n",
              "      <td id=\"T_161e2_row2_col0\" class=\"data row2 col0\" >2</td>\n",
              "      <td id=\"T_161e2_row2_col1\" class=\"data row2 col1\" >1.000000</td>\n",
              "      <td id=\"T_161e2_row2_col2\" class=\"data row2 col2\" >0.040000</td>\n",
              "    </tr>\n",
              "    <tr>\n",
              "      <th id=\"T_161e2_level0_row3\" class=\"row_heading level0 row3\" >3</th>\n",
              "      <td id=\"T_161e2_row3_col0\" class=\"data row3 col0\" >3</td>\n",
              "      <td id=\"T_161e2_row3_col1\" class=\"data row3 col1\" >0.940000</td>\n",
              "      <td id=\"T_161e2_row3_col2\" class=\"data row3 col2\" >0.010000</td>\n",
              "    </tr>\n",
              "    <tr>\n",
              "      <th id=\"T_161e2_level0_row4\" class=\"row_heading level0 row4\" >4</th>\n",
              "      <td id=\"T_161e2_row4_col0\" class=\"data row4 col0\" >4</td>\n",
              "      <td id=\"T_161e2_row4_col1\" class=\"data row4 col1\" >0.960000</td>\n",
              "      <td id=\"T_161e2_row4_col2\" class=\"data row4 col2\" >0.050000</td>\n",
              "    </tr>\n",
              "    <tr>\n",
              "      <th id=\"T_161e2_level0_row5\" class=\"row_heading level0 row5\" >5</th>\n",
              "      <td id=\"T_161e2_row5_col0\" class=\"data row5 col0\" >5</td>\n",
              "      <td id=\"T_161e2_row5_col1\" class=\"data row5 col1\" >0.960000</td>\n",
              "      <td id=\"T_161e2_row5_col2\" class=\"data row5 col2\" >0.080000</td>\n",
              "    </tr>\n",
              "    <tr>\n",
              "      <th id=\"T_161e2_level0_row6\" class=\"row_heading level0 row6\" >6</th>\n",
              "      <td id=\"T_161e2_row6_col0\" class=\"data row6 col0\" >6</td>\n",
              "      <td id=\"T_161e2_row6_col1\" class=\"data row6 col1\" >0.980000</td>\n",
              "      <td id=\"T_161e2_row6_col2\" class=\"data row6 col2\" >0.040000</td>\n",
              "    </tr>\n",
              "  </tbody>\n",
              "</table>\n"
            ]
          },
          "metadata": {},
          "execution_count": 40
        }
      ]
    },
    {
      "cell_type": "code",
      "source": [
        "weather_df = pd.DataFrame(np.random.rand(10,2)*5,\n",
        "                          index=pd.date_range(start=\"2021-01-01\", periods=10),\n",
        "                          columns=[\"Tokyo\", \"Beijing\"])\n",
        "\n",
        "def rain_condition(v):\n",
        "    if v < 1.75:\n",
        "        return \"Dry\"\n",
        "    elif v < 2.75:\n",
        "        return \"Rain\"\n",
        "    return \"Heavy Rain\"\n",
        "\n",
        "def make_pretty(styler):\n",
        "    styler.set_caption(\"Weather Conditions\")\n",
        "    styler.format(rain_condition)\n",
        "    styler.format_index(lambda v: v.strftime(\"%A\"))\n",
        "    styler.background_gradient(axis=None, vmin=1, vmax=5, cmap=\"YlGnBu\")\n",
        "    return styler\n",
        "\n",
        "weather_df.style.pipe(make_pretty)"
      ],
      "metadata": {
        "colab": {
          "base_uri": "https://localhost:8080/",
          "height": 380
        },
        "id": "T-wV7wp4pqwj",
        "outputId": "cdf9fcc2-e5c4-468a-d82a-8e116c0e7e8d"
      },
      "execution_count": 28,
      "outputs": [
        {
          "output_type": "execute_result",
          "data": {
            "text/plain": [
              "<pandas.io.formats.style.Styler at 0x78f9dbeba260>"
            ],
            "text/html": [
              "<style type=\"text/css\">\n",
              "#T_4eab3_row0_col0 {\n",
              "  background-color: #d6efb3;\n",
              "  color: #000000;\n",
              "}\n",
              "#T_4eab3_row0_col1, #T_4eab3_row1_col0, #T_4eab3_row3_col0, #T_4eab3_row4_col1 {\n",
              "  background-color: #ffffd9;\n",
              "  color: #000000;\n",
              "}\n",
              "#T_4eab3_row1_col1 {\n",
              "  background-color: #ceecb3;\n",
              "  color: #000000;\n",
              "}\n",
              "#T_4eab3_row2_col0 {\n",
              "  background-color: #55bec1;\n",
              "  color: #000000;\n",
              "}\n",
              "#T_4eab3_row2_col1 {\n",
              "  background-color: #1f78b4;\n",
              "  color: #f1f1f1;\n",
              "}\n",
              "#T_4eab3_row3_col1 {\n",
              "  background-color: #1f7ab5;\n",
              "  color: #f1f1f1;\n",
              "}\n",
              "#T_4eab3_row4_col0 {\n",
              "  background-color: #83cebb;\n",
              "  color: #000000;\n",
              "}\n",
              "#T_4eab3_row5_col0 {\n",
              "  background-color: #71c8bd;\n",
              "  color: #000000;\n",
              "}\n",
              "#T_4eab3_row5_col1 {\n",
              "  background-color: #edf8b2;\n",
              "  color: #000000;\n",
              "}\n",
              "#T_4eab3_row6_col0 {\n",
              "  background-color: #46b8c3;\n",
              "  color: #f1f1f1;\n",
              "}\n",
              "#T_4eab3_row6_col1 {\n",
              "  background-color: #e0f3b2;\n",
              "  color: #000000;\n",
              "}\n",
              "#T_4eab3_row7_col0 {\n",
              "  background-color: #9ed9b8;\n",
              "  color: #000000;\n",
              "}\n",
              "#T_4eab3_row7_col1 {\n",
              "  background-color: #50bbc2;\n",
              "  color: #000000;\n",
              "}\n",
              "#T_4eab3_row8_col0 {\n",
              "  background-color: #cbebb4;\n",
              "  color: #000000;\n",
              "}\n",
              "#T_4eab3_row8_col1 {\n",
              "  background-color: #99d7b8;\n",
              "  color: #000000;\n",
              "}\n",
              "#T_4eab3_row9_col0 {\n",
              "  background-color: #c4e8b4;\n",
              "  color: #000000;\n",
              "}\n",
              "#T_4eab3_row9_col1 {\n",
              "  background-color: #f2fabc;\n",
              "  color: #000000;\n",
              "}\n",
              "</style>\n",
              "<table id=\"T_4eab3\" class=\"dataframe\">\n",
              "  <caption>Weather Conditions</caption>\n",
              "  <thead>\n",
              "    <tr>\n",
              "      <th class=\"blank level0\" >&nbsp;</th>\n",
              "      <th id=\"T_4eab3_level0_col0\" class=\"col_heading level0 col0\" >Tokyo</th>\n",
              "      <th id=\"T_4eab3_level0_col1\" class=\"col_heading level0 col1\" >Beijing</th>\n",
              "    </tr>\n",
              "  </thead>\n",
              "  <tbody>\n",
              "    <tr>\n",
              "      <th id=\"T_4eab3_level0_row0\" class=\"row_heading level0 row0\" >Friday</th>\n",
              "      <td id=\"T_4eab3_row0_col0\" class=\"data row0 col0\" >Rain</td>\n",
              "      <td id=\"T_4eab3_row0_col1\" class=\"data row0 col1\" >Dry</td>\n",
              "    </tr>\n",
              "    <tr>\n",
              "      <th id=\"T_4eab3_level0_row1\" class=\"row_heading level0 row1\" >Saturday</th>\n",
              "      <td id=\"T_4eab3_row1_col0\" class=\"data row1 col0\" >Dry</td>\n",
              "      <td id=\"T_4eab3_row1_col1\" class=\"data row1 col1\" >Rain</td>\n",
              "    </tr>\n",
              "    <tr>\n",
              "      <th id=\"T_4eab3_level0_row2\" class=\"row_heading level0 row2\" >Sunday</th>\n",
              "      <td id=\"T_4eab3_row2_col0\" class=\"data row2 col0\" >Heavy Rain</td>\n",
              "      <td id=\"T_4eab3_row2_col1\" class=\"data row2 col1\" >Heavy Rain</td>\n",
              "    </tr>\n",
              "    <tr>\n",
              "      <th id=\"T_4eab3_level0_row3\" class=\"row_heading level0 row3\" >Monday</th>\n",
              "      <td id=\"T_4eab3_row3_col0\" class=\"data row3 col0\" >Dry</td>\n",
              "      <td id=\"T_4eab3_row3_col1\" class=\"data row3 col1\" >Heavy Rain</td>\n",
              "    </tr>\n",
              "    <tr>\n",
              "      <th id=\"T_4eab3_level0_row4\" class=\"row_heading level0 row4\" >Tuesday</th>\n",
              "      <td id=\"T_4eab3_row4_col0\" class=\"data row4 col0\" >Rain</td>\n",
              "      <td id=\"T_4eab3_row4_col1\" class=\"data row4 col1\" >Dry</td>\n",
              "    </tr>\n",
              "    <tr>\n",
              "      <th id=\"T_4eab3_level0_row5\" class=\"row_heading level0 row5\" >Wednesday</th>\n",
              "      <td id=\"T_4eab3_row5_col0\" class=\"data row5 col0\" >Rain</td>\n",
              "      <td id=\"T_4eab3_row5_col1\" class=\"data row5 col1\" >Dry</td>\n",
              "    </tr>\n",
              "    <tr>\n",
              "      <th id=\"T_4eab3_level0_row6\" class=\"row_heading level0 row6\" >Thursday</th>\n",
              "      <td id=\"T_4eab3_row6_col0\" class=\"data row6 col0\" >Heavy Rain</td>\n",
              "      <td id=\"T_4eab3_row6_col1\" class=\"data row6 col1\" >Dry</td>\n",
              "    </tr>\n",
              "    <tr>\n",
              "      <th id=\"T_4eab3_level0_row7\" class=\"row_heading level0 row7\" >Friday</th>\n",
              "      <td id=\"T_4eab3_row7_col0\" class=\"data row7 col0\" >Rain</td>\n",
              "      <td id=\"T_4eab3_row7_col1\" class=\"data row7 col1\" >Heavy Rain</td>\n",
              "    </tr>\n",
              "    <tr>\n",
              "      <th id=\"T_4eab3_level0_row8\" class=\"row_heading level0 row8\" >Saturday</th>\n",
              "      <td id=\"T_4eab3_row8_col0\" class=\"data row8 col0\" >Rain</td>\n",
              "      <td id=\"T_4eab3_row8_col1\" class=\"data row8 col1\" >Rain</td>\n",
              "    </tr>\n",
              "    <tr>\n",
              "      <th id=\"T_4eab3_level0_row9\" class=\"row_heading level0 row9\" >Sunday</th>\n",
              "      <td id=\"T_4eab3_row9_col0\" class=\"data row9 col0\" >Rain</td>\n",
              "      <td id=\"T_4eab3_row9_col1\" class=\"data row9 col1\" >Dry</td>\n",
              "    </tr>\n",
              "  </tbody>\n",
              "</table>\n"
            ]
          },
          "metadata": {},
          "execution_count": 28
        }
      ]
    }
  ]
}