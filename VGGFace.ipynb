{
  "nbformat": 4,
  "nbformat_minor": 0,
  "metadata": {
    "colab": {
      "provenance": [],
      "authorship_tag": "ABX9TyOqdTERdgAZWUFFBJyE6hv5",
      "include_colab_link": true
    },
    "kernelspec": {
      "name": "python3",
      "display_name": "Python 3"
    },
    "language_info": {
      "name": "python"
    }
  },
  "cells": [
    {
      "cell_type": "markdown",
      "metadata": {
        "id": "view-in-github",
        "colab_type": "text"
      },
      "source": [
        "<a href=\"https://colab.research.google.com/github/villifCoder559/VGGFaceFeatures_PCA/blob/main/VGGFace.ipynb\" target=\"_parent\"><img src=\"https://colab.research.google.com/assets/colab-badge.svg\" alt=\"Open In Colab\"/></a>"
      ]
    },
    {
      "cell_type": "code",
      "source": [
        "!pip install faiss-cpu --no-cache"
      ],
      "metadata": {
        "id": "yjaRyJjosHEd"
      },
      "execution_count": null,
      "outputs": []
    },
    {
      "cell_type": "code",
      "source": [
        "!pip install git+https://github.com/rcmalli/keras-vggface.git\n",
        "!pip install tensorflow keras_applications\n",
        "!pip install layer_utils"
      ],
      "metadata": {
        "id": "WvE2z802PlYv"
      },
      "execution_count": null,
      "outputs": []
    },
    {
      "cell_type": "code",
      "source": [
        "!pip install keras==2.12"
      ],
      "metadata": {
        "id": "B4_W4a6SCKMr"
      },
      "execution_count": null,
      "outputs": []
    },
    {
      "cell_type": "code",
      "source": [
        "import numpy as np\n",
        "import pandas as pd\n",
        "import cv2\n",
        "import keras\n",
        "from keras_vggface.vggface import VGGFace\n",
        "from sklearn.datasets import fetch_lfw_people\n",
        "from skimage.transform import resize\n",
        "import faiss\n",
        "from sklearn.decomposition import PCA\n",
        "import matplotlib.pyplot as plt\n",
        "from sklearn import metrics\n",
        "import pandas as pd"
      ],
      "metadata": {
        "id": "yPyZ0drGU3D5"
      },
      "execution_count": 4,
      "outputs": []
    },
    {
      "cell_type": "code",
      "source": [
        "from sklearn.model_selection import train_test_split\n",
        "faces = fetch_lfw_people(min_faces_per_person=70,resize=2.3,color=True)\n",
        "X_train, X_test, y_train, y_test = train_test_split(faces.images, faces.target, test_size=0.1, random_state=2)"
      ],
      "metadata": {
        "id": "Zcxhg9ceNqr_"
      },
      "execution_count": 5,
      "outputs": []
    },
    {
      "cell_type": "code",
      "source": [
        "image_samples_train=np.copy(X_train)\n",
        "image_samples_train=np.array([cv2.resize(img,(224,224)) for img in image_samples_train])\n",
        "image_samples_train[:,:,:,0]=(image_samples_train[:,:,:,0]-np.mean(X_train[:,:,:,0]))/(np.std(X_train[:,:,:,0]))\n",
        "image_samples_train[:,:,:,1]=(image_samples_train[:,:,:,1]-np.mean(X_train[:,:,:,1]))/(np.std(X_train[:,:,:,1]))\n",
        "image_samples_train[:,:,:,2]=(image_samples_train[:,:,:,2]-np.mean(X_train[:,:,:,2]))/(np.std(X_train[:,:,:,2]))"
      ],
      "metadata": {
        "id": "LmuLa6h2k5zX"
      },
      "execution_count": 6,
      "outputs": []
    },
    {
      "cell_type": "code",
      "source": [
        "image_samples_test=np.copy(X_test)\n",
        "image_samples_test=np.array([cv2.resize(img,(224,224)) for img in image_samples_test])\n",
        "image_samples_test[:,:,:,0]=(image_samples_test[:,:,:,0]-np.mean(X_train[:,:,:,0]))/(np.std(X_train[:,:,:,0]))\n",
        "image_samples_test[:,:,:,1]=(image_samples_test[:,:,:,1]-np.mean(X_train[:,:,:,1]))/(np.std(X_train[:,:,:,1]))\n",
        "image_samples_test[:,:,:,2]=(image_samples_test[:,:,:,2]-np.mean(X_train[:,:,:,2]))/(np.std(X_train[:,:,:,2]))"
      ],
      "metadata": {
        "id": "cNCdu7MLaYa7"
      },
      "execution_count": 7,
      "outputs": []
    },
    {
      "cell_type": "markdown",
      "source": [
        "Possible comparisons pre-processing image after scaling 224x224:\n",
        "*   Centering and Standardization\n",
        "*   PCA (no,500,100,20)\n",
        "*   FlatL2 or FlatIP (faiss)\n",
        "*   Precision top 5,20,50,all"
      ],
      "metadata": {
        "id": "glcX5CjKiDI2"
      }
    },
    {
      "cell_type": "code",
      "execution_count": 8,
      "metadata": {
        "id": "B3fbqgKdBMbk"
      },
      "outputs": [],
      "source": [
        "# vggface = VGGFace(model='vgg16',include_top=False,input_shape=(image_samples_train.shape[1],image_samples_train.shape[2],image_samples_train.shape[3]))\n",
        "# # resized_images=[resize(img,output_shape=(224,224)) for img in faces.images]\n",
        "# result_train=vggface.predict(image_samples_train)\n",
        "# result_test=vggface.predict(image_samples_test)\n",
        "# original_result_train=np.copy(result_train)\n",
        "# original_result_test=np.copy(result_test)"
      ]
    },
    {
      "cell_type": "code",
      "source": [
        "from google.colab import drive\n",
        "drive.mount('/content/drive')\n",
        "drive_path = '/content/drive/MyDrive/'\n",
        "# np.save(os.path.join(drive_path, 'faces.npy'), faces)\n",
        "# np.save(os.path.join(drive_path, 'VGGFace_features_faces_norm_std_train.npy'), original_result_train)\n",
        "# np.save(os.path.join(drive_path, 'VGGFace_features_faces_norm_std_test.npy'), original_result_test)"
      ],
      "metadata": {
        "id": "pFvqiw-31-z5",
        "colab": {
          "base_uri": "https://localhost:8080/"
        },
        "outputId": "f2a1663e-04da-4ee7-b048-389f86aca1b6"
      },
      "execution_count": 9,
      "outputs": [
        {
          "output_type": "stream",
          "name": "stdout",
          "text": [
            "Mounted at /content/drive\n"
          ]
        }
      ]
    },
    {
      "cell_type": "code",
      "source": [
        "import os\n",
        "drive_path = '/content/drive/MyDrive/'\n",
        "result_train=np.load(os.path.join(drive_path, 'VGGFace_features_faces_norm_std_train.npy'),allow_pickle=True)\n",
        "result_test=np.load(os.path.join(drive_path, 'VGGFace_features_faces_norm_std_test.npy'),allow_pickle=True)"
      ],
      "metadata": {
        "id": "ylhbR17i2uDM"
      },
      "execution_count": 10,
      "outputs": []
    },
    {
      "cell_type": "code",
      "source": [
        "fixed_components=50\n",
        "def create_test_reduction(n_components,result_train):\n",
        "  features_reducted=result_train.reshape(result_train.shape[0],-1)\n",
        "  if n_components > 0:\n",
        "    tmp_PCA=PCA(n_components=n_components)\n",
        "    features_reducted=np.ascontiguousarray(tmp_PCA.fit_transform(features_reducted))\n",
        "  else:\n",
        "    tmp_PCA=PCA(n_components=fixed_components).fit(features_reducted)\n",
        "    features_reducted=custom_reduction(tmp_PCA,result_train,n_components)\n",
        "  faiss.normalize_L2(features_reducted)\n",
        "  return tmp_PCA,features_reducted,faiss.IndexFlatIP(features_reducted.shape[1])"
      ],
      "metadata": {
        "id": "v1RKwLuhXeDy"
      },
      "execution_count": 135,
      "outputs": []
    },
    {
      "cell_type": "code",
      "source": [
        "def custom_reduction(pca,result_train,start_index):\n",
        "  transformed_results = []\n",
        "  for element in result_train:\n",
        "    test = element.reshape(1, -1)\n",
        "    # Apply PCA transformation\n",
        "    transformed_result = np.dot(test - pca.mean_, pca.components_[(-start_index):].T)\n",
        "    transformed_results.append(transformed_result)\n",
        "  return np.array(transformed_results).reshape(result_train.shape[0],pca.components_.shape[0]+start_index)"
      ],
      "metadata": {
        "id": "7c8Y3ky9fZSf"
      },
      "execution_count": 12,
      "outputs": []
    },
    {
      "cell_type": "code",
      "source": [
        "pca_objs=[]\n",
        "list_n_components=[0] #0 -> No PCA, -K -> Without first K eigenvectors, +K -> Use K components\n",
        "features_objs=[]\n",
        "index_faiss_objs=[]\n",
        "for n_components in list_n_components:\n",
        "  if n_components>0:\n",
        "    pca,features,index=create_test_reduction(n_components,result_train)\n",
        "    pca_objs.append(pca)\n",
        "    features_objs.append(features)\n",
        "    index_faiss_objs.append(index)\n",
        "  else:\n",
        "    if(n_components<0):\n",
        "      pca,features,index=create_test_reduction(n_components,result_train)\n",
        "      pca_objs.append(pca)\n",
        "      features_objs.append(features)\n",
        "      index_faiss_objs.append(index)\n",
        "    else: # dummy PCA\n",
        "      pca_objs.append(PCA())\n",
        "      features_objs.append(result_train.reshape(result_train.shape[0],-1))\n",
        "      index_faiss_objs.append(faiss.IndexFlatIP(result_train.reshape(result_train.shape[0],-1).shape[1]))\n",
        "#add vectors to index\n",
        "count=0\n",
        "for index in index_faiss_objs:\n",
        "  print(features_objs[count].shape)\n",
        "  index.add(features_objs[count])\n",
        "  count=count+1"
      ],
      "metadata": {
        "colab": {
          "base_uri": "https://localhost:8080/"
        },
        "id": "Wcs4ZeZcJX4G",
        "outputId": "fb50237d-d5b9-4def-dc7b-23f2b98e2d11"
      },
      "execution_count": 171,
      "outputs": [
        {
          "output_type": "stream",
          "name": "stdout",
          "text": [
            "(1159, 25088)\n"
          ]
        }
      ]
    },
    {
      "cell_type": "code",
      "source": [
        "def compute_precision_recall(ground_truth,retrived_indices_faiss,target,retrive_all=False):\n",
        "  retrived_targets_id=ground_truth[retrived_indices_faiss]\n",
        "  TP=np.count_nonzero(retrived_targets_id==target)\n",
        "  total_samples=np.sum(ground_truth==target)\n",
        "  FP=retrived_indices_faiss.shape[1]-TP\n",
        "  precision=0\n",
        "  if TP+FP!=0:\n",
        "    precision=TP/(TP+FP)\n",
        "  recall=TP/(TP+(total_samples-TP))\n",
        "  return precision,recall"
      ],
      "metadata": {
        "id": "L-ot1LAZsQgg"
      },
      "execution_count": 144,
      "outputs": []
    },
    {
      "cell_type": "code",
      "source": [
        "tmp1=np.array([1,3,2,4,2,3,8])\n",
        "tmp1==3\n"
      ],
      "metadata": {
        "colab": {
          "base_uri": "https://localhost:8080/"
        },
        "id": "kwkDYvsh1-8c",
        "outputId": "29ba724c-a7e7-44cf-a048-4127d04f5bb9"
      },
      "execution_count": 233,
      "outputs": [
        {
          "output_type": "execute_result",
          "data": {
            "text/plain": [
              "array([False,  True, False, False, False,  True, False])"
            ]
          },
          "metadata": {},
          "execution_count": 233
        }
      ]
    },
    {
      "cell_type": "code",
      "source": [
        "def compute_precision_recall(ground_truth,target,index_faiss,top_k,reduced_vector,retrive_all=False):\n",
        "  TP=-1\n",
        "  # top_k-=1\n",
        "  reduced_vector=reduced_vector.reshape(1, -1)\n",
        "  # while TP==-1 or retrive_all:\n",
        "  _,retrived_elements=index.search(reduced_vector, X_train.shape[0])\n",
        "  # retrived_targets_id=ground_truth[retrived_elements]\n",
        "  retrived_targets_id=ground_truth[retrived_elements]==target\n",
        "  indices = np.where(retrived_targets_id.reshape(-1))[0]\n",
        "  if(top_k>len(indices)):\n",
        "    print('Face nr.',target,'max elements:',len(indices)-1,'(NOT',str(top_k)+')')\n",
        "    top_k=len(indices)\n",
        "  stop=indices[top_k-1]+1\n",
        "  TP=top_k\n",
        "  # TP=np.count_nonzero(retrived_targets_id[:stop]==target)\n",
        "  total_samples=np.sum(ground_truth==target)\n",
        "  # FP=retrived_elements.shape[1]-TP\n",
        "  FP=stop-TP\n",
        "  FN=total_samples-TP\n",
        "  precision=0\n",
        "  if TP+FP!=0:\n",
        "    precision=TP/(TP+FP)\n",
        "  recall=TP/((TP+FN))\n",
        "  if retrive_all:\n",
        "    top_k=top_k+1000\n",
        "  if recall==1:\n",
        "    retrive_all=False\n",
        "  return precision,recall"
      ],
      "metadata": {
        "id": "jzd9K7Oml09B"
      },
      "execution_count": 338,
      "outputs": []
    },
    {
      "cell_type": "code",
      "source": [
        "import time\n",
        "list_top_elements=[50]\n",
        "i=0\n",
        "j=0\n",
        "k=0\n",
        "precision_results=[]\n",
        "recall_results=[]\n",
        "name_results=[]\n",
        "list_precision_results=[]\n",
        "list_recall_results=[]\n",
        "test_vectors=result_test.reshape(result_test.shape[0],-1)\n",
        "# vector=result_test[count]\n",
        "for top_k in list_top_elements:\n",
        "  for index in index_faiss_objs:\n",
        "    for vector in test_vectors:\n",
        "      start=time.time()\n",
        "      if list_n_components[i] > 0:\n",
        "        reduced_vector=(vector.reshape(1,-1)-pca_objs[i].mean_)@pca_objs[i].components_.T\n",
        "      else:\n",
        "        if list_n_components[i] < 0:\n",
        "          reduced_vector=(vector.reshape(1,-1)-pca_objs[i].mean_)@pca_objs[i].components_[-list_n_components[i]:].T\n",
        "        else:\n",
        "          reduced_vector=vector\n",
        "      # _,retrived_elements=index.search((reduced_vector.reshape(1, -1)), top_k)\n",
        "      # precision,recall=compute_precision_recall(y_train,retrived_elements,y_test[j])\n",
        "      precision,recall=compute_precision_recall(y_train,y_test[j],index,top_k,reduced_vector,True)\n",
        "      name_results.append(y_test[j])\n",
        "      precision_results.append(precision)\n",
        "      recall_results.append(recall)\n",
        "      j=j+1\n",
        "      tmp=time.time()-start\n",
        "      # print('Time ',i,tmp)\n",
        "    i=i+1\n",
        "    j=0\n",
        "recall_results=np.array(recall_results).reshape(len(list_top_elements),len(index_faiss_objs),test_vectors.shape[0])\n",
        "precision_results=np.array(precision_results).reshape(len(list_top_elements),len(index_faiss_objs),test_vectors.shape[0])\n",
        "name_results=np.array(name_results).reshape(len(list_top_elements),len(index_faiss_objs),test_vectors.shape[0])"
      ],
      "metadata": {
        "id": "WpBTT2YzqBTP"
      },
      "execution_count": 347,
      "outputs": []
    },
    {
      "cell_type": "code",
      "source": [
        "def create_DataFrame(id_labels,selected_name_result,selected_precision_result,normalization_factors,index_faiss_n_components,list_n_components,index_selected_top_k_retrival):\n",
        "  str_top_k=str(list_top_elements[index_selected_top_k_retrival])\n",
        "  df = pd.DataFrame({\n",
        "    \"Faces\":id_labels,\n",
        "    (\"P@\"+str_top_k+'_'+str(list_n_components[index_faiss_n_components])):np.bincount(selected_name_result,weights=selected_precision_result)/normalization_factors,\n",
        "    (\"R@\"+str_top_k+'_'+str(list_n_components[index_faiss_n_components])):np.bincount(selected_name_result,weights=selected_recall_result)/normalization_factors,\n",
        "  })\n",
        "  return df\n",
        "  # if(list_n_components[index_faiss_n_components]>0):\n",
        "  #   return df.style.set_caption(\"nr comp.\"+str(list_n_components[index_faiss_n_components]))\n",
        "  # elif list_n_components[index_faiss_n_components]==0:\n",
        "  #   return df.style.set_caption(\"nr comp. Full dimension\")\n",
        "  # else:\n",
        "  #   return df.style.set_caption(\"W/o first \"+str(-list_n_components[index_faiss_n_components])+' components')"
      ],
      "metadata": {
        "id": "Jh9hY2qno4n4"
      },
      "execution_count": 344,
      "outputs": []
    },
    {
      "cell_type": "code",
      "source": [
        "# index_selected_top_k_retrival = 0 # precision_results.shape[0]\n",
        "# index_faiss_n_components = 4 # precision_results.shape[1]\n",
        "df_list=[]\n",
        "for i in range(precision_results.shape[0]):\n",
        "  for j in range(precision_results.shape[1]):\n",
        "    selected_name_result = name_results[i][j]\n",
        "    selected_recall_result = recall_results[i][j]\n",
        "    selected_precision_result = precision_results[i][j]\n",
        "    id_labels,normalization_factors = np.unique(y_test,return_counts=True)\n",
        "    df=create_DataFrame(id_labels,selected_name_result,selected_precision_result,normalization_factors,j,list_n_components,i)\n",
        "    df_list.append(df)"
      ],
      "metadata": {
        "id": "wccn9Ttfn_LI"
      },
      "execution_count": 345,
      "outputs": []
    },
    {
      "cell_type": "code",
      "source": [
        "merged_df=df_list[0]\n",
        "for i in range(1,len(df_list)):\n",
        "  merged_df=pd.merge(merged_df,df_list[i])\n",
        "merged_df.drop(columns=['Faces']).style.highlight_max(color = 'green', axis = 1).highlight_min(color = 'red', axis = 1)"
      ],
      "metadata": {
        "colab": {
          "base_uri": "https://localhost:8080/",
          "height": 269
        },
        "id": "WN-GO2P6wR5r",
        "outputId": "93680cd5-c9a0-4e99-8783-d76a33d6aad8"
      },
      "execution_count": 346,
      "outputs": [
        {
          "output_type": "execute_result",
          "data": {
            "text/plain": [
              "<pandas.io.formats.style.Styler at 0x7fdb71a4c370>"
            ],
            "text/html": [
              "<style type=\"text/css\">\n",
              "#T_a826b_row0_col0, #T_a826b_row1_col0, #T_a826b_row2_col0, #T_a826b_row3_col0, #T_a826b_row4_col0, #T_a826b_row5_col0, #T_a826b_row6_col0 {\n",
              "  background-color: green;\n",
              "}\n",
              "#T_a826b_row0_col1, #T_a826b_row1_col1, #T_a826b_row2_col1, #T_a826b_row3_col1, #T_a826b_row4_col1, #T_a826b_row5_col1, #T_a826b_row6_col1 {\n",
              "  background-color: red;\n",
              "}\n",
              "</style>\n",
              "<table id=\"T_a826b\" class=\"dataframe\">\n",
              "  <thead>\n",
              "    <tr>\n",
              "      <th class=\"blank level0\" >&nbsp;</th>\n",
              "      <th id=\"T_a826b_level0_col0\" class=\"col_heading level0 col0\" >P@5_0</th>\n",
              "      <th id=\"T_a826b_level0_col1\" class=\"col_heading level0 col1\" >R@5_0</th>\n",
              "    </tr>\n",
              "  </thead>\n",
              "  <tbody>\n",
              "    <tr>\n",
              "      <th id=\"T_a826b_level0_row0\" class=\"row_heading level0 row0\" >0</th>\n",
              "      <td id=\"T_a826b_row0_col0\" class=\"data row0 col0\" >0.912698</td>\n",
              "      <td id=\"T_a826b_row0_col1\" class=\"data row0 col1\" >0.073529</td>\n",
              "    </tr>\n",
              "    <tr>\n",
              "      <th id=\"T_a826b_level0_row1\" class=\"row_heading level0 row1\" >1</th>\n",
              "      <td id=\"T_a826b_row1_col0\" class=\"data row1 col0\" >1.000000</td>\n",
              "      <td id=\"T_a826b_row1_col1\" class=\"data row1 col1\" >0.025126</td>\n",
              "    </tr>\n",
              "    <tr>\n",
              "      <th id=\"T_a826b_level0_row2\" class=\"row_heading level0 row2\" >2</th>\n",
              "      <td id=\"T_a826b_row2_col0\" class=\"data row2 col0\" >0.849346</td>\n",
              "      <td id=\"T_a826b_row2_col1\" class=\"data row2 col1\" >0.044643</td>\n",
              "    </tr>\n",
              "    <tr>\n",
              "      <th id=\"T_a826b_level0_row3\" class=\"row_heading level0 row3\" >3</th>\n",
              "      <td id=\"T_a826b_row3_col0\" class=\"data row3 col0\" >0.996032</td>\n",
              "      <td id=\"T_a826b_row3_col1\" class=\"data row3 col1\" >0.010246</td>\n",
              "    </tr>\n",
              "    <tr>\n",
              "      <th id=\"T_a826b_level0_row4\" class=\"row_heading level0 row4\" >4</th>\n",
              "      <td id=\"T_a826b_row4_col0\" class=\"data row4 col0\" >0.612458</td>\n",
              "      <td id=\"T_a826b_row4_col1\" class=\"data row4 col1\" >0.050505</td>\n",
              "    </tr>\n",
              "    <tr>\n",
              "      <th id=\"T_a826b_level0_row5\" class=\"row_heading level0 row5\" >5</th>\n",
              "      <td id=\"T_a826b_row5_col0\" class=\"data row5 col0\" >0.944444</td>\n",
              "      <td id=\"T_a826b_row5_col1\" class=\"data row5 col1\" >0.080645</td>\n",
              "    </tr>\n",
              "    <tr>\n",
              "      <th id=\"T_a826b_level0_row6\" class=\"row_heading level0 row6\" >6</th>\n",
              "      <td id=\"T_a826b_row6_col0\" class=\"data row6 col0\" >0.800214</td>\n",
              "      <td id=\"T_a826b_row6_col1\" class=\"data row6 col1\" >0.038168</td>\n",
              "    </tr>\n",
              "  </tbody>\n",
              "</table>\n"
            ]
          },
          "metadata": {},
          "execution_count": 346
        }
      ]
    }
  ]
}